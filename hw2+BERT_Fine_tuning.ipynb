{
  "nbformat": 4,
  "nbformat_minor": 0,
  "metadata": {
    "colab": {
      "provenance": []
    },
    "kernelspec": {
      "name": "python3",
      "display_name": "Python 3"
    },
    "accelerator": "GPU",
    "widgets": {
      "application/vnd.jupyter.widget-state+json": {
        "daf5e67bbb2f41fba64c013a6db8c78f": {
          "model_module": "@jupyter-widgets/controls",
          "model_name": "HBoxModel",
          "model_module_version": "1.5.0",
          "state": {
            "_dom_classes": [],
            "_model_module": "@jupyter-widgets/controls",
            "_model_module_version": "1.5.0",
            "_model_name": "HBoxModel",
            "_view_count": null,
            "_view_module": "@jupyter-widgets/controls",
            "_view_module_version": "1.5.0",
            "_view_name": "HBoxView",
            "box_style": "",
            "children": [
              "IPY_MODEL_ca9b3234351048909568033ec8afb9bc",
              "IPY_MODEL_78fe840f1323470ea2ebd10a16b31b6f",
              "IPY_MODEL_8ed1836c03d34e889c287df7bc909a62"
            ],
            "layout": "IPY_MODEL_58cdd65f30ec4529bfca129ecb0969b1"
          }
        },
        "ca9b3234351048909568033ec8afb9bc": {
          "model_module": "@jupyter-widgets/controls",
          "model_name": "HTMLModel",
          "model_module_version": "1.5.0",
          "state": {
            "_dom_classes": [],
            "_model_module": "@jupyter-widgets/controls",
            "_model_module_version": "1.5.0",
            "_model_name": "HTMLModel",
            "_view_count": null,
            "_view_module": "@jupyter-widgets/controls",
            "_view_module_version": "1.5.0",
            "_view_name": "HTMLView",
            "description": "",
            "description_tooltip": null,
            "layout": "IPY_MODEL_dbecdcdd7a2945a9a41572fe0044843b",
            "placeholder": "​",
            "style": "IPY_MODEL_7f1f116ea17f41a689e48647e0e1d1bd",
            "value": "Downloading: 100%"
          }
        },
        "78fe840f1323470ea2ebd10a16b31b6f": {
          "model_module": "@jupyter-widgets/controls",
          "model_name": "FloatProgressModel",
          "model_module_version": "1.5.0",
          "state": {
            "_dom_classes": [],
            "_model_module": "@jupyter-widgets/controls",
            "_model_module_version": "1.5.0",
            "_model_name": "FloatProgressModel",
            "_view_count": null,
            "_view_module": "@jupyter-widgets/controls",
            "_view_module_version": "1.5.0",
            "_view_name": "ProgressView",
            "bar_style": "success",
            "description": "",
            "description_tooltip": null,
            "layout": "IPY_MODEL_29e96049a2fb49db8877f01fe5565561",
            "max": 672271273,
            "min": 0,
            "orientation": "horizontal",
            "style": "IPY_MODEL_7cff5aea45234b9abe3dcf6786f702bc",
            "value": 672271273
          }
        },
        "8ed1836c03d34e889c287df7bc909a62": {
          "model_module": "@jupyter-widgets/controls",
          "model_name": "HTMLModel",
          "model_module_version": "1.5.0",
          "state": {
            "_dom_classes": [],
            "_model_module": "@jupyter-widgets/controls",
            "_model_module_version": "1.5.0",
            "_model_name": "HTMLModel",
            "_view_count": null,
            "_view_module": "@jupyter-widgets/controls",
            "_view_module_version": "1.5.0",
            "_view_name": "HTMLView",
            "description": "",
            "description_tooltip": null,
            "layout": "IPY_MODEL_4316bd3c98f9488daf6002c8f2714fb1",
            "placeholder": "​",
            "style": "IPY_MODEL_bfb950a2b6ec4fa890986b68efe41c2c",
            "value": " 672M/672M [00:17&lt;00:00, 71.0MB/s]"
          }
        },
        "58cdd65f30ec4529bfca129ecb0969b1": {
          "model_module": "@jupyter-widgets/base",
          "model_name": "LayoutModel",
          "model_module_version": "1.2.0",
          "state": {
            "_model_module": "@jupyter-widgets/base",
            "_model_module_version": "1.2.0",
            "_model_name": "LayoutModel",
            "_view_count": null,
            "_view_module": "@jupyter-widgets/base",
            "_view_module_version": "1.2.0",
            "_view_name": "LayoutView",
            "align_content": null,
            "align_items": null,
            "align_self": null,
            "border": null,
            "bottom": null,
            "display": null,
            "flex": null,
            "flex_flow": null,
            "grid_area": null,
            "grid_auto_columns": null,
            "grid_auto_flow": null,
            "grid_auto_rows": null,
            "grid_column": null,
            "grid_gap": null,
            "grid_row": null,
            "grid_template_areas": null,
            "grid_template_columns": null,
            "grid_template_rows": null,
            "height": null,
            "justify_content": null,
            "justify_items": null,
            "left": null,
            "margin": null,
            "max_height": null,
            "max_width": null,
            "min_height": null,
            "min_width": null,
            "object_fit": null,
            "object_position": null,
            "order": null,
            "overflow": null,
            "overflow_x": null,
            "overflow_y": null,
            "padding": null,
            "right": null,
            "top": null,
            "visibility": null,
            "width": null
          }
        },
        "dbecdcdd7a2945a9a41572fe0044843b": {
          "model_module": "@jupyter-widgets/base",
          "model_name": "LayoutModel",
          "model_module_version": "1.2.0",
          "state": {
            "_model_module": "@jupyter-widgets/base",
            "_model_module_version": "1.2.0",
            "_model_name": "LayoutModel",
            "_view_count": null,
            "_view_module": "@jupyter-widgets/base",
            "_view_module_version": "1.2.0",
            "_view_name": "LayoutView",
            "align_content": null,
            "align_items": null,
            "align_self": null,
            "border": null,
            "bottom": null,
            "display": null,
            "flex": null,
            "flex_flow": null,
            "grid_area": null,
            "grid_auto_columns": null,
            "grid_auto_flow": null,
            "grid_auto_rows": null,
            "grid_column": null,
            "grid_gap": null,
            "grid_row": null,
            "grid_template_areas": null,
            "grid_template_columns": null,
            "grid_template_rows": null,
            "height": null,
            "justify_content": null,
            "justify_items": null,
            "left": null,
            "margin": null,
            "max_height": null,
            "max_width": null,
            "min_height": null,
            "min_width": null,
            "object_fit": null,
            "object_position": null,
            "order": null,
            "overflow": null,
            "overflow_x": null,
            "overflow_y": null,
            "padding": null,
            "right": null,
            "top": null,
            "visibility": null,
            "width": null
          }
        },
        "7f1f116ea17f41a689e48647e0e1d1bd": {
          "model_module": "@jupyter-widgets/controls",
          "model_name": "DescriptionStyleModel",
          "model_module_version": "1.5.0",
          "state": {
            "_model_module": "@jupyter-widgets/controls",
            "_model_module_version": "1.5.0",
            "_model_name": "DescriptionStyleModel",
            "_view_count": null,
            "_view_module": "@jupyter-widgets/base",
            "_view_module_version": "1.2.0",
            "_view_name": "StyleView",
            "description_width": ""
          }
        },
        "29e96049a2fb49db8877f01fe5565561": {
          "model_module": "@jupyter-widgets/base",
          "model_name": "LayoutModel",
          "model_module_version": "1.2.0",
          "state": {
            "_model_module": "@jupyter-widgets/base",
            "_model_module_version": "1.2.0",
            "_model_name": "LayoutModel",
            "_view_count": null,
            "_view_module": "@jupyter-widgets/base",
            "_view_module_version": "1.2.0",
            "_view_name": "LayoutView",
            "align_content": null,
            "align_items": null,
            "align_self": null,
            "border": null,
            "bottom": null,
            "display": null,
            "flex": null,
            "flex_flow": null,
            "grid_area": null,
            "grid_auto_columns": null,
            "grid_auto_flow": null,
            "grid_auto_rows": null,
            "grid_column": null,
            "grid_gap": null,
            "grid_row": null,
            "grid_template_areas": null,
            "grid_template_columns": null,
            "grid_template_rows": null,
            "height": null,
            "justify_content": null,
            "justify_items": null,
            "left": null,
            "margin": null,
            "max_height": null,
            "max_width": null,
            "min_height": null,
            "min_width": null,
            "object_fit": null,
            "object_position": null,
            "order": null,
            "overflow": null,
            "overflow_x": null,
            "overflow_y": null,
            "padding": null,
            "right": null,
            "top": null,
            "visibility": null,
            "width": null
          }
        },
        "7cff5aea45234b9abe3dcf6786f702bc": {
          "model_module": "@jupyter-widgets/controls",
          "model_name": "ProgressStyleModel",
          "model_module_version": "1.5.0",
          "state": {
            "_model_module": "@jupyter-widgets/controls",
            "_model_module_version": "1.5.0",
            "_model_name": "ProgressStyleModel",
            "_view_count": null,
            "_view_module": "@jupyter-widgets/base",
            "_view_module_version": "1.2.0",
            "_view_name": "StyleView",
            "bar_color": null,
            "description_width": ""
          }
        },
        "4316bd3c98f9488daf6002c8f2714fb1": {
          "model_module": "@jupyter-widgets/base",
          "model_name": "LayoutModel",
          "model_module_version": "1.2.0",
          "state": {
            "_model_module": "@jupyter-widgets/base",
            "_model_module_version": "1.2.0",
            "_model_name": "LayoutModel",
            "_view_count": null,
            "_view_module": "@jupyter-widgets/base",
            "_view_module_version": "1.2.0",
            "_view_name": "LayoutView",
            "align_content": null,
            "align_items": null,
            "align_self": null,
            "border": null,
            "bottom": null,
            "display": null,
            "flex": null,
            "flex_flow": null,
            "grid_area": null,
            "grid_auto_columns": null,
            "grid_auto_flow": null,
            "grid_auto_rows": null,
            "grid_column": null,
            "grid_gap": null,
            "grid_row": null,
            "grid_template_areas": null,
            "grid_template_columns": null,
            "grid_template_rows": null,
            "height": null,
            "justify_content": null,
            "justify_items": null,
            "left": null,
            "margin": null,
            "max_height": null,
            "max_width": null,
            "min_height": null,
            "min_width": null,
            "object_fit": null,
            "object_position": null,
            "order": null,
            "overflow": null,
            "overflow_x": null,
            "overflow_y": null,
            "padding": null,
            "right": null,
            "top": null,
            "visibility": null,
            "width": null
          }
        },
        "bfb950a2b6ec4fa890986b68efe41c2c": {
          "model_module": "@jupyter-widgets/controls",
          "model_name": "DescriptionStyleModel",
          "model_module_version": "1.5.0",
          "state": {
            "_model_module": "@jupyter-widgets/controls",
            "_model_module_version": "1.5.0",
            "_model_name": "DescriptionStyleModel",
            "_view_count": null,
            "_view_module": "@jupyter-widgets/base",
            "_view_module_version": "1.2.0",
            "_view_name": "StyleView",
            "description_width": ""
          }
        }
      }
    }
  },
  "cells": [
    {
      "cell_type": "markdown",
      "metadata": {
        "id": "EKOTlwcmxmej"
      },
      "source": [
        "# BERT Fine-Tuning Tutorial with PyTorch\n",
        "\n",
        "By Chris McCormick and Nick Ryan"
      ]
    },
    {
      "cell_type": "markdown",
      "metadata": {
        "id": "MPgpITmdwvX0"
      },
      "source": [
        "*Revised on 12/13/19 to use the new [transformers](https://github.com/huggingface/transformers) interface.*\n",
        "\n",
        "\n"
      ]
    },
    {
      "cell_type": "markdown",
      "metadata": {
        "id": "BJR6t_gCQe_x"
      },
      "source": [
        "In this tutorial I'll show you how to use BERT with the huggingface PyTorch library to quickly and efficiently fine-tune a model to get near state of the art performance in sentence classification. More broadly, I describe the practical application of transfer learning in NLP to create high performance models with minimal effort on a range of NLP tasks.\n",
        "\n",
        "This post is presented in two forms--as a blog post [here](http://mccormickml.com/2019/07/22/BERT-fine-tuning/) and as a Colab Notebook [here](https://colab.research.google.com/drive/1Y4o3jh3ZH70tl6mCd76vz_IxX23biCPP). \n",
        "\n",
        "The content is identical in both, but: \n",
        "* The blog post includes a comments section for discussion. \n",
        "* The Colab Notebook will allow you to run the code and inspect it as you read through.\n",
        "\n",
        "I've also published a video walkthrough of this post on my YouTube channel! [Part 1](https://youtu.be/x66kkDnbzi4) and [Part 2](https://youtu.be/Hnvb9b7a_Ps).\n",
        "\n"
      ]
    },
    {
      "cell_type": "markdown",
      "metadata": {
        "id": "ADkUGTqixRWo"
      },
      "source": [
        "# Introduction"
      ]
    },
    {
      "cell_type": "markdown",
      "metadata": {
        "id": "L9vxxTBsuL24"
      },
      "source": [
        "\n",
        "## History\n",
        "\n",
        "2018 was a breakthrough year in NLP. Transfer learning, particularly models like Allen AI's ELMO, OpenAI's Open-GPT, and Google's BERT allowed researchers to smash multiple benchmarks with minimal task-specific fine-tuning and provided the rest of the NLP community with pretrained models that could easily (with less data and less compute time) be fine-tuned and implemented to produce state of the art results. Unfortunately, for many starting out in NLP and even for some experienced practicioners, the theory and practical application of these powerful models is still not well understood.\n"
      ]
    },
    {
      "cell_type": "markdown",
      "metadata": {
        "id": "qCgvR9INuP5q"
      },
      "source": [
        "\n",
        "## What is BERT?\n",
        "\n",
        "BERT (Bidirectional Encoder Representations from Transformers), released in late 2018, is the model we will use in this tutorial to provide readers with a better understanding of and practical guidance for using transfer learning models in NLP. BERT is a method of pretraining language representations that was used to create models that NLP practicioners can then download and use for free. You can either use these models to extract high quality language features from your text data, or you can fine-tune these models on a specific task (classification, entity recognition, question answering, etc.) with your own data to produce state of the art predictions.\n",
        "\n",
        "This post will explain how you can modify and fine-tune BERT to create a powerful NLP model that quickly gives you state of the art results. \n"
      ]
    },
    {
      "cell_type": "markdown",
      "metadata": {
        "id": "DaVGdtOkuXUZ"
      },
      "source": [
        "\n",
        "## Advantages of Fine-Tuning\n"
      ]
    },
    {
      "cell_type": "markdown",
      "metadata": {
        "id": "5llwu8GBuqMb"
      },
      "source": [
        "\n",
        "In this tutorial, we will use BERT to train a text classifier. Specifically, we will take the pre-trained BERT model, add an untrained layer of neurons on the end, and train the new model for our classification task. Why do this rather than train a train a specific deep learning model (a CNN, BiLSTM, etc.) that is well suited for the specific NLP task you need? \n",
        "\n",
        "1. **Quicker Development**\n",
        "\n",
        "    * First, the pre-trained BERT model weights already encode a lot of information about our language. As a result, it takes much less time to train our fine-tuned model - it is as if we have already trained the bottom layers of our network extensively and only need to gently tune them while using their output as features for our classification task. In fact, the authors recommend only 2-4 epochs of training for fine-tuning BERT on a specific NLP task (compared to the hundreds of GPU hours needed to train the original BERT model or a LSTM from scratch!). \n",
        "\n",
        "2. **Less Data**\n",
        "\n",
        "    * In addition and perhaps just as important, because of the pre-trained weights this method allows us to fine-tune our task on a much smaller dataset than would be required in a model that is built from scratch. A major drawback of NLP models built from scratch is that we often need a prohibitively large dataset in order to train our network to reasonable accuracy, meaning a lot of time and energy had to be put into dataset creation. By fine-tuning BERT, we are now able to get away with training a model to good performance on a much smaller amount of training data.\n",
        "\n",
        "3. **Better Results**\n",
        "\n",
        "    * Finally, this simple fine-tuning procedure (typically adding one fully-connected layer on top of BERT and training for a few epochs) was shown to achieve state of the art results with minimal task-specific adjustments for a wide variety of tasks: classification, language inference, semantic similarity, question answering, etc. Rather than implementing custom and sometimes-obscure architetures shown to work well on a specific task, simply fine-tuning BERT is shown to be a better (or at least equal) alternative.\n"
      ]
    },
    {
      "cell_type": "markdown",
      "metadata": {
        "id": "RX_ZDhicpHkV"
      },
      "source": [
        "# 1. Setup"
      ]
    },
    {
      "cell_type": "markdown",
      "metadata": {
        "id": "nSU7yERLP_66"
      },
      "source": [
        "## 1.1. Using Colab GPU for Training\n"
      ]
    },
    {
      "cell_type": "markdown",
      "metadata": {
        "id": "GI0iOY8zvZzL"
      },
      "source": [
        "\n",
        "Google Colab offers free GPUs and TPUs! Since we'll be training a large neural network it's best to take advantage of this (in this case we'll attach a GPU), otherwise training will take a very long time.\n",
        "\n",
        "A GPU can be added by going to the menu and selecting:\n",
        "\n",
        "`Edit 🡒 Notebook Settings 🡒 Hardware accelerator 🡒 (GPU)`\n",
        "\n",
        "Then run the following cell to confirm that the GPU is detected."
      ]
    },
    {
      "cell_type": "markdown",
      "metadata": {
        "id": "cqG7FzRVFEIv"
      },
      "source": [
        "In order for torch to use the GPU, we need to identify and specify the GPU as the device. Later, in our training loop, we will load data onto the device. "
      ]
    },
    {
      "cell_type": "code",
      "metadata": {
        "id": "oYsV4H8fCpZ-",
        "colab": {
          "base_uri": "https://localhost:8080/"
        },
        "outputId": "306625f2-e00a-4250-f7da-69f15793f2a1"
      },
      "source": [
        "import torch\n",
        "\n",
        "# If there's a GPU available...\n",
        "if torch.cuda.is_available():    \n",
        "\n",
        "    # Tell PyTorch to use the GPU.    \n",
        "    device = torch.device(\"cuda\")\n",
        "\n",
        "    print('There are %d GPU(s) available.' % torch.cuda.device_count())\n",
        "\n",
        "    print('We will use the GPU:', torch.cuda.get_device_name(0))\n",
        "\n",
        "# If not...\n",
        "else:\n",
        "    print('No GPU available, using the CPU instead.')\n",
        "    device = torch.device(\"cpu\")"
      ],
      "execution_count": 1,
      "outputs": [
        {
          "output_type": "stream",
          "name": "stdout",
          "text": [
            "There are 1 GPU(s) available.\n",
            "We will use the GPU: Tesla T4\n"
          ]
        }
      ]
    },
    {
      "cell_type": "markdown",
      "metadata": {
        "id": "2ElsnSNUridI"
      },
      "source": [
        "## 1.2. Installing the Hugging Face Library\n"
      ]
    },
    {
      "cell_type": "markdown",
      "metadata": {
        "id": "G_N2UDLevYWn"
      },
      "source": [
        "\n",
        "Next, let's install the [transformers](https://github.com/huggingface/transformers) package from Hugging Face which will give us a pytorch interface for working with BERT. (This library contains interfaces for other pretrained language models like OpenAI's GPT and GPT-2.) We've selected the pytorch interface because it strikes a nice balance between the high-level APIs (which are easy to use but don't provide insight into how things work) and tensorflow code (which contains lots of details but often sidetracks us into lessons about tensorflow, when the purpose here is BERT!).\n",
        "\n",
        "At the moment, the Hugging Face library seems to be the most widely accepted and powerful pytorch interface for working with BERT. In addition to supporting a variety of different pre-trained transformer models, the library also includes pre-built modifications of these models suited to your specific task. For example, in this tutorial we will use `BertForSequenceClassification`.\n",
        "\n",
        "The library also includes task-specific classes for token classification, question answering, next sentence prediciton, etc. Using these pre-built classes simplifies the process of modifying BERT for your purposes.\n"
      ]
    },
    {
      "cell_type": "code",
      "metadata": {
        "id": "0NmMdkZO8R6q",
        "colab": {
          "base_uri": "https://localhost:8080/"
        },
        "outputId": "35481341-e7a7-4c39-94c5-f1d1a74d402d"
      },
      "source": [
        "!pip install transformers"
      ],
      "execution_count": 2,
      "outputs": [
        {
          "output_type": "stream",
          "name": "stdout",
          "text": [
            "Looking in indexes: https://pypi.org/simple, https://us-python.pkg.dev/colab-wheels/public/simple/\n",
            "Requirement already satisfied: transformers in /usr/local/lib/python3.8/dist-packages (4.25.1)\n",
            "Requirement already satisfied: packaging>=20.0 in /usr/local/lib/python3.8/dist-packages (from transformers) (21.3)\n",
            "Requirement already satisfied: huggingface-hub<1.0,>=0.10.0 in /usr/local/lib/python3.8/dist-packages (from transformers) (0.11.1)\n",
            "Requirement already satisfied: pyyaml>=5.1 in /usr/local/lib/python3.8/dist-packages (from transformers) (6.0)\n",
            "Requirement already satisfied: tqdm>=4.27 in /usr/local/lib/python3.8/dist-packages (from transformers) (4.64.1)\n",
            "Requirement already satisfied: regex!=2019.12.17 in /usr/local/lib/python3.8/dist-packages (from transformers) (2022.6.2)\n",
            "Requirement already satisfied: requests in /usr/local/lib/python3.8/dist-packages (from transformers) (2.23.0)\n",
            "Requirement already satisfied: filelock in /usr/local/lib/python3.8/dist-packages (from transformers) (3.8.0)\n",
            "Requirement already satisfied: numpy>=1.17 in /usr/local/lib/python3.8/dist-packages (from transformers) (1.21.6)\n",
            "Requirement already satisfied: tokenizers!=0.11.3,<0.14,>=0.11.1 in /usr/local/lib/python3.8/dist-packages (from transformers) (0.13.2)\n",
            "Requirement already satisfied: typing-extensions>=3.7.4.3 in /usr/local/lib/python3.8/dist-packages (from huggingface-hub<1.0,>=0.10.0->transformers) (4.1.1)\n",
            "Requirement already satisfied: pyparsing!=3.0.5,>=2.0.2 in /usr/local/lib/python3.8/dist-packages (from packaging>=20.0->transformers) (3.0.9)\n",
            "Requirement already satisfied: chardet<4,>=3.0.2 in /usr/local/lib/python3.8/dist-packages (from requests->transformers) (3.0.4)\n",
            "Requirement already satisfied: certifi>=2017.4.17 in /usr/local/lib/python3.8/dist-packages (from requests->transformers) (2022.9.24)\n",
            "Requirement already satisfied: urllib3!=1.25.0,!=1.25.1,<1.26,>=1.21.1 in /usr/local/lib/python3.8/dist-packages (from requests->transformers) (1.24.3)\n",
            "Requirement already satisfied: idna<3,>=2.5 in /usr/local/lib/python3.8/dist-packages (from requests->transformers) (2.10)\n"
          ]
        }
      ]
    },
    {
      "cell_type": "markdown",
      "metadata": {
        "id": "lxddqmruamSj"
      },
      "source": [
        "The code in this notebook is actually a simplified version of the [run_glue.py](https://github.com/huggingface/transformers/blob/master/examples/run_glue.py) example script from huggingface.\n",
        "\n",
        "`run_glue.py` is a helpful utility which allows you to pick which GLUE benchmark task you want to run on, and which pre-trained model you want to use (you can see the list of possible models [here](https://github.com/huggingface/transformers/blob/e6cff60b4cbc1158fbd6e4a1c3afda8dc224f566/examples/run_glue.py#L69)). It also supports using either the CPU, a single GPU, or multiple GPUs. It even supports using 16-bit precision if you want further speed up.\n",
        "\n",
        "Unfortunately, all of this configurability comes at the cost of *readability*. In this Notebook, we've simplified the code greatly and added plenty of comments to make it clear what's going on. "
      ]
    },
    {
      "cell_type": "markdown",
      "metadata": {
        "id": "guw6ZNtaswKc"
      },
      "source": [
        "# 2. Loading CoLA Dataset\n"
      ]
    },
    {
      "cell_type": "markdown",
      "metadata": {
        "id": "_9ZKxKc04Btk"
      },
      "source": [
        "We'll use [The Corpus of Linguistic Acceptability (CoLA)](https://nyu-mll.github.io/CoLA/) dataset for single sentence classification. It's a set of sentences labeled as grammatically correct or incorrect. It was first published in May of 2018, and is one of the tests included in the \"GLUE Benchmark\" on which models like BERT are competing.\n"
      ]
    },
    {
      "cell_type": "markdown",
      "metadata": {
        "id": "4JrUHXms16cn"
      },
      "source": [
        "## 2.1. Download & Extract"
      ]
    },
    {
      "cell_type": "markdown",
      "metadata": {
        "id": "3ZNVW6xd0T0X"
      },
      "source": [
        "We'll use the `wget` package to download the dataset to the Colab instance's file system. "
      ]
    },
    {
      "cell_type": "code",
      "metadata": {
        "id": "-iyHlDIO7Fxq"
      },
      "source": [
        "# !wget https://github.com/thedenaas/hse_seminars/raw/master/2019/exam/exam_data.zip\n",
        "# !unzip exam_data.zip\n",
        "# !ls"
      ],
      "execution_count": null,
      "outputs": []
    },
    {
      "cell_type": "code",
      "source": [
        "!wget https://raw.githubusercontent.com/semensorokin/DLforNLP_course_material/master/Homework2/answers_subsample.csv"
      ],
      "metadata": {
        "colab": {
          "base_uri": "https://localhost:8080/"
        },
        "id": "aNpiwhv7uGM1",
        "outputId": "56b3ae0f-fb8a-4dbb-c7d1-2ecfa42176fa"
      },
      "execution_count": 5,
      "outputs": [
        {
          "output_type": "stream",
          "name": "stdout",
          "text": [
            "--2022-12-04 20:08:36--  https://raw.githubusercontent.com/semensorokin/DLforNLP_course_material/master/Homework2/answers_subsample.csv\n",
            "Resolving raw.githubusercontent.com (raw.githubusercontent.com)... 185.199.108.133, 185.199.109.133, 185.199.110.133, ...\n",
            "Connecting to raw.githubusercontent.com (raw.githubusercontent.com)|185.199.108.133|:443... connected.\n",
            "HTTP request sent, awaiting response... 200 OK\n",
            "Length: 28717126 (27M) [text/plain]\n",
            "Saving to: ‘answers_subsample.csv’\n",
            "\n",
            "answers_subsample.c 100%[===================>]  27.39M  --.-KB/s    in 0.1s    \n",
            "\n",
            "2022-12-04 20:08:37 (277 MB/s) - ‘answers_subsample.csv’ saved [28717126/28717126]\n",
            "\n"
          ]
        }
      ]
    },
    {
      "cell_type": "code",
      "source": [
        "!ls"
      ],
      "metadata": {
        "colab": {
          "base_uri": "https://localhost:8080/"
        },
        "id": "ZdL80RlEwVCM",
        "outputId": "5b3fd934-b42b-490e-b457-078dcf209284"
      },
      "execution_count": 3,
      "outputs": [
        {
          "output_type": "stream",
          "name": "stdout",
          "text": [
            "answers_subsample.csv  sample_data\n"
          ]
        }
      ]
    },
    {
      "cell_type": "markdown",
      "metadata": {
        "id": "08pO03Ff1BjI"
      },
      "source": [
        "The dataset is hosted on GitHub in this repo: https://nyu-mll.github.io/CoLA/"
      ]
    },
    {
      "cell_type": "markdown",
      "metadata": {
        "id": "oQUy9Tat2EF_"
      },
      "source": [
        "## 2.2. Parse"
      ]
    },
    {
      "cell_type": "markdown",
      "metadata": {
        "id": "xeyVCXT31EZQ"
      },
      "source": [
        "We can see from the file names that both `tokenized` and `raw` versions of the data are available. \n",
        "\n",
        "We can't use the pre-tokenized version because, in order to apply the pre-trained BERT, we *must* use the tokenizer provided by the model. This is because (1) the model has a specific, fixed vocabulary and (2) the BERT tokenizer has a particular way of handling out-of-vocabulary words."
      ]
    },
    {
      "cell_type": "markdown",
      "metadata": {
        "id": "MYWzeGSY2xh3"
      },
      "source": [
        "We'll use pandas to parse the \"in-domain\" training set and look at a few of its properties and data points."
      ]
    },
    {
      "cell_type": "code",
      "metadata": {
        "id": "_UkeC7SG2krJ",
        "colab": {
          "base_uri": "https://localhost:8080/",
          "height": 398
        },
        "outputId": "f23d8fbd-40ab-4277-f92d-07eb7b548674"
      },
      "source": [
        "# import pandas as pd\n",
        "\n",
        "# # Load the dataset into a pandas dataframe.\n",
        "# df_train = pd.read_csv('train.csv')\n",
        "# df_test = pd.read_csv('test.csv')\n",
        "\n",
        "\n",
        "# # Report the number of sentences.\n",
        "# print('Number of training sentences: {:,}\\n'.format(df_train.shape[0]))\n",
        "\n",
        "# # Display 10 random rows from the data.\n",
        "# df_train.sample(10)"
      ],
      "execution_count": null,
      "outputs": [
        {
          "output_type": "stream",
          "name": "stdout",
          "text": [
            "Number of training sentences: 48,192\n",
            "\n"
          ]
        },
        {
          "output_type": "execute_result",
          "data": {
            "text/plain": [
              "                                                  review  \\\n",
              "24758  Walking distance to shops and food. Room was c...   \n",
              "28200  Very disappointed in cleanliness of the room a...   \n",
              "24913  If you need a bathroom and bed, it's a fine pl...   \n",
              "7302   Extremely small bathroom. No closet, on a bedr...   \n",
              "11082                                      no complaints   \n",
              "35662  This hotel was clean and quiet. We were in Oah...   \n",
              "40213  Pillows are rags. Wash cloths are rags. One fe...   \n",
              "23356  We were in the Buffalo area and needed an unex...   \n",
              "17687                              Ok but nothing great.   \n",
              "35693  Another Family Fun Night for our youth wrestli...   \n",
              "\n",
              "                                                   title  target  \n",
              "24758                                           In town.       3  \n",
              "28200                                        Not so good       2  \n",
              "24913               It's not the Ritz, but we slept well       3  \n",
              "7302   Expensive for what they offered, just enough f...       4  \n",
              "11082     perfect location for what we needed - business       5  \n",
              "35662                                        Clean Quiet       5  \n",
              "40213                  Bad last year got worse this year       1  \n",
              "23356                                   Old School Motel       3  \n",
              "17687                                                 Ok       3  \n",
              "35693                           Another Family Fun Night       4  "
            ],
            "text/html": [
              "\n",
              "  <div id=\"df-cf1d1a1e-3c90-41d0-9fa2-295cf0e51515\">\n",
              "    <div class=\"colab-df-container\">\n",
              "      <div>\n",
              "<style scoped>\n",
              "    .dataframe tbody tr th:only-of-type {\n",
              "        vertical-align: middle;\n",
              "    }\n",
              "\n",
              "    .dataframe tbody tr th {\n",
              "        vertical-align: top;\n",
              "    }\n",
              "\n",
              "    .dataframe thead th {\n",
              "        text-align: right;\n",
              "    }\n",
              "</style>\n",
              "<table border=\"1\" class=\"dataframe\">\n",
              "  <thead>\n",
              "    <tr style=\"text-align: right;\">\n",
              "      <th></th>\n",
              "      <th>review</th>\n",
              "      <th>title</th>\n",
              "      <th>target</th>\n",
              "    </tr>\n",
              "  </thead>\n",
              "  <tbody>\n",
              "    <tr>\n",
              "      <th>24758</th>\n",
              "      <td>Walking distance to shops and food. Room was c...</td>\n",
              "      <td>In town.</td>\n",
              "      <td>3</td>\n",
              "    </tr>\n",
              "    <tr>\n",
              "      <th>28200</th>\n",
              "      <td>Very disappointed in cleanliness of the room a...</td>\n",
              "      <td>Not so good</td>\n",
              "      <td>2</td>\n",
              "    </tr>\n",
              "    <tr>\n",
              "      <th>24913</th>\n",
              "      <td>If you need a bathroom and bed, it's a fine pl...</td>\n",
              "      <td>It's not the Ritz, but we slept well</td>\n",
              "      <td>3</td>\n",
              "    </tr>\n",
              "    <tr>\n",
              "      <th>7302</th>\n",
              "      <td>Extremely small bathroom. No closet, on a bedr...</td>\n",
              "      <td>Expensive for what they offered, just enough f...</td>\n",
              "      <td>4</td>\n",
              "    </tr>\n",
              "    <tr>\n",
              "      <th>11082</th>\n",
              "      <td>no complaints</td>\n",
              "      <td>perfect location for what we needed - business</td>\n",
              "      <td>5</td>\n",
              "    </tr>\n",
              "    <tr>\n",
              "      <th>35662</th>\n",
              "      <td>This hotel was clean and quiet. We were in Oah...</td>\n",
              "      <td>Clean Quiet</td>\n",
              "      <td>5</td>\n",
              "    </tr>\n",
              "    <tr>\n",
              "      <th>40213</th>\n",
              "      <td>Pillows are rags. Wash cloths are rags. One fe...</td>\n",
              "      <td>Bad last year got worse this year</td>\n",
              "      <td>1</td>\n",
              "    </tr>\n",
              "    <tr>\n",
              "      <th>23356</th>\n",
              "      <td>We were in the Buffalo area and needed an unex...</td>\n",
              "      <td>Old School Motel</td>\n",
              "      <td>3</td>\n",
              "    </tr>\n",
              "    <tr>\n",
              "      <th>17687</th>\n",
              "      <td>Ok but nothing great.</td>\n",
              "      <td>Ok</td>\n",
              "      <td>3</td>\n",
              "    </tr>\n",
              "    <tr>\n",
              "      <th>35693</th>\n",
              "      <td>Another Family Fun Night for our youth wrestli...</td>\n",
              "      <td>Another Family Fun Night</td>\n",
              "      <td>4</td>\n",
              "    </tr>\n",
              "  </tbody>\n",
              "</table>\n",
              "</div>\n",
              "      <button class=\"colab-df-convert\" onclick=\"convertToInteractive('df-cf1d1a1e-3c90-41d0-9fa2-295cf0e51515')\"\n",
              "              title=\"Convert this dataframe to an interactive table.\"\n",
              "              style=\"display:none;\">\n",
              "        \n",
              "  <svg xmlns=\"http://www.w3.org/2000/svg\" height=\"24px\"viewBox=\"0 0 24 24\"\n",
              "       width=\"24px\">\n",
              "    <path d=\"M0 0h24v24H0V0z\" fill=\"none\"/>\n",
              "    <path d=\"M18.56 5.44l.94 2.06.94-2.06 2.06-.94-2.06-.94-.94-2.06-.94 2.06-2.06.94zm-11 1L8.5 8.5l.94-2.06 2.06-.94-2.06-.94L8.5 2.5l-.94 2.06-2.06.94zm10 10l.94 2.06.94-2.06 2.06-.94-2.06-.94-.94-2.06-.94 2.06-2.06.94z\"/><path d=\"M17.41 7.96l-1.37-1.37c-.4-.4-.92-.59-1.43-.59-.52 0-1.04.2-1.43.59L10.3 9.45l-7.72 7.72c-.78.78-.78 2.05 0 2.83L4 21.41c.39.39.9.59 1.41.59.51 0 1.02-.2 1.41-.59l7.78-7.78 2.81-2.81c.8-.78.8-2.07 0-2.86zM5.41 20L4 18.59l7.72-7.72 1.47 1.35L5.41 20z\"/>\n",
              "  </svg>\n",
              "      </button>\n",
              "      \n",
              "  <style>\n",
              "    .colab-df-container {\n",
              "      display:flex;\n",
              "      flex-wrap:wrap;\n",
              "      gap: 12px;\n",
              "    }\n",
              "\n",
              "    .colab-df-convert {\n",
              "      background-color: #E8F0FE;\n",
              "      border: none;\n",
              "      border-radius: 50%;\n",
              "      cursor: pointer;\n",
              "      display: none;\n",
              "      fill: #1967D2;\n",
              "      height: 32px;\n",
              "      padding: 0 0 0 0;\n",
              "      width: 32px;\n",
              "    }\n",
              "\n",
              "    .colab-df-convert:hover {\n",
              "      background-color: #E2EBFA;\n",
              "      box-shadow: 0px 1px 2px rgba(60, 64, 67, 0.3), 0px 1px 3px 1px rgba(60, 64, 67, 0.15);\n",
              "      fill: #174EA6;\n",
              "    }\n",
              "\n",
              "    [theme=dark] .colab-df-convert {\n",
              "      background-color: #3B4455;\n",
              "      fill: #D2E3FC;\n",
              "    }\n",
              "\n",
              "    [theme=dark] .colab-df-convert:hover {\n",
              "      background-color: #434B5C;\n",
              "      box-shadow: 0px 1px 3px 1px rgba(0, 0, 0, 0.15);\n",
              "      filter: drop-shadow(0px 1px 2px rgba(0, 0, 0, 0.3));\n",
              "      fill: #FFFFFF;\n",
              "    }\n",
              "  </style>\n",
              "\n",
              "      <script>\n",
              "        const buttonEl =\n",
              "          document.querySelector('#df-cf1d1a1e-3c90-41d0-9fa2-295cf0e51515 button.colab-df-convert');\n",
              "        buttonEl.style.display =\n",
              "          google.colab.kernel.accessAllowed ? 'block' : 'none';\n",
              "\n",
              "        async function convertToInteractive(key) {\n",
              "          const element = document.querySelector('#df-cf1d1a1e-3c90-41d0-9fa2-295cf0e51515');\n",
              "          const dataTable =\n",
              "            await google.colab.kernel.invokeFunction('convertToInteractive',\n",
              "                                                     [key], {});\n",
              "          if (!dataTable) return;\n",
              "\n",
              "          const docLinkHtml = 'Like what you see? Visit the ' +\n",
              "            '<a target=\"_blank\" href=https://colab.research.google.com/notebooks/data_table.ipynb>data table notebook</a>'\n",
              "            + ' to learn more about interactive tables.';\n",
              "          element.innerHTML = '';\n",
              "          dataTable['output_type'] = 'display_data';\n",
              "          await google.colab.output.renderOutput(dataTable, element);\n",
              "          const docLink = document.createElement('div');\n",
              "          docLink.innerHTML = docLinkHtml;\n",
              "          element.appendChild(docLink);\n",
              "        }\n",
              "      </script>\n",
              "    </div>\n",
              "  </div>\n",
              "  "
            ]
          },
          "metadata": {},
          "execution_count": 5
        }
      ]
    },
    {
      "cell_type": "code",
      "source": [
        "import pandas as pd\n",
        "\n",
        "data = pd.read_csv('answers_subsample.csv')"
      ],
      "metadata": {
        "id": "3POkNiV9w9Ej"
      },
      "execution_count": 4,
      "outputs": []
    },
    {
      "cell_type": "code",
      "source": [
        "data.head()"
      ],
      "metadata": {
        "colab": {
          "base_uri": "https://localhost:8080/",
          "height": 206
        },
        "id": "Hg_UawdLxJ0Q",
        "outputId": "c97c35b7-7f12-4f8c-bc7d-422e69f94b32"
      },
      "execution_count": 5,
      "outputs": [
        {
          "output_type": "execute_result",
          "data": {
            "text/plain": [
              "   category                                               text\n",
              "0  business  Могут ли в россельхозбанке дать в залог норков...\n",
              "1       law  Может ли срочник перевестись на контракт после...\n",
              "2  business  Продажа недвижимости по ипотеки ? ( арестованы...\n",
              "3  business  В чем смысл криптовалюты, какая от неё выгода ...\n",
              "4       law                 часть 1 статья 158 похитил телефон"
            ],
            "text/html": [
              "\n",
              "  <div id=\"df-ea2de631-ba5e-4a3a-9d38-bbfd0ddffbb6\">\n",
              "    <div class=\"colab-df-container\">\n",
              "      <div>\n",
              "<style scoped>\n",
              "    .dataframe tbody tr th:only-of-type {\n",
              "        vertical-align: middle;\n",
              "    }\n",
              "\n",
              "    .dataframe tbody tr th {\n",
              "        vertical-align: top;\n",
              "    }\n",
              "\n",
              "    .dataframe thead th {\n",
              "        text-align: right;\n",
              "    }\n",
              "</style>\n",
              "<table border=\"1\" class=\"dataframe\">\n",
              "  <thead>\n",
              "    <tr style=\"text-align: right;\">\n",
              "      <th></th>\n",
              "      <th>category</th>\n",
              "      <th>text</th>\n",
              "    </tr>\n",
              "  </thead>\n",
              "  <tbody>\n",
              "    <tr>\n",
              "      <th>0</th>\n",
              "      <td>business</td>\n",
              "      <td>Могут ли в россельхозбанке дать в залог норков...</td>\n",
              "    </tr>\n",
              "    <tr>\n",
              "      <th>1</th>\n",
              "      <td>law</td>\n",
              "      <td>Может ли срочник перевестись на контракт после...</td>\n",
              "    </tr>\n",
              "    <tr>\n",
              "      <th>2</th>\n",
              "      <td>business</td>\n",
              "      <td>Продажа недвижимости по ипотеки ? ( арестованы...</td>\n",
              "    </tr>\n",
              "    <tr>\n",
              "      <th>3</th>\n",
              "      <td>business</td>\n",
              "      <td>В чем смысл криптовалюты, какая от неё выгода ...</td>\n",
              "    </tr>\n",
              "    <tr>\n",
              "      <th>4</th>\n",
              "      <td>law</td>\n",
              "      <td>часть 1 статья 158 похитил телефон</td>\n",
              "    </tr>\n",
              "  </tbody>\n",
              "</table>\n",
              "</div>\n",
              "      <button class=\"colab-df-convert\" onclick=\"convertToInteractive('df-ea2de631-ba5e-4a3a-9d38-bbfd0ddffbb6')\"\n",
              "              title=\"Convert this dataframe to an interactive table.\"\n",
              "              style=\"display:none;\">\n",
              "        \n",
              "  <svg xmlns=\"http://www.w3.org/2000/svg\" height=\"24px\"viewBox=\"0 0 24 24\"\n",
              "       width=\"24px\">\n",
              "    <path d=\"M0 0h24v24H0V0z\" fill=\"none\"/>\n",
              "    <path d=\"M18.56 5.44l.94 2.06.94-2.06 2.06-.94-2.06-.94-.94-2.06-.94 2.06-2.06.94zm-11 1L8.5 8.5l.94-2.06 2.06-.94-2.06-.94L8.5 2.5l-.94 2.06-2.06.94zm10 10l.94 2.06.94-2.06 2.06-.94-2.06-.94-.94-2.06-.94 2.06-2.06.94z\"/><path d=\"M17.41 7.96l-1.37-1.37c-.4-.4-.92-.59-1.43-.59-.52 0-1.04.2-1.43.59L10.3 9.45l-7.72 7.72c-.78.78-.78 2.05 0 2.83L4 21.41c.39.39.9.59 1.41.59.51 0 1.02-.2 1.41-.59l7.78-7.78 2.81-2.81c.8-.78.8-2.07 0-2.86zM5.41 20L4 18.59l7.72-7.72 1.47 1.35L5.41 20z\"/>\n",
              "  </svg>\n",
              "      </button>\n",
              "      \n",
              "  <style>\n",
              "    .colab-df-container {\n",
              "      display:flex;\n",
              "      flex-wrap:wrap;\n",
              "      gap: 12px;\n",
              "    }\n",
              "\n",
              "    .colab-df-convert {\n",
              "      background-color: #E8F0FE;\n",
              "      border: none;\n",
              "      border-radius: 50%;\n",
              "      cursor: pointer;\n",
              "      display: none;\n",
              "      fill: #1967D2;\n",
              "      height: 32px;\n",
              "      padding: 0 0 0 0;\n",
              "      width: 32px;\n",
              "    }\n",
              "\n",
              "    .colab-df-convert:hover {\n",
              "      background-color: #E2EBFA;\n",
              "      box-shadow: 0px 1px 2px rgba(60, 64, 67, 0.3), 0px 1px 3px 1px rgba(60, 64, 67, 0.15);\n",
              "      fill: #174EA6;\n",
              "    }\n",
              "\n",
              "    [theme=dark] .colab-df-convert {\n",
              "      background-color: #3B4455;\n",
              "      fill: #D2E3FC;\n",
              "    }\n",
              "\n",
              "    [theme=dark] .colab-df-convert:hover {\n",
              "      background-color: #434B5C;\n",
              "      box-shadow: 0px 1px 3px 1px rgba(0, 0, 0, 0.15);\n",
              "      filter: drop-shadow(0px 1px 2px rgba(0, 0, 0, 0.3));\n",
              "      fill: #FFFFFF;\n",
              "    }\n",
              "  </style>\n",
              "\n",
              "      <script>\n",
              "        const buttonEl =\n",
              "          document.querySelector('#df-ea2de631-ba5e-4a3a-9d38-bbfd0ddffbb6 button.colab-df-convert');\n",
              "        buttonEl.style.display =\n",
              "          google.colab.kernel.accessAllowed ? 'block' : 'none';\n",
              "\n",
              "        async function convertToInteractive(key) {\n",
              "          const element = document.querySelector('#df-ea2de631-ba5e-4a3a-9d38-bbfd0ddffbb6');\n",
              "          const dataTable =\n",
              "            await google.colab.kernel.invokeFunction('convertToInteractive',\n",
              "                                                     [key], {});\n",
              "          if (!dataTable) return;\n",
              "\n",
              "          const docLinkHtml = 'Like what you see? Visit the ' +\n",
              "            '<a target=\"_blank\" href=https://colab.research.google.com/notebooks/data_table.ipynb>data table notebook</a>'\n",
              "            + ' to learn more about interactive tables.';\n",
              "          element.innerHTML = '';\n",
              "          dataTable['output_type'] = 'display_data';\n",
              "          await google.colab.output.renderOutput(dataTable, element);\n",
              "          const docLink = document.createElement('div');\n",
              "          docLink.innerHTML = docLinkHtml;\n",
              "          element.appendChild(docLink);\n",
              "        }\n",
              "      </script>\n",
              "    </div>\n",
              "  </div>\n",
              "  "
            ]
          },
          "metadata": {},
          "execution_count": 5
        }
      ]
    },
    {
      "cell_type": "markdown",
      "metadata": {
        "id": "kfWzpPi92UAH"
      },
      "source": [
        "The two properties we actually care about are the the `sentence` and its `label`, which is referred to as the \"acceptibility judgment\" (0=unacceptable, 1=acceptable)."
      ]
    },
    {
      "cell_type": "markdown",
      "metadata": {
        "id": "H_LpQfzCn9_o"
      },
      "source": [
        "Here are five sentences which are labeled as not grammatically acceptible. Note how much more difficult this task is than something like sentiment analysis!"
      ]
    },
    {
      "cell_type": "markdown",
      "metadata": {
        "id": "4SMZ5T5Imhlx"
      },
      "source": [
        "\n",
        "\n",
        "Let's extract the sentences and labels of our training set as numpy ndarrays."
      ]
    },
    {
      "cell_type": "code",
      "metadata": {
        "id": "GuE5BqICAne2"
      },
      "source": [
        "# # Get the lists of sentences and their labels.\n",
        "# sentences = df_train.review.values\n",
        "# labels = df_train.target.values - 1"
      ],
      "execution_count": null,
      "outputs": []
    },
    {
      "cell_type": "code",
      "source": [
        "cat_mapper = {cat: n for n, cat in enumerate(data.category.unique())}\n",
        "data.category = data.category.map(cat_mapper)"
      ],
      "metadata": {
        "id": "DCYKPp2-0vdJ"
      },
      "execution_count": 6,
      "outputs": []
    },
    {
      "cell_type": "code",
      "source": [
        "sentences = data.text.values\n",
        "labels = data.category.values"
      ],
      "metadata": {
        "id": "0-fGrs3mxFqa"
      },
      "execution_count": 7,
      "outputs": []
    },
    {
      "cell_type": "code",
      "source": [
        "sentences[:3]"
      ],
      "metadata": {
        "colab": {
          "base_uri": "https://localhost:8080/"
        },
        "id": "8Yy4h7He1gqA",
        "outputId": "54cbbdd0-4672-496b-9ae9-7d70519b98ec"
      },
      "execution_count": 8,
      "outputs": [
        {
          "output_type": "execute_result",
          "data": {
            "text/plain": [
              "array(['Могут ли в россельхозбанке дать в залог норковых шуб помогите пожалуйста',\n",
              "       'Может ли срочник перевестись на контракт после 3х месяцев службы? И реально ли поступить на службу в спецназ без срочки?',\n",
              "       'Продажа недвижимости по ипотеки ? ( арестованы счета, аккредитив )'],\n",
              "      dtype=object)"
            ]
          },
          "metadata": {},
          "execution_count": 8
        }
      ]
    },
    {
      "cell_type": "code",
      "source": [
        "labels[:3]"
      ],
      "metadata": {
        "colab": {
          "base_uri": "https://localhost:8080/"
        },
        "id": "BdzW1Zwm1jA8",
        "outputId": "8de1db0a-fc2d-4896-9ece-4947c50de181"
      },
      "execution_count": 9,
      "outputs": [
        {
          "output_type": "execute_result",
          "data": {
            "text/plain": [
              "array([0, 1, 0])"
            ]
          },
          "metadata": {},
          "execution_count": 9
        }
      ]
    },
    {
      "cell_type": "markdown",
      "metadata": {
        "id": "ex5O1eV-Pfct"
      },
      "source": [
        "# 3. Tokenization & Input Formatting\n",
        "\n",
        "In this section, we'll transform our dataset into the format that BERT can be trained on."
      ]
    },
    {
      "cell_type": "markdown",
      "metadata": {
        "id": "-8kEDRvShcU5"
      },
      "source": [
        "## 3.1. BERT Tokenizer"
      ]
    },
    {
      "cell_type": "markdown",
      "metadata": {
        "id": "bWOPOyWghJp2"
      },
      "source": [
        "\n",
        "To feed our text to BERT, it must be split into tokens, and then these tokens must be mapped to their index in the tokenizer vocabulary.\n",
        "\n",
        "The tokenization must be performed by the tokenizer included with BERT--the below cell will download this for us. We'll be using the \"uncased\" version here.\n"
      ]
    },
    {
      "cell_type": "code",
      "metadata": {
        "id": "Z474sSC6oe7A",
        "colab": {
          "base_uri": "https://localhost:8080/"
        },
        "outputId": "a45cc98f-1619-4046-83c8-748e5951f523"
      },
      "source": [
        "from transformers import BertTokenizer\n",
        "\n",
        "# Load the BERT tokenizer.\n",
        "print('Loading BERT tokenizer...')\n",
        "tokenizer = BertTokenizer.from_pretrained('bert-base-multilingual-uncased', do_lower_case=True)"
      ],
      "execution_count": 10,
      "outputs": [
        {
          "output_type": "stream",
          "name": "stdout",
          "text": [
            "Loading BERT tokenizer...\n"
          ]
        }
      ]
    },
    {
      "cell_type": "markdown",
      "metadata": {
        "id": "dFzmtleW6KmJ"
      },
      "source": [
        "Let's apply the tokenizer to one sentence just to see the output.\n"
      ]
    },
    {
      "cell_type": "code",
      "metadata": {
        "id": "dLIbudgfh6F0",
        "colab": {
          "base_uri": "https://localhost:8080/"
        },
        "outputId": "18ba01ec-6d2d-4dae-dc27-85d2dae271f9"
      },
      "source": [
        "# Print the original sentence.\n",
        "print(' Original: ', sentences[0])\n",
        "\n",
        "# Print the sentence split into tokens.\n",
        "print('Tokenized: ', tokenizer.tokenize(sentences[0]))\n",
        "\n",
        "# Print the sentence mapped to token ids.\n",
        "print('Token IDs: ', tokenizer.convert_tokens_to_ids(tokenizer.tokenize(sentences[0])))"
      ],
      "execution_count": 11,
      "outputs": [
        {
          "output_type": "stream",
          "name": "stdout",
          "text": [
            " Original:  Могут ли в россельхозбанке дать в залог норковых шуб помогите пожалуйста\n",
            "Tokenized:  ['могут', 'ли', 'в', 'рос', '##сель', '##хо', '##з', '##бан', '##ке', 'да', '##ть', 'в', 'зал', '##ог', 'но', '##рк', '##овых', 'ш', '##уб', 'пом', '##оги', '##те', 'по', '##жал', '##уи', '##ста']\n",
            "Token IDs:  [22553, 23029, 309, 26673, 80686, 37489, 11637, 42572, 11827, 10448, 11569, 309, 53932, 19820, 11299, 53464, 20565, 330, 58675, 86074, 60338, 10740, 10291, 28704, 62848, 15294]\n"
          ]
        }
      ]
    },
    {
      "cell_type": "markdown",
      "metadata": {
        "id": "WeNIc4auFUdF"
      },
      "source": [
        "When we actually convert all of our sentences, we'll use the `tokenize.encode` function to handle both steps, rather than calling `tokenize` and `convert_tokens_to_ids` separately. \n",
        "\n",
        "Before we can do that, though, we need to talk about some of BERT's formatting requirements."
      ]
    },
    {
      "cell_type": "markdown",
      "metadata": {
        "id": "6vog11nd8H_X"
      },
      "source": [
        "## 3.1.1 Required Formatting\n",
        "\n",
        "About BPE"
      ]
    },
    {
      "cell_type": "code",
      "source": [
        "print('Tokenized: ', tokenizer.tokenize(sentences[0]))"
      ],
      "metadata": {
        "colab": {
          "base_uri": "https://localhost:8080/"
        },
        "id": "r5IiMxFdx-M8",
        "outputId": "dedca5fa-26bc-479a-d726-eb7e5161adf3"
      },
      "execution_count": 12,
      "outputs": [
        {
          "output_type": "stream",
          "name": "stdout",
          "text": [
            "Tokenized:  ['могут', 'ли', 'в', 'рос', '##сель', '##хо', '##з', '##бан', '##ке', 'да', '##ть', 'в', 'зал', '##ог', 'но', '##рк', '##овых', 'ш', '##уб', 'пом', '##оги', '##те', 'по', '##жал', '##уи', '##ста']\n"
          ]
        }
      ]
    },
    {
      "cell_type": "markdown",
      "source": [
        "'##able'"
      ],
      "metadata": {
        "id": "Fu74aZBbyBeC"
      }
    },
    {
      "cell_type": "markdown",
      "metadata": {
        "id": "viKGCCh8izww"
      },
      "source": [
        "## 3.2. Required Formatting"
      ]
    },
    {
      "cell_type": "markdown",
      "metadata": {
        "id": "yDcqNlvVhL5W"
      },
      "source": [
        "The above code left out a few required formatting steps that we'll look at here.\n",
        "\n",
        "*Side Note: The input format to BERT seems \"over-specified\" to me... We are required to give it a number of pieces of information which seem redundant, or like they could easily be inferred from the data without us explicity providing it. But it is what it is, and I suspect it will make more sense once I have a deeper understanding of the BERT internals.*\n",
        "\n",
        "We are required to:\n",
        "1. Add special tokens to the start and end of each sentence.\n",
        "2. Pad & truncate all sentences to a single constant length.\n",
        "3. Explicitly differentiate real tokens from padding tokens with the \"attention mask\".\n",
        "\n"
      ]
    },
    {
      "cell_type": "markdown",
      "metadata": {
        "id": "V6mceWWOjZnw"
      },
      "source": [
        "### Special Tokens\n"
      ]
    },
    {
      "cell_type": "markdown",
      "metadata": {
        "id": "Ykk0P9JiKtVe"
      },
      "source": [
        "\n",
        "**`[SEP]`**\n",
        "\n",
        "At the end of every sentence, we need to append the special `[SEP]` token. \n",
        "\n",
        "This token is an artifact of two-sentence tasks, where BERT is given two separate sentences and asked to determine something (e.g., can the answer to the question in sentence A be found in sentence B?). \n",
        "\n",
        "I am not certain yet why the token is still required when we have only single-sentence input, but it is!\n"
      ]
    },
    {
      "cell_type": "markdown",
      "metadata": {
        "id": "86C9objaKu8f"
      },
      "source": [
        "**`[CLS]`**\n",
        "\n",
        "For classification tasks, we must prepend the special `[CLS]` token to the beginning of every sentence.\n",
        "\n",
        "This token has special significance. BERT consists of 12 Transformer layers. Each transformer takes in a list of token embeddings, and produces the same number of embeddings on the output (but with the feature values changed, of course!).\n",
        "\n",
        "![Illustration of CLS token purpose](http://www.mccormickml.com/assets/BERT/CLS_token_500x606.png)\n",
        "\n",
        "On the output of the final (12th) transformer, *only the first embedding (corresponding to the [CLS] token) is used by the classifier*.\n",
        "\n",
        ">  \"The first token of every sequence is always a special classification token (`[CLS]`). The final hidden state\n",
        "corresponding to this token is used as the aggregate sequence representation for classification\n",
        "tasks.\" (from the [BERT paper](https://arxiv.org/pdf/1810.04805.pdf))\n",
        "\n",
        "I'm not sure why the authors took this strategy instead of some kind of pooling of all the final vectors, but I'm sure that if pooling were better they would have gone that route. \n",
        "\n",
        "Also, because BERT is trained to only use this [CLS] token for classification, we know that the model has been motivated to encode everything it needs for the classification step into that single 768-value embedding vector.\n",
        "\n"
      ]
    },
    {
      "cell_type": "markdown",
      "metadata": {
        "id": "u51v0kFxeteu"
      },
      "source": [
        "### Sentence Length & Attention Mask\n",
        "\n"
      ]
    },
    {
      "cell_type": "markdown",
      "metadata": {
        "id": "qPNuwqZVK3T6"
      },
      "source": [
        "The sentences in our dataset obviously have varying lengths, so how does BERT handle this?\n",
        "\n",
        "BERT has two constraints:\n",
        "1. All sentences must be padded or truncated to a single, fixed length.\n",
        "2. The maximum sentence length is 512 tokens.\n",
        "\n",
        "Padding is done with a special `[PAD]` token, which is at index 0 in the BERT vocabulary. The below illustration demonstrates padding out to a \"MAX_LEN\" of 8 tokens.\n",
        "\n",
        "<img src=\"http://www.mccormickml.com/assets/BERT/padding_and_mask.png\" width=\"600\">\n",
        "\n",
        "The \"Attention Mask\" is simply an array of 1s and 0s indicating which tokens are padding and which aren't (seems kind of redundant, doesn't it?! Again, I don't currently know why).\n",
        "\n",
        "I've experimented with running this notebook with two different values of MAX_LEN, and it impacted both the training speed and the  test set accuracy.\n",
        "\n",
        "With a Tesla K80 and:\n",
        "\n",
        "```\n",
        "MAX_LEN = 128  -->  Training epochs take ~5:28 each, score is 0.535\n",
        "MAX_LEN = 64   -->  Training epochs take ~2:57 each, score is 0.566\n",
        "```\n",
        "These results suggest to me that the padding tokens aren't simply skipped over--that they are in fact fed through the model and incorporated in the results (thereby impacting both model speed and accuracy). I'll have to dig into the architecture more to understand this.\n",
        "\n",
        "\n",
        "\n",
        "\n"
      ]
    },
    {
      "cell_type": "markdown",
      "metadata": {
        "id": "l6w8elb-58GJ"
      },
      "source": [
        "## 3.2. Sentences to IDs"
      ]
    },
    {
      "cell_type": "markdown",
      "metadata": {
        "id": "1M296yz577fV"
      },
      "source": [
        "The `tokenizer.encode` function combines multiple steps for us:\n",
        "1. Split the sentence into tokens.\n",
        "2. Add the special `[CLS]` and `[SEP]` tokens.\n",
        "3. Map the tokens to their IDs.\n",
        "\n",
        "Oddly, this function can perform truncating for us, but doesn't handle padding. "
      ]
    },
    {
      "cell_type": "code",
      "metadata": {
        "id": "2bBdb3pt8LuQ",
        "colab": {
          "base_uri": "https://localhost:8080/"
        },
        "outputId": "8d3dc862-1df9-4dfd-c608-c831b745a19d"
      },
      "source": [
        "# Tokenize all of the sentences and map the tokens to thier word IDs.\n",
        "input_ids = []\n",
        "\n",
        "# For every sentence...\n",
        "for sent in sentences:\n",
        "    # `encode` will:\n",
        "    #   (1) Tokenize the sentence.\n",
        "    #   (2) Prepend the `[CLS]` token to the start.\n",
        "    #   (3) Append the `[SEP]` token to the end.\n",
        "    #   (4) Map tokens to their IDs.\n",
        "    encoded_sent = tokenizer.encode(\n",
        "                        sent,                      # Sentence to encode.\n",
        "                        add_special_tokens = True, # Add '[CLS]' and '[SEP]'\n",
        "                        # This function also supports truncation and conversion\n",
        "                        # to pytorch tensors, but we need to do padding, so we\n",
        "                        # can't use these features :( .\n",
        "                        # max_length = 128          # Truncate all sentences.\n",
        "                        # return_tensors = 'pt',     # Return pytorch tensors.\n",
        "                   )\n",
        "    \n",
        "    # Add the encoded sentence to the list.\n",
        "    input_ids.append(encoded_sent)\n",
        "\n",
        "# Print sentence 0, now as a list of IDs.\n",
        "print('Original: ', sentences[0])\n",
        "print('Token IDs:', input_ids[0])"
      ],
      "execution_count": 13,
      "outputs": [
        {
          "output_type": "stream",
          "name": "stdout",
          "text": [
            "Original:  Могут ли в россельхозбанке дать в залог норковых шуб помогите пожалуйста\n",
            "Token IDs: [101, 22553, 23029, 309, 26673, 80686, 37489, 11637, 42572, 11827, 10448, 11569, 309, 53932, 19820, 11299, 53464, 20565, 330, 58675, 86074, 60338, 10740, 10291, 28704, 62848, 15294, 102]\n"
          ]
        }
      ]
    },
    {
      "cell_type": "markdown",
      "source": [
        "Token indices sequence length is longer than the specified maximum sequence length for this model (756 > 512). Running this sequence through the model will result in indexing errors --- if not max_length and truncation"
      ],
      "metadata": {
        "id": "xY2b_u7nycF4"
      }
    },
    {
      "cell_type": "markdown",
      "metadata": {
        "id": "WhwCKszh6ych"
      },
      "source": [
        "## 3.3. Padding & Truncating"
      ]
    },
    {
      "cell_type": "markdown",
      "metadata": {
        "id": "xytsw1oIfnX0"
      },
      "source": [
        "Pad and truncate our sequences so that they all have the same length, `MAX_LEN`."
      ]
    },
    {
      "cell_type": "markdown",
      "metadata": {
        "id": "zqiWTDrn_nGB"
      },
      "source": [
        "First, what's the maximum sentence length in our dataset?"
      ]
    },
    {
      "cell_type": "code",
      "metadata": {
        "id": "JhUZO9vc_l6T",
        "colab": {
          "base_uri": "https://localhost:8080/"
        },
        "outputId": "08060ef2-5f63-4fe5-ef21-10f7612e52c0"
      },
      "source": [
        "print('Max sentence length: ', max([len(sen) for sen in input_ids]))"
      ],
      "execution_count": 14,
      "outputs": [
        {
          "output_type": "stream",
          "name": "stdout",
          "text": [
            "Max sentence length:  97\n"
          ]
        }
      ]
    },
    {
      "cell_type": "markdown",
      "metadata": {
        "id": "hp-54FcQ_p3h"
      },
      "source": [
        "Given that, let's choose MAX_LEN = 64 and apply the padding."
      ]
    },
    {
      "cell_type": "code",
      "metadata": {
        "id": "Cp9BPRd1tMIo",
        "colab": {
          "base_uri": "https://localhost:8080/"
        },
        "outputId": "2cad5b3b-f221-4e5a-98fd-c3f359ddb281"
      },
      "source": [
        "# We'll borrow the `pad_sequences` utility function to do this.\n",
        "from keras.utils import pad_sequences\n",
        "\n",
        "# Set the maximum sequence length.\n",
        "# I've chosen 64 somewhat arbitrarily. It's slightly larger than the\n",
        "# maximum training sentence length of 47...\n",
        "MAX_LEN = 70\n",
        "\n",
        "print('\\nPadding/truncating all sentences to %d values...' % MAX_LEN)\n",
        "\n",
        "print('\\nPadding token: \"{:}\", ID: {:}'.format(tokenizer.pad_token, tokenizer.pad_token_id))\n",
        "\n",
        "# Pad our input tokens with value 0.\n",
        "# \"post\" indicates that we want to pad and truncate at the end of the sequence,\n",
        "# as opposed to the beginning.\n",
        "input_ids = pad_sequences(input_ids, maxlen=MAX_LEN, dtype=\"long\", \n",
        "                          value=0, truncating=\"post\", padding=\"post\")\n",
        "\n",
        "print('\\nDone.')"
      ],
      "execution_count": 15,
      "outputs": [
        {
          "output_type": "stream",
          "name": "stdout",
          "text": [
            "\n",
            "Padding/truncating all sentences to 70 values...\n",
            "\n",
            "Padding token: \"[PAD]\", ID: 0\n",
            "\n",
            "Done.\n"
          ]
        }
      ]
    },
    {
      "cell_type": "markdown",
      "metadata": {
        "id": "kDs-MYtYH8sL"
      },
      "source": [
        "## 3.4. Attention Masks"
      ]
    },
    {
      "cell_type": "markdown",
      "metadata": {
        "id": "KhGulL1pExCT"
      },
      "source": [
        "The attention mask simply makes it explicit which tokens are actual words versus which are padding. \n",
        "\n",
        "The BERT vocabulary does not use the ID 0, so if a token ID is 0, then it's padding, and otherwise it's a real token."
      ]
    },
    {
      "cell_type": "code",
      "metadata": {
        "id": "cDoC24LeEv3N"
      },
      "source": [
        "# Create attention masks\n",
        "attention_masks = []\n",
        "\n",
        "# For each sentence...\n",
        "for sent in input_ids:\n",
        "    \n",
        "    # Create the attention mask.\n",
        "    #   - If a token ID is 0, then it's padding, set the mask to 0.\n",
        "    #   - If a token ID is > 0, then it's a real token, set the mask to 1.\n",
        "    att_mask = [int(token_id > 0) for token_id in sent]\n",
        "    \n",
        "    # Store the attention mask for this sentence.\n",
        "    attention_masks.append(att_mask)"
      ],
      "execution_count": 16,
      "outputs": []
    },
    {
      "cell_type": "markdown",
      "metadata": {
        "id": "aRp4O7D295d_"
      },
      "source": [
        "## 3.5. Training & Validation Split\n"
      ]
    },
    {
      "cell_type": "markdown",
      "metadata": {
        "id": "qu0ao7p8rb06"
      },
      "source": [
        "Divide up our training set to use 90% for training and 10% for validation."
      ]
    },
    {
      "cell_type": "code",
      "metadata": {
        "id": "aFbE-UHvsb7-"
      },
      "source": [
        "# # Use train_test_split to split our data into train and validation sets for\n",
        "# # training\n",
        "# from sklearn.model_selection import train_test_split\n",
        "\n",
        "# # Use 90% for training and 10% for validation.\n",
        "# train_inputs, validation_inputs, train_labels, validation_labels = train_test_split(input_ids, labels, \n",
        "#                                                             random_state=2018, test_size=0.1)\n",
        "# # Do the same for the masks.\n",
        "# train_masks, validation_masks, _, _ = train_test_split(attention_masks, labels,\n",
        "#                                              random_state=2018, test_size=0.1)"
      ],
      "execution_count": 18,
      "outputs": []
    },
    {
      "cell_type": "markdown",
      "source": [
        "!We do not have test dataset so we should split the data on 3 parts"
      ],
      "metadata": {
        "id": "lnjHBEFxyyOT"
      }
    },
    {
      "cell_type": "code",
      "source": [
        "from sklearn.model_selection import train_test_split\n",
        "\n",
        "# Use 80% for training, 10% for validation and 10% for testing.\n",
        "train_inputs, validation_inputs, train_labels, validation_labels = train_test_split(input_ids, labels, \n",
        "                                                            random_state=2018, test_size=0.2)\n",
        "test_inputs, validation_inputs, test_labels, validation_labels = train_test_split(validation_inputs, validation_labels, \n",
        "                                                            random_state=2018, test_size=0.5)\n",
        "\n",
        "# Do the same for the masks.\n",
        "train_masks, validation_masks, train_labels_2, validation_labels_2 = train_test_split(attention_masks, labels,\n",
        "                                             random_state=2018, test_size=0.2)\n",
        "test_masks, validation_masks, _, _ = train_test_split(validation_masks, validation_labels_2,\n",
        "                                             random_state=2018, test_size=0.5)"
      ],
      "metadata": {
        "id": "5DjjtMlMytVj"
      },
      "execution_count": 17,
      "outputs": []
    },
    {
      "cell_type": "code",
      "source": [
        "assert len(test_inputs) == len(test_masks)"
      ],
      "metadata": {
        "id": "5MNir8O20DB6"
      },
      "execution_count": 18,
      "outputs": []
    },
    {
      "cell_type": "markdown",
      "metadata": {
        "id": "7LzSbTqW9_BR"
      },
      "source": [
        "## 3.6. Converting to PyTorch Data Types"
      ]
    },
    {
      "cell_type": "markdown",
      "metadata": {
        "id": "6p1uXczp-Je4"
      },
      "source": [
        "Our model expects PyTorch tensors rather than numpy.ndarrays, so convert all of our dataset variables."
      ]
    },
    {
      "cell_type": "code",
      "metadata": {
        "id": "jw5K2A5Ko1RF"
      },
      "source": [
        "# Convert all inputs and labels into torch tensors, the required datatype \n",
        "# for our model.\n",
        "train_inputs = torch.tensor(train_inputs)\n",
        "validation_inputs = torch.tensor(validation_inputs)\n",
        "\n",
        "train_labels = torch.tensor(train_labels)\n",
        "validation_labels = torch.tensor(validation_labels)\n",
        "\n",
        "train_masks = torch.tensor(train_masks)\n",
        "validation_masks = torch.tensor(validation_masks)"
      ],
      "execution_count": 19,
      "outputs": []
    },
    {
      "cell_type": "code",
      "source": [
        "train_labels"
      ],
      "metadata": {
        "colab": {
          "base_uri": "https://localhost:8080/"
        },
        "id": "2ugIfdY1OMR0",
        "outputId": "32221f3b-4a63-4fb2-b014-1cac6da7b720"
      },
      "execution_count": 20,
      "outputs": [
        {
          "output_type": "execute_result",
          "data": {
            "text/plain": [
              "tensor([1, 1, 0,  ..., 1, 4, 1])"
            ]
          },
          "metadata": {},
          "execution_count": 20
        }
      ]
    },
    {
      "cell_type": "markdown",
      "metadata": {
        "id": "dD9i6Z2pG-sN"
      },
      "source": [
        "We'll also create an iterator for our dataset using the torch DataLoader class. This helps save on memory during training because, unlike a for loop, with an iterator the entire dataset does not need to be loaded into memory."
      ]
    },
    {
      "cell_type": "code",
      "metadata": {
        "id": "GEgLpFVlo1Z-"
      },
      "source": [
        "from torch.utils.data import TensorDataset, DataLoader, RandomSampler, SequentialSampler\n",
        "\n",
        "# The DataLoader needs to know our batch size for training, so we specify it \n",
        "# here.\n",
        "# For fine-tuning BERT on a specific task, the authors recommend a batch size of\n",
        "# 16 or 32.\n",
        "\n",
        "batch_size = 32\n",
        "\n",
        "# Create the DataLoader for our training set.\n",
        "train_data = TensorDataset(train_inputs, train_masks, train_labels)\n",
        "train_sampler = RandomSampler(train_data)\n",
        "train_dataloader = DataLoader(train_data, sampler=train_sampler, batch_size=batch_size)\n",
        "\n",
        "# Create the DataLoader for our validation set.\n",
        "validation_data = TensorDataset(validation_inputs, validation_masks, validation_labels)\n",
        "validation_sampler = SequentialSampler(validation_data)\n",
        "validation_dataloader = DataLoader(validation_data, sampler=validation_sampler, batch_size=batch_size)\n"
      ],
      "execution_count": 21,
      "outputs": []
    },
    {
      "cell_type": "markdown",
      "metadata": {
        "id": "8bwa6Rts-02-"
      },
      "source": [
        "# 4. Train Our Classification Model"
      ]
    },
    {
      "cell_type": "markdown",
      "metadata": {
        "id": "3xYQ3iLO08SX"
      },
      "source": [
        "Now that our input data is properly formatted, it's time to fine tune the BERT model. "
      ]
    },
    {
      "cell_type": "markdown",
      "metadata": {
        "id": "D6TKgyUzPIQc"
      },
      "source": [
        "## 4.1. BertForSequenceClassification"
      ]
    },
    {
      "cell_type": "markdown",
      "metadata": {
        "id": "1sjzRT1V0zwm"
      },
      "source": [
        "For this task, we first want to modify the pre-trained BERT model to give outputs for classification, and then we want to continue training the model on our dataset until that the entire model, end-to-end, is well-suited for our task. \n",
        "\n",
        "Thankfully, the huggingface pytorch implementation includes a set of interfaces designed for a variety of NLP tasks. Though these interfaces are all built on top of a trained BERT model, each has different top layers and output types designed to accomodate their specific NLP task.  \n",
        "\n",
        "Here is the current list of classes provided for fine-tuning:\n",
        "* BertModel\n",
        "* BertForPreTraining\n",
        "* BertForMaskedLM\n",
        "* BertForNextSentencePrediction\n",
        "* **BertForSequenceClassification** - The one we'll use.\n",
        "* BertForTokenClassification\n",
        "* BertForQuestionAnswering\n",
        "\n",
        "The documentation for these can be found under [here](https://huggingface.co/transformers/v2.2.0/model_doc/bert.html)."
      ]
    },
    {
      "cell_type": "markdown",
      "metadata": {
        "id": "BXYitPoE-cjH"
      },
      "source": [
        "\n",
        "\n",
        "We'll be using [BertForSequenceClassification](https://huggingface.co/transformers/v2.2.0/model_doc/bert.html#bertforsequenceclassification). This is the normal BERT model with an added single linear layer on top for classification that we will use as a sentence classifier. As we feed input data, the entire pre-trained BERT model and the additional untrained classification layer is trained on our specific task. \n"
      ]
    },
    {
      "cell_type": "markdown",
      "metadata": {
        "id": "WnQW9E-bBCRt"
      },
      "source": [
        "OK, let's load BERT! There are a few different pre-trained BERT models available. \"bert-base-uncased\" means the version that has only lowercase letters (\"uncased\") and is the smaller version of the two (\"base\" vs \"large\").\n",
        "\n",
        "The documentation for `from_pretrained` can be found [here](https://huggingface.co/transformers/v2.2.0/main_classes/model.html#transformers.PreTrainedModel.from_pretrained), with the additional parameters defined [here](https://huggingface.co/transformers/v2.2.0/main_classes/configuration.html#transformers.PretrainedConfig)."
      ]
    },
    {
      "cell_type": "code",
      "metadata": {
        "id": "gFsCTp_mporB",
        "colab": {
          "base_uri": "https://localhost:8080/",
          "height": 1000,
          "referenced_widgets": [
            "daf5e67bbb2f41fba64c013a6db8c78f",
            "ca9b3234351048909568033ec8afb9bc",
            "78fe840f1323470ea2ebd10a16b31b6f",
            "8ed1836c03d34e889c287df7bc909a62",
            "58cdd65f30ec4529bfca129ecb0969b1",
            "dbecdcdd7a2945a9a41572fe0044843b",
            "7f1f116ea17f41a689e48647e0e1d1bd",
            "29e96049a2fb49db8877f01fe5565561",
            "7cff5aea45234b9abe3dcf6786f702bc",
            "4316bd3c98f9488daf6002c8f2714fb1",
            "bfb950a2b6ec4fa890986b68efe41c2c"
          ]
        },
        "outputId": "4639d73b-92fa-441c-83dd-fdce73f8277f"
      },
      "source": [
        "from transformers import BertForSequenceClassification, AdamW, BertConfig\n",
        "\n",
        "# Load BertForSequenceClassification, the pretrained BERT model with a single \n",
        "# linear classification layer on top. \n",
        "model = BertForSequenceClassification.from_pretrained(\n",
        "    \"bert-base-multilingual-uncased\", # Use the 12-layer BERT model, with an uncased vocab.\n",
        "    num_labels = len(data.category.unique()), # The number of output labels--2 for binary classification.\n",
        "                    # You can increase this for multi-class tasks.   \n",
        "    output_attentions = False, # Whether the model returns attentions weights.\n",
        "    output_hidden_states = False, # Whether the model returns all hidden-states.\n",
        ")\n",
        "\n",
        "# Tell pytorch to run this model on the GPU.\n",
        "model.cuda()"
      ],
      "execution_count": 22,
      "outputs": [
        {
          "output_type": "display_data",
          "data": {
            "text/plain": [
              "Downloading:   0%|          | 0.00/672M [00:00<?, ?B/s]"
            ],
            "application/vnd.jupyter.widget-view+json": {
              "version_major": 2,
              "version_minor": 0,
              "model_id": "daf5e67bbb2f41fba64c013a6db8c78f"
            }
          },
          "metadata": {}
        },
        {
          "output_type": "stream",
          "name": "stderr",
          "text": [
            "Some weights of the model checkpoint at bert-base-multilingual-uncased were not used when initializing BertForSequenceClassification: ['cls.predictions.transform.LayerNorm.weight', 'cls.predictions.transform.dense.weight', 'cls.predictions.transform.LayerNorm.bias', 'cls.predictions.transform.dense.bias', 'cls.predictions.bias', 'cls.seq_relationship.bias', 'cls.seq_relationship.weight', 'cls.predictions.decoder.weight']\n",
            "- This IS expected if you are initializing BertForSequenceClassification from the checkpoint of a model trained on another task or with another architecture (e.g. initializing a BertForSequenceClassification model from a BertForPreTraining model).\n",
            "- This IS NOT expected if you are initializing BertForSequenceClassification from the checkpoint of a model that you expect to be exactly identical (initializing a BertForSequenceClassification model from a BertForSequenceClassification model).\n",
            "Some weights of BertForSequenceClassification were not initialized from the model checkpoint at bert-base-multilingual-uncased and are newly initialized: ['classifier.weight', 'classifier.bias']\n",
            "You should probably TRAIN this model on a down-stream task to be able to use it for predictions and inference.\n"
          ]
        },
        {
          "output_type": "execute_result",
          "data": {
            "text/plain": [
              "BertForSequenceClassification(\n",
              "  (bert): BertModel(\n",
              "    (embeddings): BertEmbeddings(\n",
              "      (word_embeddings): Embedding(105879, 768, padding_idx=0)\n",
              "      (position_embeddings): Embedding(512, 768)\n",
              "      (token_type_embeddings): Embedding(2, 768)\n",
              "      (LayerNorm): LayerNorm((768,), eps=1e-12, elementwise_affine=True)\n",
              "      (dropout): Dropout(p=0.1, inplace=False)\n",
              "    )\n",
              "    (encoder): BertEncoder(\n",
              "      (layer): ModuleList(\n",
              "        (0): BertLayer(\n",
              "          (attention): BertAttention(\n",
              "            (self): BertSelfAttention(\n",
              "              (query): Linear(in_features=768, out_features=768, bias=True)\n",
              "              (key): Linear(in_features=768, out_features=768, bias=True)\n",
              "              (value): Linear(in_features=768, out_features=768, bias=True)\n",
              "              (dropout): Dropout(p=0.1, inplace=False)\n",
              "            )\n",
              "            (output): BertSelfOutput(\n",
              "              (dense): Linear(in_features=768, out_features=768, bias=True)\n",
              "              (LayerNorm): LayerNorm((768,), eps=1e-12, elementwise_affine=True)\n",
              "              (dropout): Dropout(p=0.1, inplace=False)\n",
              "            )\n",
              "          )\n",
              "          (intermediate): BertIntermediate(\n",
              "            (dense): Linear(in_features=768, out_features=3072, bias=True)\n",
              "            (intermediate_act_fn): GELUActivation()\n",
              "          )\n",
              "          (output): BertOutput(\n",
              "            (dense): Linear(in_features=3072, out_features=768, bias=True)\n",
              "            (LayerNorm): LayerNorm((768,), eps=1e-12, elementwise_affine=True)\n",
              "            (dropout): Dropout(p=0.1, inplace=False)\n",
              "          )\n",
              "        )\n",
              "        (1): BertLayer(\n",
              "          (attention): BertAttention(\n",
              "            (self): BertSelfAttention(\n",
              "              (query): Linear(in_features=768, out_features=768, bias=True)\n",
              "              (key): Linear(in_features=768, out_features=768, bias=True)\n",
              "              (value): Linear(in_features=768, out_features=768, bias=True)\n",
              "              (dropout): Dropout(p=0.1, inplace=False)\n",
              "            )\n",
              "            (output): BertSelfOutput(\n",
              "              (dense): Linear(in_features=768, out_features=768, bias=True)\n",
              "              (LayerNorm): LayerNorm((768,), eps=1e-12, elementwise_affine=True)\n",
              "              (dropout): Dropout(p=0.1, inplace=False)\n",
              "            )\n",
              "          )\n",
              "          (intermediate): BertIntermediate(\n",
              "            (dense): Linear(in_features=768, out_features=3072, bias=True)\n",
              "            (intermediate_act_fn): GELUActivation()\n",
              "          )\n",
              "          (output): BertOutput(\n",
              "            (dense): Linear(in_features=3072, out_features=768, bias=True)\n",
              "            (LayerNorm): LayerNorm((768,), eps=1e-12, elementwise_affine=True)\n",
              "            (dropout): Dropout(p=0.1, inplace=False)\n",
              "          )\n",
              "        )\n",
              "        (2): BertLayer(\n",
              "          (attention): BertAttention(\n",
              "            (self): BertSelfAttention(\n",
              "              (query): Linear(in_features=768, out_features=768, bias=True)\n",
              "              (key): Linear(in_features=768, out_features=768, bias=True)\n",
              "              (value): Linear(in_features=768, out_features=768, bias=True)\n",
              "              (dropout): Dropout(p=0.1, inplace=False)\n",
              "            )\n",
              "            (output): BertSelfOutput(\n",
              "              (dense): Linear(in_features=768, out_features=768, bias=True)\n",
              "              (LayerNorm): LayerNorm((768,), eps=1e-12, elementwise_affine=True)\n",
              "              (dropout): Dropout(p=0.1, inplace=False)\n",
              "            )\n",
              "          )\n",
              "          (intermediate): BertIntermediate(\n",
              "            (dense): Linear(in_features=768, out_features=3072, bias=True)\n",
              "            (intermediate_act_fn): GELUActivation()\n",
              "          )\n",
              "          (output): BertOutput(\n",
              "            (dense): Linear(in_features=3072, out_features=768, bias=True)\n",
              "            (LayerNorm): LayerNorm((768,), eps=1e-12, elementwise_affine=True)\n",
              "            (dropout): Dropout(p=0.1, inplace=False)\n",
              "          )\n",
              "        )\n",
              "        (3): BertLayer(\n",
              "          (attention): BertAttention(\n",
              "            (self): BertSelfAttention(\n",
              "              (query): Linear(in_features=768, out_features=768, bias=True)\n",
              "              (key): Linear(in_features=768, out_features=768, bias=True)\n",
              "              (value): Linear(in_features=768, out_features=768, bias=True)\n",
              "              (dropout): Dropout(p=0.1, inplace=False)\n",
              "            )\n",
              "            (output): BertSelfOutput(\n",
              "              (dense): Linear(in_features=768, out_features=768, bias=True)\n",
              "              (LayerNorm): LayerNorm((768,), eps=1e-12, elementwise_affine=True)\n",
              "              (dropout): Dropout(p=0.1, inplace=False)\n",
              "            )\n",
              "          )\n",
              "          (intermediate): BertIntermediate(\n",
              "            (dense): Linear(in_features=768, out_features=3072, bias=True)\n",
              "            (intermediate_act_fn): GELUActivation()\n",
              "          )\n",
              "          (output): BertOutput(\n",
              "            (dense): Linear(in_features=3072, out_features=768, bias=True)\n",
              "            (LayerNorm): LayerNorm((768,), eps=1e-12, elementwise_affine=True)\n",
              "            (dropout): Dropout(p=0.1, inplace=False)\n",
              "          )\n",
              "        )\n",
              "        (4): BertLayer(\n",
              "          (attention): BertAttention(\n",
              "            (self): BertSelfAttention(\n",
              "              (query): Linear(in_features=768, out_features=768, bias=True)\n",
              "              (key): Linear(in_features=768, out_features=768, bias=True)\n",
              "              (value): Linear(in_features=768, out_features=768, bias=True)\n",
              "              (dropout): Dropout(p=0.1, inplace=False)\n",
              "            )\n",
              "            (output): BertSelfOutput(\n",
              "              (dense): Linear(in_features=768, out_features=768, bias=True)\n",
              "              (LayerNorm): LayerNorm((768,), eps=1e-12, elementwise_affine=True)\n",
              "              (dropout): Dropout(p=0.1, inplace=False)\n",
              "            )\n",
              "          )\n",
              "          (intermediate): BertIntermediate(\n",
              "            (dense): Linear(in_features=768, out_features=3072, bias=True)\n",
              "            (intermediate_act_fn): GELUActivation()\n",
              "          )\n",
              "          (output): BertOutput(\n",
              "            (dense): Linear(in_features=3072, out_features=768, bias=True)\n",
              "            (LayerNorm): LayerNorm((768,), eps=1e-12, elementwise_affine=True)\n",
              "            (dropout): Dropout(p=0.1, inplace=False)\n",
              "          )\n",
              "        )\n",
              "        (5): BertLayer(\n",
              "          (attention): BertAttention(\n",
              "            (self): BertSelfAttention(\n",
              "              (query): Linear(in_features=768, out_features=768, bias=True)\n",
              "              (key): Linear(in_features=768, out_features=768, bias=True)\n",
              "              (value): Linear(in_features=768, out_features=768, bias=True)\n",
              "              (dropout): Dropout(p=0.1, inplace=False)\n",
              "            )\n",
              "            (output): BertSelfOutput(\n",
              "              (dense): Linear(in_features=768, out_features=768, bias=True)\n",
              "              (LayerNorm): LayerNorm((768,), eps=1e-12, elementwise_affine=True)\n",
              "              (dropout): Dropout(p=0.1, inplace=False)\n",
              "            )\n",
              "          )\n",
              "          (intermediate): BertIntermediate(\n",
              "            (dense): Linear(in_features=768, out_features=3072, bias=True)\n",
              "            (intermediate_act_fn): GELUActivation()\n",
              "          )\n",
              "          (output): BertOutput(\n",
              "            (dense): Linear(in_features=3072, out_features=768, bias=True)\n",
              "            (LayerNorm): LayerNorm((768,), eps=1e-12, elementwise_affine=True)\n",
              "            (dropout): Dropout(p=0.1, inplace=False)\n",
              "          )\n",
              "        )\n",
              "        (6): BertLayer(\n",
              "          (attention): BertAttention(\n",
              "            (self): BertSelfAttention(\n",
              "              (query): Linear(in_features=768, out_features=768, bias=True)\n",
              "              (key): Linear(in_features=768, out_features=768, bias=True)\n",
              "              (value): Linear(in_features=768, out_features=768, bias=True)\n",
              "              (dropout): Dropout(p=0.1, inplace=False)\n",
              "            )\n",
              "            (output): BertSelfOutput(\n",
              "              (dense): Linear(in_features=768, out_features=768, bias=True)\n",
              "              (LayerNorm): LayerNorm((768,), eps=1e-12, elementwise_affine=True)\n",
              "              (dropout): Dropout(p=0.1, inplace=False)\n",
              "            )\n",
              "          )\n",
              "          (intermediate): BertIntermediate(\n",
              "            (dense): Linear(in_features=768, out_features=3072, bias=True)\n",
              "            (intermediate_act_fn): GELUActivation()\n",
              "          )\n",
              "          (output): BertOutput(\n",
              "            (dense): Linear(in_features=3072, out_features=768, bias=True)\n",
              "            (LayerNorm): LayerNorm((768,), eps=1e-12, elementwise_affine=True)\n",
              "            (dropout): Dropout(p=0.1, inplace=False)\n",
              "          )\n",
              "        )\n",
              "        (7): BertLayer(\n",
              "          (attention): BertAttention(\n",
              "            (self): BertSelfAttention(\n",
              "              (query): Linear(in_features=768, out_features=768, bias=True)\n",
              "              (key): Linear(in_features=768, out_features=768, bias=True)\n",
              "              (value): Linear(in_features=768, out_features=768, bias=True)\n",
              "              (dropout): Dropout(p=0.1, inplace=False)\n",
              "            )\n",
              "            (output): BertSelfOutput(\n",
              "              (dense): Linear(in_features=768, out_features=768, bias=True)\n",
              "              (LayerNorm): LayerNorm((768,), eps=1e-12, elementwise_affine=True)\n",
              "              (dropout): Dropout(p=0.1, inplace=False)\n",
              "            )\n",
              "          )\n",
              "          (intermediate): BertIntermediate(\n",
              "            (dense): Linear(in_features=768, out_features=3072, bias=True)\n",
              "            (intermediate_act_fn): GELUActivation()\n",
              "          )\n",
              "          (output): BertOutput(\n",
              "            (dense): Linear(in_features=3072, out_features=768, bias=True)\n",
              "            (LayerNorm): LayerNorm((768,), eps=1e-12, elementwise_affine=True)\n",
              "            (dropout): Dropout(p=0.1, inplace=False)\n",
              "          )\n",
              "        )\n",
              "        (8): BertLayer(\n",
              "          (attention): BertAttention(\n",
              "            (self): BertSelfAttention(\n",
              "              (query): Linear(in_features=768, out_features=768, bias=True)\n",
              "              (key): Linear(in_features=768, out_features=768, bias=True)\n",
              "              (value): Linear(in_features=768, out_features=768, bias=True)\n",
              "              (dropout): Dropout(p=0.1, inplace=False)\n",
              "            )\n",
              "            (output): BertSelfOutput(\n",
              "              (dense): Linear(in_features=768, out_features=768, bias=True)\n",
              "              (LayerNorm): LayerNorm((768,), eps=1e-12, elementwise_affine=True)\n",
              "              (dropout): Dropout(p=0.1, inplace=False)\n",
              "            )\n",
              "          )\n",
              "          (intermediate): BertIntermediate(\n",
              "            (dense): Linear(in_features=768, out_features=3072, bias=True)\n",
              "            (intermediate_act_fn): GELUActivation()\n",
              "          )\n",
              "          (output): BertOutput(\n",
              "            (dense): Linear(in_features=3072, out_features=768, bias=True)\n",
              "            (LayerNorm): LayerNorm((768,), eps=1e-12, elementwise_affine=True)\n",
              "            (dropout): Dropout(p=0.1, inplace=False)\n",
              "          )\n",
              "        )\n",
              "        (9): BertLayer(\n",
              "          (attention): BertAttention(\n",
              "            (self): BertSelfAttention(\n",
              "              (query): Linear(in_features=768, out_features=768, bias=True)\n",
              "              (key): Linear(in_features=768, out_features=768, bias=True)\n",
              "              (value): Linear(in_features=768, out_features=768, bias=True)\n",
              "              (dropout): Dropout(p=0.1, inplace=False)\n",
              "            )\n",
              "            (output): BertSelfOutput(\n",
              "              (dense): Linear(in_features=768, out_features=768, bias=True)\n",
              "              (LayerNorm): LayerNorm((768,), eps=1e-12, elementwise_affine=True)\n",
              "              (dropout): Dropout(p=0.1, inplace=False)\n",
              "            )\n",
              "          )\n",
              "          (intermediate): BertIntermediate(\n",
              "            (dense): Linear(in_features=768, out_features=3072, bias=True)\n",
              "            (intermediate_act_fn): GELUActivation()\n",
              "          )\n",
              "          (output): BertOutput(\n",
              "            (dense): Linear(in_features=3072, out_features=768, bias=True)\n",
              "            (LayerNorm): LayerNorm((768,), eps=1e-12, elementwise_affine=True)\n",
              "            (dropout): Dropout(p=0.1, inplace=False)\n",
              "          )\n",
              "        )\n",
              "        (10): BertLayer(\n",
              "          (attention): BertAttention(\n",
              "            (self): BertSelfAttention(\n",
              "              (query): Linear(in_features=768, out_features=768, bias=True)\n",
              "              (key): Linear(in_features=768, out_features=768, bias=True)\n",
              "              (value): Linear(in_features=768, out_features=768, bias=True)\n",
              "              (dropout): Dropout(p=0.1, inplace=False)\n",
              "            )\n",
              "            (output): BertSelfOutput(\n",
              "              (dense): Linear(in_features=768, out_features=768, bias=True)\n",
              "              (LayerNorm): LayerNorm((768,), eps=1e-12, elementwise_affine=True)\n",
              "              (dropout): Dropout(p=0.1, inplace=False)\n",
              "            )\n",
              "          )\n",
              "          (intermediate): BertIntermediate(\n",
              "            (dense): Linear(in_features=768, out_features=3072, bias=True)\n",
              "            (intermediate_act_fn): GELUActivation()\n",
              "          )\n",
              "          (output): BertOutput(\n",
              "            (dense): Linear(in_features=3072, out_features=768, bias=True)\n",
              "            (LayerNorm): LayerNorm((768,), eps=1e-12, elementwise_affine=True)\n",
              "            (dropout): Dropout(p=0.1, inplace=False)\n",
              "          )\n",
              "        )\n",
              "        (11): BertLayer(\n",
              "          (attention): BertAttention(\n",
              "            (self): BertSelfAttention(\n",
              "              (query): Linear(in_features=768, out_features=768, bias=True)\n",
              "              (key): Linear(in_features=768, out_features=768, bias=True)\n",
              "              (value): Linear(in_features=768, out_features=768, bias=True)\n",
              "              (dropout): Dropout(p=0.1, inplace=False)\n",
              "            )\n",
              "            (output): BertSelfOutput(\n",
              "              (dense): Linear(in_features=768, out_features=768, bias=True)\n",
              "              (LayerNorm): LayerNorm((768,), eps=1e-12, elementwise_affine=True)\n",
              "              (dropout): Dropout(p=0.1, inplace=False)\n",
              "            )\n",
              "          )\n",
              "          (intermediate): BertIntermediate(\n",
              "            (dense): Linear(in_features=768, out_features=3072, bias=True)\n",
              "            (intermediate_act_fn): GELUActivation()\n",
              "          )\n",
              "          (output): BertOutput(\n",
              "            (dense): Linear(in_features=3072, out_features=768, bias=True)\n",
              "            (LayerNorm): LayerNorm((768,), eps=1e-12, elementwise_affine=True)\n",
              "            (dropout): Dropout(p=0.1, inplace=False)\n",
              "          )\n",
              "        )\n",
              "      )\n",
              "    )\n",
              "    (pooler): BertPooler(\n",
              "      (dense): Linear(in_features=768, out_features=768, bias=True)\n",
              "      (activation): Tanh()\n",
              "    )\n",
              "  )\n",
              "  (dropout): Dropout(p=0.1, inplace=False)\n",
              "  (classifier): Linear(in_features=768, out_features=5, bias=True)\n",
              ")"
            ]
          },
          "metadata": {},
          "execution_count": 22
        }
      ]
    },
    {
      "cell_type": "markdown",
      "metadata": {
        "id": "e0Jv6c7-HHDW"
      },
      "source": [
        "Just for curiosity's sake, we can browse all of the model's parameters by name here.\n",
        "\n",
        "In the below cell, I've printed out the names and dimensions of the weights for:\n",
        "\n",
        "1. The embedding layer.\n",
        "2. The first of the twelve transformers.\n",
        "3. The output layer.\n",
        "\n",
        "\n"
      ]
    },
    {
      "cell_type": "code",
      "metadata": {
        "id": "a5cNVxcjeaDu"
      },
      "source": [
        "b = model.bert.pooler.dense.weight\n",
        "c = model.classifier.weight\n",
        "b = b.cpu().detach().numpy()\n",
        "c = c.cpu().detach().numpy()"
      ],
      "execution_count": 23,
      "outputs": []
    },
    {
      "cell_type": "code",
      "metadata": {
        "id": "8PIiVlDYCtSq",
        "colab": {
          "base_uri": "https://localhost:8080/"
        },
        "outputId": "1ffe0bbe-4522-43dc-bb61-6e5629abdd89"
      },
      "source": [
        "# Get all of the model's parameters as a list of tuples.\n",
        "params = list(model.named_parameters())\n",
        "\n",
        "print('The BERT model has {:} different named parameters.\\n'.format(len(params)))\n",
        "\n",
        "print('==== Embedding Layer ====\\n')\n",
        "\n",
        "for p in params[0:5]:\n",
        "    print(\"{:<55} {:>12}\".format(p[0], str(tuple(p[1].size()))))\n",
        "\n",
        "print('\\n==== First Transformer ====\\n')\n",
        "\n",
        "for p in params[5:21]:\n",
        "    print(\"{:<55} {:>12}\".format(p[0], str(tuple(p[1].size()))))\n",
        "\n",
        "print('\\n==== Output Layer ====\\n')\n",
        "\n",
        "for p in params[-4:]:\n",
        "    print(\"{:<55} {:>12}\".format(p[0], str(tuple(p[1].size()))))"
      ],
      "execution_count": 24,
      "outputs": [
        {
          "output_type": "stream",
          "name": "stdout",
          "text": [
            "The BERT model has 201 different named parameters.\n",
            "\n",
            "==== Embedding Layer ====\n",
            "\n",
            "bert.embeddings.word_embeddings.weight                  (105879, 768)\n",
            "bert.embeddings.position_embeddings.weight                (512, 768)\n",
            "bert.embeddings.token_type_embeddings.weight                (2, 768)\n",
            "bert.embeddings.LayerNorm.weight                              (768,)\n",
            "bert.embeddings.LayerNorm.bias                                (768,)\n",
            "\n",
            "==== First Transformer ====\n",
            "\n",
            "bert.encoder.layer.0.attention.self.query.weight          (768, 768)\n",
            "bert.encoder.layer.0.attention.self.query.bias                (768,)\n",
            "bert.encoder.layer.0.attention.self.key.weight            (768, 768)\n",
            "bert.encoder.layer.0.attention.self.key.bias                  (768,)\n",
            "bert.encoder.layer.0.attention.self.value.weight          (768, 768)\n",
            "bert.encoder.layer.0.attention.self.value.bias                (768,)\n",
            "bert.encoder.layer.0.attention.output.dense.weight        (768, 768)\n",
            "bert.encoder.layer.0.attention.output.dense.bias              (768,)\n",
            "bert.encoder.layer.0.attention.output.LayerNorm.weight        (768,)\n",
            "bert.encoder.layer.0.attention.output.LayerNorm.bias          (768,)\n",
            "bert.encoder.layer.0.intermediate.dense.weight           (3072, 768)\n",
            "bert.encoder.layer.0.intermediate.dense.bias                 (3072,)\n",
            "bert.encoder.layer.0.output.dense.weight                 (768, 3072)\n",
            "bert.encoder.layer.0.output.dense.bias                        (768,)\n",
            "bert.encoder.layer.0.output.LayerNorm.weight                  (768,)\n",
            "bert.encoder.layer.0.output.LayerNorm.bias                    (768,)\n",
            "\n",
            "==== Output Layer ====\n",
            "\n",
            "bert.pooler.dense.weight                                  (768, 768)\n",
            "bert.pooler.dense.bias                                        (768,)\n",
            "classifier.weight                                           (5, 768)\n",
            "classifier.bias                                                 (5,)\n"
          ]
        }
      ]
    },
    {
      "cell_type": "markdown",
      "metadata": {
        "id": "qRWT-D4U_Pvx"
      },
      "source": [
        "## 4.2. Optimizer & Learning Rate Scheduler"
      ]
    },
    {
      "cell_type": "markdown",
      "metadata": {
        "id": "8o-VEBobKwHk"
      },
      "source": [
        "Now that we have our model loaded we need to grab the training hyperparameters from within the stored model.\n",
        "\n",
        "For the purposes of fine-tuning, the authors recommend choosing from the following values:\n",
        "- Batch size: 16, 32  (We chose 32 when creating our DataLoaders).\n",
        "- Learning rate (Adam): 5e-5, 3e-5, 2e-5  (We'll use 2e-5).\n",
        "- Number of epochs: 2, 3, 4  (We'll use 4).\n",
        "\n",
        "The epsilon parameter `eps = 1e-8` is \"a very small number to prevent any division by zero in the implementation\" (from [here](https://machinelearningmastery.com/adam-optimization-algorithm-for-deep-learning/)).\n",
        "\n",
        "You can find the creation of the AdamW optimizer in `run_glue.py` [here](https://github.com/huggingface/transformers/blob/5bfcd0485ece086ebcbed2d008813037968a9e58/examples/run_glue.py#L109)."
      ]
    },
    {
      "cell_type": "code",
      "metadata": {
        "id": "GLs72DuMODJO",
        "colab": {
          "base_uri": "https://localhost:8080/"
        },
        "outputId": "8ef4f30d-1a26-4608-9bc5-a169c5b6becc"
      },
      "source": [
        "# Note: AdamW is a class from the huggingface library (as opposed to pytorch) \n",
        "# I believe the 'W' stands for 'Weight Decay fix\"\n",
        "optimizer = AdamW(model.parameters(),\n",
        "                  lr = 2e-5, # args.learning_rate - default is 5e-5, our notebook had 2e-5\n",
        "                  eps = 1e-8 # args.adam_epsilon  - default is 1e-8.\n",
        "                )\n"
      ],
      "execution_count": 25,
      "outputs": [
        {
          "output_type": "stream",
          "name": "stderr",
          "text": [
            "/usr/local/lib/python3.8/dist-packages/transformers/optimization.py:306: FutureWarning: This implementation of AdamW is deprecated and will be removed in a future version. Use the PyTorch implementation torch.optim.AdamW instead, or set `no_deprecation_warning=True` to disable this warning\n",
            "  warnings.warn(\n"
          ]
        }
      ]
    },
    {
      "cell_type": "code",
      "metadata": {
        "id": "-p0upAhhRiIx"
      },
      "source": [
        "from transformers import get_linear_schedule_with_warmup\n",
        "\n",
        "# Number of training epochs (authors recommend between 2 and 4)\n",
        "epochs = 4\n",
        "\n",
        "# Total number of training steps is number of batches * number of epochs.\n",
        "total_steps = len(train_dataloader) * epochs\n",
        "\n",
        "# Create the learning rate scheduler.\n",
        "scheduler = get_linear_schedule_with_warmup(optimizer, \n",
        "                                            num_warmup_steps = 100, # Default value in run_glue.py\n",
        "                                            num_training_steps = total_steps)"
      ],
      "execution_count": 26,
      "outputs": []
    },
    {
      "cell_type": "markdown",
      "metadata": {
        "id": "RqfmWwUR_Sox"
      },
      "source": [
        "## 4.3. Training Loop"
      ]
    },
    {
      "cell_type": "markdown",
      "metadata": {
        "id": "_QXZhFb4LnV5"
      },
      "source": [
        "Below is our training loop. There's a lot going on, but fundamentally for each pass in our loop we have a trianing phase and a validation phase. At each pass we need to:\n",
        "\n",
        "Training loop:\n",
        "- Unpack our data inputs and labels\n",
        "- Load data onto the GPU for acceleration\n",
        "- Clear out the gradients calculated in the previous pass. \n",
        "    - In pytorch the gradients accumulate by default (useful for things like RNNs) unless you explicitly clear them out.\n",
        "- Forward pass (feed input data through the network)\n",
        "- Backward pass (backpropagation)\n",
        "- Tell the network to update parameters with optimizer.step()\n",
        "- Track variables for monitoring progress\n",
        "\n",
        "Evalution loop:\n",
        "- Unpack our data inputs and labels\n",
        "- Load data onto the GPU for acceleration\n",
        "- Forward pass (feed input data through the network)\n",
        "- Compute loss on our validation data and track variables for monitoring progress\n",
        "\n",
        "So please read carefully through the comments to get an understanding of what's happening. If you're unfamiliar with pytorch a quick look at some of their [beginner tutorials](https://pytorch.org/tutorials/beginner/blitz/cifar10_tutorial.html#sphx-glr-beginner-blitz-cifar10-tutorial-py) will help show you that training loops really involve only a few simple steps; the rest is usually just decoration and logging.  "
      ]
    },
    {
      "cell_type": "markdown",
      "metadata": {
        "id": "pE5B99H5H2-W"
      },
      "source": [
        "Define a helper function for calculating accuracy."
      ]
    },
    {
      "cell_type": "code",
      "metadata": {
        "id": "9cQNvaZ9bnyy"
      },
      "source": [
        "import numpy as np\n",
        "\n",
        "# Function to calculate the accuracy of our predictions vs labels\n",
        "def flat_accuracy(preds, labels):\n",
        "    pred_flat = np.argmax(preds, axis=1).flatten()\n",
        "    labels_flat = labels.flatten()\n",
        "    return np.sum(pred_flat == labels_flat) / len(labels_flat)"
      ],
      "execution_count": 27,
      "outputs": []
    },
    {
      "cell_type": "code",
      "source": [
        "from sklearn.metrics import f1_score\n",
        "\n",
        "def compute_f1(preds, labels):\n",
        "    pred_flat = np.argmax(preds, axis=1).flatten()\n",
        "    labels_flat = labels.flatten()\n",
        "    f1 = f1_score(labels, labels_flat, average='micro')\n",
        "    return f1"
      ],
      "metadata": {
        "id": "MAcphZVo35qJ"
      },
      "execution_count": 30,
      "outputs": []
    },
    {
      "cell_type": "markdown",
      "metadata": {
        "id": "KNhRtWPXH9C3"
      },
      "source": [
        "Helper function for formatting elapsed times.\n"
      ]
    },
    {
      "cell_type": "code",
      "metadata": {
        "id": "gpt6tR83keZD"
      },
      "source": [
        "import time\n",
        "import datetime\n",
        "\n",
        "def format_time(elapsed):\n",
        "    '''\n",
        "    Takes a time in seconds and returns a string hh:mm:ss\n",
        "    '''\n",
        "    # Round to the nearest second.\n",
        "    elapsed_rounded = int(round((elapsed)))\n",
        "    \n",
        "    # Format as hh:mm:ss\n",
        "    return str(datetime.timedelta(seconds=elapsed_rounded))\n"
      ],
      "execution_count": 28,
      "outputs": []
    },
    {
      "cell_type": "markdown",
      "metadata": {
        "id": "cfNIhN19te3N"
      },
      "source": [
        "We're ready to kick off the training!"
      ]
    },
    {
      "cell_type": "code",
      "metadata": {
        "id": "6J-FYdx6nFE_",
        "colab": {
          "base_uri": "https://localhost:8080/"
        },
        "outputId": "f491178a-2e70-44e7-b49f-4bce6ec4eddf"
      },
      "source": [
        "import random\n",
        "\n",
        "# This training code is based on the `run_glue.py` script here:\n",
        "# https://github.com/huggingface/transformers/blob/5bfcd0485ece086ebcbed2d008813037968a9e58/examples/run_glue.py#L128\n",
        "\n",
        "\n",
        "# Set the seed value all over the place to make this reproducible.\n",
        "seed_val = 42\n",
        "\n",
        "random.seed(seed_val)\n",
        "np.random.seed(seed_val)\n",
        "torch.manual_seed(seed_val)\n",
        "torch.cuda.manual_seed_all(seed_val)\n",
        "\n",
        "# Store the average loss after each epoch so we can plot them.\n",
        "loss_values = []\n",
        "\n",
        "# For each epoch...\n",
        "for epoch_i in range(0, epochs):\n",
        "    \n",
        "    # ========================================\n",
        "    #               Training\n",
        "    # ========================================\n",
        "    \n",
        "    # Perform one full pass over the training set.\n",
        "\n",
        "    print(\"\")\n",
        "    print('======== Epoch {:} / {:} ========'.format(epoch_i + 1, epochs))\n",
        "    print('Training...')\n",
        "\n",
        "    # Measure how long the training epoch takes.\n",
        "    t0 = time.time()\n",
        "\n",
        "    # Reset the total loss for this epoch.\n",
        "    total_loss = 0\n",
        "\n",
        "    # Put the model into training mode. Don't be mislead--the call to \n",
        "    # `train` just changes the *mode*, it doesn't *perform* the training.\n",
        "    # `dropout` and `batchnorm` layers behave differently during training\n",
        "    # vs. test (source: https://stackoverflow.com/questions/51433378/what-does-model-train-do-in-pytorch)\n",
        "    model.train()\n",
        "\n",
        "    # For each batch of training data...\n",
        "    for step, batch in enumerate(train_dataloader):\n",
        "\n",
        "        # Progress update every 40 batches.\n",
        "        if step % 40 == 0 and not step == 0:\n",
        "            # Calculate elapsed time in minutes.\n",
        "            elapsed = format_time(time.time() - t0)\n",
        "            \n",
        "            # Report progress.\n",
        "            print('  Batch {:>5,}  of  {:>5,}.    Elapsed: {:}.'.format(step, len(train_dataloader), elapsed))\n",
        "\n",
        "        # Unpack this training batch from our dataloader. \n",
        "        #\n",
        "        # As we unpack the batch, we'll also copy each tensor to the GPU using the \n",
        "        # `to` method.\n",
        "        #\n",
        "        # `batch` contains three pytorch tensors:\n",
        "        #   [0]: input ids \n",
        "        #   [1]: attention masks\n",
        "        #   [2]: labels \n",
        "        b_input_ids = batch[0].to(device)\n",
        "        b_input_mask = batch[1].to(device)\n",
        "        b_labels = batch[2].to(device)\n",
        "\n",
        "        # Always clear any previously calculated gradients before performing a\n",
        "        # backward pass. PyTorch doesn't do this automatically because \n",
        "        # accumulating the gradients is \"convenient while training RNNs\". \n",
        "        # (source: https://stackoverflow.com/questions/48001598/why-do-we-need-to-call-zero-grad-in-pytorch)\n",
        "        model.zero_grad()        \n",
        "\n",
        "        # Perform a forward pass (evaluate the model on this training batch).\n",
        "        # This will return the loss (rather than the model output) because we\n",
        "        # have provided the `labels`.\n",
        "        # The documentation for this `model` function is here: \n",
        "        # https://huggingface.co/transformers/v2.2.0/model_doc/bert.html#transformers.BertForSequenceClassification\n",
        "        outputs = model(b_input_ids, \n",
        "                    token_type_ids=None, \n",
        "                    attention_mask=b_input_mask, \n",
        "                    labels=b_labels)\n",
        "        \n",
        "        # The call to `model` always returns a tuple, so we need to pull the \n",
        "        # loss value out of the tuple.\n",
        "        loss = outputs[0]\n",
        "\n",
        "        # Accumulate the training loss over all of the batches so that we can\n",
        "        # calculate the average loss at the end. `loss` is a Tensor containing a\n",
        "        # single value; the `.item()` function just returns the Python value \n",
        "        # from the tensor.\n",
        "        total_loss += loss.item()\n",
        "\n",
        "        # Perform a backward pass to calculate the gradients.\n",
        "        loss.backward()\n",
        "\n",
        "        # Clip the norm of the gradients to 1.0.\n",
        "        # This is to help prevent the \"exploding gradients\" problem.\n",
        "        torch.nn.utils.clip_grad_norm_(model.parameters(), 1.0)\n",
        "\n",
        "        # Update parameters and take a step using the computed gradient.\n",
        "        # The optimizer dictates the \"update rule\"--how the parameters are\n",
        "        # modified based on their gradients, the learning rate, etc.\n",
        "        optimizer.step()\n",
        "\n",
        "        # Update the learning rate.\n",
        "        scheduler.step()\n",
        "\n",
        "    # Calculate the average loss over the training data.\n",
        "    avg_train_loss = total_loss / len(train_dataloader)            \n",
        "    \n",
        "    # Store the loss value for plotting the learning curve.\n",
        "    loss_values.append(avg_train_loss)\n",
        "\n",
        "    print(\"\")\n",
        "    print(\"  Average training loss: {0:.2f}\".format(avg_train_loss))\n",
        "    print(\"  Training epcoh took: {:}\".format(format_time(time.time() - t0)))\n",
        "        \n",
        "    # ========================================\n",
        "    #               Validation\n",
        "    # ========================================\n",
        "    # After the completion of each training epoch, measure our performance on\n",
        "    # our validation set.\n",
        "\n",
        "    print(\"\")\n",
        "    print(\"Running Validation...\")\n",
        "\n",
        "    t0 = time.time()\n",
        "\n",
        "    # Put the model in evaluation mode--the dropout layers behave differently\n",
        "    # during evaluation.\n",
        "    model.eval()\n",
        "\n",
        "    # Tracking variables \n",
        "    eval_loss, eval_accuracy, eval_f1 = 0, 0, 0\n",
        "    nb_eval_steps, nb_eval_examples = 0, 0\n",
        "\n",
        "    # Evaluate data for one epoch\n",
        "    for batch in validation_dataloader:\n",
        "        \n",
        "        # Add batch to GPU\n",
        "        batch = tuple(t.to(device) for t in batch)\n",
        "        \n",
        "        # Unpack the inputs from our dataloader\n",
        "        b_input_ids, b_input_mask, b_labels = batch\n",
        "        \n",
        "        # Telling the model not to compute or store gradients, saving memory and\n",
        "        # speeding up validation\n",
        "        with torch.no_grad():        \n",
        "\n",
        "            # Forward pass, calculate logit predictions.\n",
        "            # This will return the logits rather than the loss because we have\n",
        "            # not provided labels.\n",
        "            # token_type_ids is the same as the \"segment ids\", which \n",
        "            # differentiates sentence 1 and 2 in 2-sentence tasks.\n",
        "            # The documentation for this `model` function is here: \n",
        "            # https://huggingface.co/transformers/v2.2.0/model_doc/bert.html#transformers.BertForSequenceClassification\n",
        "            outputs = model(b_input_ids, \n",
        "                            token_type_ids=None, \n",
        "                            attention_mask=b_input_mask)\n",
        "        \n",
        "        # Get the \"logits\" output by the model. The \"logits\" are the output\n",
        "        # values prior to applying an activation function like the softmax.\n",
        "        logits = outputs[0]\n",
        "\n",
        "        # Move logits and labels to CPU\n",
        "        logits = logits.detach().cpu().numpy()\n",
        "        label_ids = b_labels.to('cpu').numpy()\n",
        "        \n",
        "        # Calculate the accuracy for this batch of test sentences.\n",
        "        tmp_eval_accuracy = flat_accuracy(logits, label_ids)\n",
        "        # Accumulate the total accuracy.\n",
        "        eval_accuracy += tmp_eval_accuracy\n",
        "\n",
        "        # Calculate the F1 score for this batch of test sentences.\n",
        "        tmp_eval_f1 = compute_f1(logits, label_ids)\n",
        "        # Accumulate the total F1.\n",
        "        eval_f1 += tmp_eval_f1\n",
        "\n",
        "        # Track the number of batches\n",
        "        nb_eval_steps += 1\n",
        "\n",
        "    # Report the final accuracy for this validation run.\n",
        "    print(\"  Accuracy: {0:.2f}\".format(eval_accuracy/nb_eval_steps))\n",
        "    print(\"  F1: {0:.2f}\".format(eval_f1/nb_eval_steps))\n",
        "    print(\"  Validation took: {:}\".format(format_time(time.time() - t0)))\n",
        "\n",
        "print(\"\")\n",
        "print(\"Training complete!\")"
      ],
      "execution_count": 31,
      "outputs": [
        {
          "output_type": "stream",
          "name": "stdout",
          "text": [
            "\n",
            "======== Epoch 1 / 4 ========\n",
            "Training...\n",
            "  Batch    40  of  5,945.    Elapsed: 0:00:15.\n",
            "  Batch    80  of  5,945.    Elapsed: 0:00:31.\n",
            "  Batch   120  of  5,945.    Elapsed: 0:00:46.\n",
            "  Batch   160  of  5,945.    Elapsed: 0:01:02.\n",
            "  Batch   200  of  5,945.    Elapsed: 0:01:18.\n",
            "  Batch   240  of  5,945.    Elapsed: 0:01:34.\n",
            "  Batch   280  of  5,945.    Elapsed: 0:01:50.\n",
            "  Batch   320  of  5,945.    Elapsed: 0:02:06.\n",
            "  Batch   360  of  5,945.    Elapsed: 0:02:22.\n",
            "  Batch   400  of  5,945.    Elapsed: 0:02:39.\n",
            "  Batch   440  of  5,945.    Elapsed: 0:02:55.\n",
            "  Batch   480  of  5,945.    Elapsed: 0:03:11.\n",
            "  Batch   520  of  5,945.    Elapsed: 0:03:28.\n",
            "  Batch   560  of  5,945.    Elapsed: 0:03:44.\n",
            "  Batch   600  of  5,945.    Elapsed: 0:04:01.\n",
            "  Batch   640  of  5,945.    Elapsed: 0:04:17.\n",
            "  Batch   680  of  5,945.    Elapsed: 0:04:34.\n",
            "  Batch   720  of  5,945.    Elapsed: 0:04:50.\n",
            "  Batch   760  of  5,945.    Elapsed: 0:05:07.\n",
            "  Batch   800  of  5,945.    Elapsed: 0:05:24.\n",
            "  Batch   840  of  5,945.    Elapsed: 0:05:40.\n",
            "  Batch   880  of  5,945.    Elapsed: 0:05:57.\n",
            "  Batch   920  of  5,945.    Elapsed: 0:06:13.\n",
            "  Batch   960  of  5,945.    Elapsed: 0:06:30.\n",
            "  Batch 1,000  of  5,945.    Elapsed: 0:06:47.\n",
            "  Batch 1,040  of  5,945.    Elapsed: 0:07:03.\n",
            "  Batch 1,080  of  5,945.    Elapsed: 0:07:20.\n",
            "  Batch 1,120  of  5,945.    Elapsed: 0:07:37.\n",
            "  Batch 1,160  of  5,945.    Elapsed: 0:07:53.\n",
            "  Batch 1,200  of  5,945.    Elapsed: 0:08:10.\n",
            "  Batch 1,240  of  5,945.    Elapsed: 0:08:27.\n",
            "  Batch 1,280  of  5,945.    Elapsed: 0:08:43.\n",
            "  Batch 1,320  of  5,945.    Elapsed: 0:09:00.\n",
            "  Batch 1,360  of  5,945.    Elapsed: 0:09:17.\n",
            "  Batch 1,400  of  5,945.    Elapsed: 0:09:33.\n",
            "  Batch 1,440  of  5,945.    Elapsed: 0:09:50.\n",
            "  Batch 1,480  of  5,945.    Elapsed: 0:10:07.\n",
            "  Batch 1,520  of  5,945.    Elapsed: 0:10:23.\n",
            "  Batch 1,560  of  5,945.    Elapsed: 0:10:40.\n",
            "  Batch 1,600  of  5,945.    Elapsed: 0:10:57.\n",
            "  Batch 1,640  of  5,945.    Elapsed: 0:11:13.\n",
            "  Batch 1,680  of  5,945.    Elapsed: 0:11:30.\n",
            "  Batch 1,720  of  5,945.    Elapsed: 0:11:47.\n",
            "  Batch 1,760  of  5,945.    Elapsed: 0:12:03.\n",
            "  Batch 1,800  of  5,945.    Elapsed: 0:12:20.\n",
            "  Batch 1,840  of  5,945.    Elapsed: 0:12:37.\n",
            "  Batch 1,880  of  5,945.    Elapsed: 0:12:53.\n",
            "  Batch 1,920  of  5,945.    Elapsed: 0:13:10.\n",
            "  Batch 1,960  of  5,945.    Elapsed: 0:13:27.\n",
            "  Batch 2,000  of  5,945.    Elapsed: 0:13:44.\n",
            "  Batch 2,040  of  5,945.    Elapsed: 0:14:00.\n",
            "  Batch 2,080  of  5,945.    Elapsed: 0:14:17.\n",
            "  Batch 2,120  of  5,945.    Elapsed: 0:14:34.\n",
            "  Batch 2,160  of  5,945.    Elapsed: 0:14:50.\n",
            "  Batch 2,200  of  5,945.    Elapsed: 0:15:07.\n",
            "  Batch 2,240  of  5,945.    Elapsed: 0:15:24.\n",
            "  Batch 2,280  of  5,945.    Elapsed: 0:15:41.\n",
            "  Batch 2,320  of  5,945.    Elapsed: 0:15:57.\n",
            "  Batch 2,360  of  5,945.    Elapsed: 0:16:14.\n",
            "  Batch 2,400  of  5,945.    Elapsed: 0:16:31.\n",
            "  Batch 2,440  of  5,945.    Elapsed: 0:16:47.\n",
            "  Batch 2,480  of  5,945.    Elapsed: 0:17:04.\n",
            "  Batch 2,520  of  5,945.    Elapsed: 0:17:21.\n",
            "  Batch 2,560  of  5,945.    Elapsed: 0:17:37.\n",
            "  Batch 2,600  of  5,945.    Elapsed: 0:17:54.\n",
            "  Batch 2,640  of  5,945.    Elapsed: 0:18:11.\n",
            "  Batch 2,680  of  5,945.    Elapsed: 0:18:28.\n",
            "  Batch 2,720  of  5,945.    Elapsed: 0:18:44.\n",
            "  Batch 2,760  of  5,945.    Elapsed: 0:19:01.\n",
            "  Batch 2,800  of  5,945.    Elapsed: 0:19:18.\n",
            "  Batch 2,840  of  5,945.    Elapsed: 0:19:34.\n",
            "  Batch 2,880  of  5,945.    Elapsed: 0:19:51.\n",
            "  Batch 2,920  of  5,945.    Elapsed: 0:20:08.\n",
            "  Batch 2,960  of  5,945.    Elapsed: 0:20:24.\n",
            "  Batch 3,000  of  5,945.    Elapsed: 0:20:41.\n",
            "  Batch 3,040  of  5,945.    Elapsed: 0:20:58.\n",
            "  Batch 3,080  of  5,945.    Elapsed: 0:21:15.\n",
            "  Batch 3,120  of  5,945.    Elapsed: 0:21:31.\n",
            "  Batch 3,160  of  5,945.    Elapsed: 0:21:48.\n",
            "  Batch 3,200  of  5,945.    Elapsed: 0:22:05.\n",
            "  Batch 3,240  of  5,945.    Elapsed: 0:22:22.\n",
            "  Batch 3,280  of  5,945.    Elapsed: 0:22:38.\n",
            "  Batch 3,320  of  5,945.    Elapsed: 0:22:55.\n",
            "  Batch 3,360  of  5,945.    Elapsed: 0:23:12.\n",
            "  Batch 3,400  of  5,945.    Elapsed: 0:23:28.\n",
            "  Batch 3,440  of  5,945.    Elapsed: 0:23:45.\n",
            "  Batch 3,480  of  5,945.    Elapsed: 0:24:02.\n",
            "  Batch 3,520  of  5,945.    Elapsed: 0:24:18.\n",
            "  Batch 3,560  of  5,945.    Elapsed: 0:24:35.\n",
            "  Batch 3,600  of  5,945.    Elapsed: 0:24:52.\n",
            "  Batch 3,640  of  5,945.    Elapsed: 0:25:08.\n",
            "  Batch 3,680  of  5,945.    Elapsed: 0:25:25.\n",
            "  Batch 3,720  of  5,945.    Elapsed: 0:25:42.\n",
            "  Batch 3,760  of  5,945.    Elapsed: 0:25:59.\n",
            "  Batch 3,800  of  5,945.    Elapsed: 0:26:15.\n",
            "  Batch 3,840  of  5,945.    Elapsed: 0:26:32.\n",
            "  Batch 3,880  of  5,945.    Elapsed: 0:26:49.\n",
            "  Batch 3,920  of  5,945.    Elapsed: 0:27:05.\n",
            "  Batch 3,960  of  5,945.    Elapsed: 0:27:22.\n",
            "  Batch 4,000  of  5,945.    Elapsed: 0:27:39.\n",
            "  Batch 4,040  of  5,945.    Elapsed: 0:27:55.\n",
            "  Batch 4,080  of  5,945.    Elapsed: 0:28:12.\n",
            "  Batch 4,120  of  5,945.    Elapsed: 0:28:29.\n",
            "  Batch 4,160  of  5,945.    Elapsed: 0:28:46.\n",
            "  Batch 4,200  of  5,945.    Elapsed: 0:29:02.\n",
            "  Batch 4,240  of  5,945.    Elapsed: 0:29:19.\n",
            "  Batch 4,280  of  5,945.    Elapsed: 0:29:36.\n",
            "  Batch 4,320  of  5,945.    Elapsed: 0:29:52.\n",
            "  Batch 4,360  of  5,945.    Elapsed: 0:30:09.\n",
            "  Batch 4,400  of  5,945.    Elapsed: 0:30:26.\n",
            "  Batch 4,440  of  5,945.    Elapsed: 0:30:42.\n",
            "  Batch 4,480  of  5,945.    Elapsed: 0:30:59.\n",
            "  Batch 4,520  of  5,945.    Elapsed: 0:31:16.\n",
            "  Batch 4,560  of  5,945.    Elapsed: 0:31:32.\n",
            "  Batch 4,600  of  5,945.    Elapsed: 0:31:49.\n",
            "  Batch 4,640  of  5,945.    Elapsed: 0:32:06.\n",
            "  Batch 4,680  of  5,945.    Elapsed: 0:32:23.\n",
            "  Batch 4,720  of  5,945.    Elapsed: 0:32:39.\n",
            "  Batch 4,760  of  5,945.    Elapsed: 0:32:56.\n",
            "  Batch 4,800  of  5,945.    Elapsed: 0:33:13.\n",
            "  Batch 4,840  of  5,945.    Elapsed: 0:33:30.\n",
            "  Batch 4,880  of  5,945.    Elapsed: 0:33:46.\n",
            "  Batch 4,920  of  5,945.    Elapsed: 0:34:03.\n",
            "  Batch 4,960  of  5,945.    Elapsed: 0:34:20.\n",
            "  Batch 5,000  of  5,945.    Elapsed: 0:34:36.\n",
            "  Batch 5,040  of  5,945.    Elapsed: 0:34:53.\n",
            "  Batch 5,080  of  5,945.    Elapsed: 0:35:10.\n",
            "  Batch 5,120  of  5,945.    Elapsed: 0:35:27.\n",
            "  Batch 5,160  of  5,945.    Elapsed: 0:35:43.\n",
            "  Batch 5,200  of  5,945.    Elapsed: 0:36:00.\n",
            "  Batch 5,240  of  5,945.    Elapsed: 0:36:17.\n",
            "  Batch 5,280  of  5,945.    Elapsed: 0:36:33.\n",
            "  Batch 5,320  of  5,945.    Elapsed: 0:36:50.\n",
            "  Batch 5,360  of  5,945.    Elapsed: 0:37:07.\n",
            "  Batch 5,400  of  5,945.    Elapsed: 0:37:24.\n",
            "  Batch 5,440  of  5,945.    Elapsed: 0:37:40.\n",
            "  Batch 5,480  of  5,945.    Elapsed: 0:37:57.\n",
            "  Batch 5,520  of  5,945.    Elapsed: 0:38:14.\n",
            "  Batch 5,560  of  5,945.    Elapsed: 0:38:30.\n",
            "  Batch 5,600  of  5,945.    Elapsed: 0:38:47.\n",
            "  Batch 5,640  of  5,945.    Elapsed: 0:39:04.\n",
            "  Batch 5,680  of  5,945.    Elapsed: 0:39:20.\n",
            "  Batch 5,720  of  5,945.    Elapsed: 0:39:37.\n",
            "  Batch 5,760  of  5,945.    Elapsed: 0:39:54.\n",
            "  Batch 5,800  of  5,945.    Elapsed: 0:40:11.\n",
            "  Batch 5,840  of  5,945.    Elapsed: 0:40:27.\n",
            "  Batch 5,880  of  5,945.    Elapsed: 0:40:44.\n",
            "  Batch 5,920  of  5,945.    Elapsed: 0:41:01.\n",
            "\n",
            "  Average training loss: 0.50\n",
            "  Training epcoh took: 0:41:11\n",
            "\n",
            "Running Validation...\n",
            "  Accuracy: 0.84\n",
            "  F1: 1.00\n",
            "  Validation took: 0:01:49\n",
            "\n",
            "======== Epoch 2 / 4 ========\n",
            "Training...\n",
            "  Batch    40  of  5,945.    Elapsed: 0:00:17.\n",
            "  Batch    80  of  5,945.    Elapsed: 0:00:33.\n",
            "  Batch   120  of  5,945.    Elapsed: 0:00:50.\n",
            "  Batch   160  of  5,945.    Elapsed: 0:01:07.\n",
            "  Batch   200  of  5,945.    Elapsed: 0:01:24.\n",
            "  Batch   240  of  5,945.    Elapsed: 0:01:40.\n",
            "  Batch   280  of  5,945.    Elapsed: 0:01:57.\n",
            "  Batch   320  of  5,945.    Elapsed: 0:02:14.\n",
            "  Batch   360  of  5,945.    Elapsed: 0:02:30.\n",
            "  Batch   400  of  5,945.    Elapsed: 0:02:47.\n",
            "  Batch   440  of  5,945.    Elapsed: 0:03:04.\n",
            "  Batch   480  of  5,945.    Elapsed: 0:03:20.\n",
            "  Batch   520  of  5,945.    Elapsed: 0:03:37.\n",
            "  Batch   560  of  5,945.    Elapsed: 0:03:54.\n",
            "  Batch   600  of  5,945.    Elapsed: 0:04:10.\n",
            "  Batch   640  of  5,945.    Elapsed: 0:04:27.\n",
            "  Batch   680  of  5,945.    Elapsed: 0:04:44.\n",
            "  Batch   720  of  5,945.    Elapsed: 0:05:00.\n",
            "  Batch   760  of  5,945.    Elapsed: 0:05:17.\n",
            "  Batch   800  of  5,945.    Elapsed: 0:05:34.\n",
            "  Batch   840  of  5,945.    Elapsed: 0:05:51.\n",
            "  Batch   880  of  5,945.    Elapsed: 0:06:07.\n",
            "  Batch   920  of  5,945.    Elapsed: 0:06:24.\n",
            "  Batch   960  of  5,945.    Elapsed: 0:06:41.\n",
            "  Batch 1,000  of  5,945.    Elapsed: 0:06:57.\n",
            "  Batch 1,040  of  5,945.    Elapsed: 0:07:14.\n",
            "  Batch 1,080  of  5,945.    Elapsed: 0:07:31.\n",
            "  Batch 1,120  of  5,945.    Elapsed: 0:07:47.\n",
            "  Batch 1,160  of  5,945.    Elapsed: 0:08:04.\n",
            "  Batch 1,200  of  5,945.    Elapsed: 0:08:21.\n",
            "  Batch 1,240  of  5,945.    Elapsed: 0:08:38.\n",
            "  Batch 1,280  of  5,945.    Elapsed: 0:08:54.\n",
            "  Batch 1,320  of  5,945.    Elapsed: 0:09:11.\n",
            "  Batch 1,360  of  5,945.    Elapsed: 0:09:28.\n",
            "  Batch 1,400  of  5,945.    Elapsed: 0:09:44.\n",
            "  Batch 1,440  of  5,945.    Elapsed: 0:10:01.\n",
            "  Batch 1,480  of  5,945.    Elapsed: 0:10:18.\n",
            "  Batch 1,520  of  5,945.    Elapsed: 0:10:34.\n",
            "  Batch 1,560  of  5,945.    Elapsed: 0:10:51.\n",
            "  Batch 1,600  of  5,945.    Elapsed: 0:11:08.\n",
            "  Batch 1,640  of  5,945.    Elapsed: 0:11:24.\n",
            "  Batch 1,680  of  5,945.    Elapsed: 0:11:41.\n",
            "  Batch 1,720  of  5,945.    Elapsed: 0:11:58.\n",
            "  Batch 1,760  of  5,945.    Elapsed: 0:12:14.\n",
            "  Batch 1,800  of  5,945.    Elapsed: 0:12:31.\n",
            "  Batch 1,840  of  5,945.    Elapsed: 0:12:48.\n",
            "  Batch 1,880  of  5,945.    Elapsed: 0:13:04.\n",
            "  Batch 1,920  of  5,945.    Elapsed: 0:13:21.\n",
            "  Batch 1,960  of  5,945.    Elapsed: 0:13:38.\n",
            "  Batch 2,000  of  5,945.    Elapsed: 0:13:54.\n",
            "  Batch 2,040  of  5,945.    Elapsed: 0:14:11.\n",
            "  Batch 2,080  of  5,945.    Elapsed: 0:14:28.\n",
            "  Batch 2,120  of  5,945.    Elapsed: 0:14:45.\n",
            "  Batch 2,160  of  5,945.    Elapsed: 0:15:01.\n",
            "  Batch 2,200  of  5,945.    Elapsed: 0:15:18.\n",
            "  Batch 2,240  of  5,945.    Elapsed: 0:15:35.\n",
            "  Batch 2,280  of  5,945.    Elapsed: 0:15:51.\n",
            "  Batch 2,320  of  5,945.    Elapsed: 0:16:08.\n",
            "  Batch 2,360  of  5,945.    Elapsed: 0:16:25.\n",
            "  Batch 2,400  of  5,945.    Elapsed: 0:16:41.\n",
            "  Batch 2,440  of  5,945.    Elapsed: 0:16:58.\n",
            "  Batch 2,480  of  5,945.    Elapsed: 0:17:15.\n",
            "  Batch 2,520  of  5,945.    Elapsed: 0:17:31.\n",
            "  Batch 2,560  of  5,945.    Elapsed: 0:17:48.\n",
            "  Batch 2,600  of  5,945.    Elapsed: 0:18:05.\n",
            "  Batch 2,640  of  5,945.    Elapsed: 0:18:21.\n",
            "  Batch 2,680  of  5,945.    Elapsed: 0:18:38.\n",
            "  Batch 2,720  of  5,945.    Elapsed: 0:18:55.\n",
            "  Batch 2,760  of  5,945.    Elapsed: 0:19:11.\n",
            "  Batch 2,800  of  5,945.    Elapsed: 0:19:28.\n",
            "  Batch 2,840  of  5,945.    Elapsed: 0:19:45.\n",
            "  Batch 2,880  of  5,945.    Elapsed: 0:20:01.\n",
            "  Batch 2,920  of  5,945.    Elapsed: 0:20:18.\n",
            "  Batch 2,960  of  5,945.    Elapsed: 0:20:35.\n",
            "  Batch 3,000  of  5,945.    Elapsed: 0:20:51.\n",
            "  Batch 3,040  of  5,945.    Elapsed: 0:21:08.\n",
            "  Batch 3,080  of  5,945.    Elapsed: 0:21:25.\n",
            "  Batch 3,120  of  5,945.    Elapsed: 0:21:41.\n",
            "  Batch 3,160  of  5,945.    Elapsed: 0:21:58.\n",
            "  Batch 3,200  of  5,945.    Elapsed: 0:22:15.\n",
            "  Batch 3,240  of  5,945.    Elapsed: 0:22:31.\n",
            "  Batch 3,280  of  5,945.    Elapsed: 0:22:48.\n",
            "  Batch 3,320  of  5,945.    Elapsed: 0:23:05.\n",
            "  Batch 3,360  of  5,945.    Elapsed: 0:23:21.\n",
            "  Batch 3,400  of  5,945.    Elapsed: 0:23:38.\n",
            "  Batch 3,440  of  5,945.    Elapsed: 0:23:55.\n",
            "  Batch 3,480  of  5,945.    Elapsed: 0:24:11.\n",
            "  Batch 3,520  of  5,945.    Elapsed: 0:24:28.\n",
            "  Batch 3,560  of  5,945.    Elapsed: 0:24:45.\n",
            "  Batch 3,600  of  5,945.    Elapsed: 0:25:01.\n",
            "  Batch 3,640  of  5,945.    Elapsed: 0:25:18.\n",
            "  Batch 3,680  of  5,945.    Elapsed: 0:25:35.\n",
            "  Batch 3,720  of  5,945.    Elapsed: 0:25:51.\n",
            "  Batch 3,760  of  5,945.    Elapsed: 0:26:08.\n",
            "  Batch 3,800  of  5,945.    Elapsed: 0:26:25.\n",
            "  Batch 3,840  of  5,945.    Elapsed: 0:26:41.\n",
            "  Batch 3,880  of  5,945.    Elapsed: 0:26:58.\n",
            "  Batch 3,920  of  5,945.    Elapsed: 0:27:15.\n",
            "  Batch 3,960  of  5,945.    Elapsed: 0:27:31.\n",
            "  Batch 4,000  of  5,945.    Elapsed: 0:27:48.\n",
            "  Batch 4,040  of  5,945.    Elapsed: 0:28:05.\n",
            "  Batch 4,080  of  5,945.    Elapsed: 0:28:21.\n",
            "  Batch 4,120  of  5,945.    Elapsed: 0:28:38.\n",
            "  Batch 4,160  of  5,945.    Elapsed: 0:28:55.\n",
            "  Batch 4,200  of  5,945.    Elapsed: 0:29:11.\n",
            "  Batch 4,240  of  5,945.    Elapsed: 0:29:28.\n",
            "  Batch 4,280  of  5,945.    Elapsed: 0:29:45.\n",
            "  Batch 4,320  of  5,945.    Elapsed: 0:30:02.\n",
            "  Batch 4,360  of  5,945.    Elapsed: 0:30:18.\n",
            "  Batch 4,400  of  5,945.    Elapsed: 0:30:35.\n",
            "  Batch 4,440  of  5,945.    Elapsed: 0:30:52.\n",
            "  Batch 4,480  of  5,945.    Elapsed: 0:31:08.\n",
            "  Batch 4,520  of  5,945.    Elapsed: 0:31:25.\n",
            "  Batch 4,560  of  5,945.    Elapsed: 0:31:42.\n",
            "  Batch 4,600  of  5,945.    Elapsed: 0:31:58.\n",
            "  Batch 4,640  of  5,945.    Elapsed: 0:32:15.\n",
            "  Batch 4,680  of  5,945.    Elapsed: 0:32:32.\n",
            "  Batch 4,720  of  5,945.    Elapsed: 0:32:48.\n",
            "  Batch 4,760  of  5,945.    Elapsed: 0:33:05.\n",
            "  Batch 4,800  of  5,945.    Elapsed: 0:33:22.\n",
            "  Batch 4,840  of  5,945.    Elapsed: 0:33:38.\n",
            "  Batch 4,880  of  5,945.    Elapsed: 0:33:55.\n",
            "  Batch 4,920  of  5,945.    Elapsed: 0:34:12.\n",
            "  Batch 4,960  of  5,945.    Elapsed: 0:34:28.\n",
            "  Batch 5,000  of  5,945.    Elapsed: 0:34:45.\n",
            "  Batch 5,040  of  5,945.    Elapsed: 0:35:02.\n",
            "  Batch 5,080  of  5,945.    Elapsed: 0:35:18.\n",
            "  Batch 5,120  of  5,945.    Elapsed: 0:35:35.\n",
            "  Batch 5,160  of  5,945.    Elapsed: 0:35:52.\n",
            "  Batch 5,200  of  5,945.    Elapsed: 0:36:08.\n",
            "  Batch 5,240  of  5,945.    Elapsed: 0:36:25.\n",
            "  Batch 5,280  of  5,945.    Elapsed: 0:36:42.\n",
            "  Batch 5,320  of  5,945.    Elapsed: 0:36:59.\n",
            "  Batch 5,360  of  5,945.    Elapsed: 0:37:15.\n",
            "  Batch 5,400  of  5,945.    Elapsed: 0:37:32.\n",
            "  Batch 5,440  of  5,945.    Elapsed: 0:37:49.\n",
            "  Batch 5,480  of  5,945.    Elapsed: 0:38:05.\n",
            "  Batch 5,520  of  5,945.    Elapsed: 0:38:22.\n",
            "  Batch 5,560  of  5,945.    Elapsed: 0:38:39.\n",
            "  Batch 5,600  of  5,945.    Elapsed: 0:38:55.\n",
            "  Batch 5,640  of  5,945.    Elapsed: 0:39:12.\n",
            "  Batch 5,680  of  5,945.    Elapsed: 0:39:29.\n",
            "  Batch 5,720  of  5,945.    Elapsed: 0:39:45.\n",
            "  Batch 5,760  of  5,945.    Elapsed: 0:40:02.\n",
            "  Batch 5,800  of  5,945.    Elapsed: 0:40:19.\n",
            "  Batch 5,840  of  5,945.    Elapsed: 0:40:35.\n",
            "  Batch 5,880  of  5,945.    Elapsed: 0:40:52.\n",
            "  Batch 5,920  of  5,945.    Elapsed: 0:41:09.\n",
            "\n",
            "  Average training loss: 0.38\n",
            "  Training epcoh took: 0:41:19\n",
            "\n",
            "Running Validation...\n",
            "  Accuracy: 0.85\n",
            "  F1: 1.00\n",
            "  Validation took: 0:01:53\n",
            "\n",
            "======== Epoch 3 / 4 ========\n",
            "Training...\n",
            "  Batch    40  of  5,945.    Elapsed: 0:00:17.\n",
            "  Batch    80  of  5,945.    Elapsed: 0:00:34.\n",
            "  Batch   120  of  5,945.    Elapsed: 0:00:51.\n",
            "  Batch   160  of  5,945.    Elapsed: 0:01:09.\n",
            "  Batch   200  of  5,945.    Elapsed: 0:01:26.\n",
            "  Batch   240  of  5,945.    Elapsed: 0:01:43.\n",
            "  Batch   280  of  5,945.    Elapsed: 0:02:00.\n",
            "  Batch   320  of  5,945.    Elapsed: 0:02:17.\n",
            "  Batch   360  of  5,945.    Elapsed: 0:02:34.\n",
            "  Batch   400  of  5,945.    Elapsed: 0:02:51.\n",
            "  Batch   440  of  5,945.    Elapsed: 0:03:08.\n",
            "  Batch   480  of  5,945.    Elapsed: 0:03:25.\n",
            "  Batch   520  of  5,945.    Elapsed: 0:03:43.\n",
            "  Batch   560  of  5,945.    Elapsed: 0:04:00.\n",
            "  Batch   600  of  5,945.    Elapsed: 0:04:17.\n",
            "  Batch   640  of  5,945.    Elapsed: 0:04:34.\n",
            "  Batch   680  of  5,945.    Elapsed: 0:04:51.\n",
            "  Batch   720  of  5,945.    Elapsed: 0:05:08.\n",
            "  Batch   760  of  5,945.    Elapsed: 0:05:25.\n",
            "  Batch   800  of  5,945.    Elapsed: 0:05:42.\n",
            "  Batch   840  of  5,945.    Elapsed: 0:05:59.\n",
            "  Batch   880  of  5,945.    Elapsed: 0:06:16.\n",
            "  Batch   920  of  5,945.    Elapsed: 0:06:34.\n",
            "  Batch   960  of  5,945.    Elapsed: 0:06:51.\n",
            "  Batch 1,000  of  5,945.    Elapsed: 0:07:08.\n",
            "  Batch 1,040  of  5,945.    Elapsed: 0:07:25.\n",
            "  Batch 1,080  of  5,945.    Elapsed: 0:07:42.\n",
            "  Batch 1,120  of  5,945.    Elapsed: 0:07:59.\n",
            "  Batch 1,160  of  5,945.    Elapsed: 0:08:16.\n",
            "  Batch 1,200  of  5,945.    Elapsed: 0:08:33.\n",
            "  Batch 1,240  of  5,945.    Elapsed: 0:08:50.\n",
            "  Batch 1,280  of  5,945.    Elapsed: 0:09:07.\n",
            "  Batch 1,320  of  5,945.    Elapsed: 0:09:25.\n",
            "  Batch 1,360  of  5,945.    Elapsed: 0:09:42.\n",
            "  Batch 1,400  of  5,945.    Elapsed: 0:09:59.\n",
            "  Batch 1,440  of  5,945.    Elapsed: 0:10:16.\n",
            "  Batch 1,480  of  5,945.    Elapsed: 0:10:33.\n",
            "  Batch 1,520  of  5,945.    Elapsed: 0:10:50.\n",
            "  Batch 1,560  of  5,945.    Elapsed: 0:11:07.\n",
            "  Batch 1,600  of  5,945.    Elapsed: 0:11:24.\n",
            "  Batch 1,640  of  5,945.    Elapsed: 0:11:41.\n",
            "  Batch 1,680  of  5,945.    Elapsed: 0:11:59.\n",
            "  Batch 1,720  of  5,945.    Elapsed: 0:12:16.\n",
            "  Batch 1,760  of  5,945.    Elapsed: 0:12:33.\n",
            "  Batch 1,800  of  5,945.    Elapsed: 0:12:50.\n",
            "  Batch 1,840  of  5,945.    Elapsed: 0:13:07.\n",
            "  Batch 1,880  of  5,945.    Elapsed: 0:13:24.\n",
            "  Batch 1,920  of  5,945.    Elapsed: 0:13:41.\n",
            "  Batch 1,960  of  5,945.    Elapsed: 0:13:58.\n",
            "  Batch 2,000  of  5,945.    Elapsed: 0:14:16.\n",
            "  Batch 2,040  of  5,945.    Elapsed: 0:14:33.\n",
            "  Batch 2,080  of  5,945.    Elapsed: 0:14:50.\n",
            "  Batch 2,120  of  5,945.    Elapsed: 0:15:07.\n",
            "  Batch 2,160  of  5,945.    Elapsed: 0:15:24.\n",
            "  Batch 2,200  of  5,945.    Elapsed: 0:15:41.\n",
            "  Batch 2,240  of  5,945.    Elapsed: 0:15:58.\n",
            "  Batch 2,280  of  5,945.    Elapsed: 0:16:15.\n",
            "  Batch 2,320  of  5,945.    Elapsed: 0:16:32.\n",
            "  Batch 2,360  of  5,945.    Elapsed: 0:16:49.\n",
            "  Batch 2,400  of  5,945.    Elapsed: 0:17:07.\n",
            "  Batch 2,440  of  5,945.    Elapsed: 0:17:24.\n",
            "  Batch 2,480  of  5,945.    Elapsed: 0:17:41.\n",
            "  Batch 2,520  of  5,945.    Elapsed: 0:17:58.\n",
            "  Batch 2,560  of  5,945.    Elapsed: 0:18:15.\n",
            "  Batch 2,600  of  5,945.    Elapsed: 0:18:32.\n",
            "  Batch 2,640  of  5,945.    Elapsed: 0:18:49.\n",
            "  Batch 2,680  of  5,945.    Elapsed: 0:19:06.\n",
            "  Batch 2,720  of  5,945.    Elapsed: 0:19:23.\n",
            "  Batch 2,760  of  5,945.    Elapsed: 0:19:40.\n",
            "  Batch 2,800  of  5,945.    Elapsed: 0:19:57.\n",
            "  Batch 2,840  of  5,945.    Elapsed: 0:20:15.\n",
            "  Batch 2,880  of  5,945.    Elapsed: 0:20:32.\n",
            "  Batch 2,920  of  5,945.    Elapsed: 0:20:49.\n",
            "  Batch 2,960  of  5,945.    Elapsed: 0:21:06.\n",
            "  Batch 3,000  of  5,945.    Elapsed: 0:21:23.\n",
            "  Batch 3,040  of  5,945.    Elapsed: 0:21:40.\n",
            "  Batch 3,080  of  5,945.    Elapsed: 0:21:57.\n",
            "  Batch 3,120  of  5,945.    Elapsed: 0:22:14.\n",
            "  Batch 3,160  of  5,945.    Elapsed: 0:22:32.\n",
            "  Batch 3,200  of  5,945.    Elapsed: 0:22:49.\n",
            "  Batch 3,240  of  5,945.    Elapsed: 0:23:06.\n",
            "  Batch 3,280  of  5,945.    Elapsed: 0:23:23.\n",
            "  Batch 3,320  of  5,945.    Elapsed: 0:23:40.\n",
            "  Batch 3,360  of  5,945.    Elapsed: 0:23:57.\n",
            "  Batch 3,400  of  5,945.    Elapsed: 0:24:14.\n",
            "  Batch 3,440  of  5,945.    Elapsed: 0:24:31.\n",
            "  Batch 3,480  of  5,945.    Elapsed: 0:24:48.\n",
            "  Batch 3,520  of  5,945.    Elapsed: 0:25:05.\n",
            "  Batch 3,560  of  5,945.    Elapsed: 0:25:22.\n",
            "  Batch 3,600  of  5,945.    Elapsed: 0:25:40.\n",
            "  Batch 3,640  of  5,945.    Elapsed: 0:25:57.\n",
            "  Batch 3,680  of  5,945.    Elapsed: 0:26:14.\n",
            "  Batch 3,720  of  5,945.    Elapsed: 0:26:31.\n",
            "  Batch 3,760  of  5,945.    Elapsed: 0:26:48.\n",
            "  Batch 3,800  of  5,945.    Elapsed: 0:27:05.\n",
            "  Batch 3,840  of  5,945.    Elapsed: 0:27:22.\n",
            "  Batch 3,880  of  5,945.    Elapsed: 0:27:39.\n",
            "  Batch 3,920  of  5,945.    Elapsed: 0:27:56.\n",
            "  Batch 3,960  of  5,945.    Elapsed: 0:28:13.\n",
            "  Batch 4,000  of  5,945.    Elapsed: 0:28:30.\n",
            "  Batch 4,040  of  5,945.    Elapsed: 0:28:48.\n",
            "  Batch 4,080  of  5,945.    Elapsed: 0:29:05.\n",
            "  Batch 4,120  of  5,945.    Elapsed: 0:29:22.\n",
            "  Batch 4,160  of  5,945.    Elapsed: 0:29:39.\n",
            "  Batch 4,200  of  5,945.    Elapsed: 0:29:56.\n",
            "  Batch 4,240  of  5,945.    Elapsed: 0:30:13.\n",
            "  Batch 4,280  of  5,945.    Elapsed: 0:30:30.\n",
            "  Batch 4,320  of  5,945.    Elapsed: 0:30:47.\n",
            "  Batch 4,360  of  5,945.    Elapsed: 0:31:04.\n",
            "  Batch 4,400  of  5,945.    Elapsed: 0:31:22.\n",
            "  Batch 4,440  of  5,945.    Elapsed: 0:31:39.\n",
            "  Batch 4,480  of  5,945.    Elapsed: 0:31:56.\n",
            "  Batch 4,520  of  5,945.    Elapsed: 0:32:13.\n",
            "  Batch 4,560  of  5,945.    Elapsed: 0:32:30.\n",
            "  Batch 4,600  of  5,945.    Elapsed: 0:32:47.\n",
            "  Batch 4,640  of  5,945.    Elapsed: 0:33:04.\n",
            "  Batch 4,680  of  5,945.    Elapsed: 0:33:21.\n",
            "  Batch 4,720  of  5,945.    Elapsed: 0:33:39.\n",
            "  Batch 4,760  of  5,945.    Elapsed: 0:33:56.\n",
            "  Batch 4,800  of  5,945.    Elapsed: 0:34:13.\n",
            "  Batch 4,840  of  5,945.    Elapsed: 0:34:30.\n",
            "  Batch 4,880  of  5,945.    Elapsed: 0:34:47.\n",
            "  Batch 4,920  of  5,945.    Elapsed: 0:35:04.\n",
            "  Batch 4,960  of  5,945.    Elapsed: 0:35:21.\n",
            "  Batch 5,000  of  5,945.    Elapsed: 0:35:38.\n",
            "  Batch 5,040  of  5,945.    Elapsed: 0:35:55.\n",
            "  Batch 5,080  of  5,945.    Elapsed: 0:36:12.\n",
            "  Batch 5,120  of  5,945.    Elapsed: 0:36:30.\n",
            "  Batch 5,160  of  5,945.    Elapsed: 0:36:47.\n",
            "  Batch 5,200  of  5,945.    Elapsed: 0:37:04.\n",
            "  Batch 5,240  of  5,945.    Elapsed: 0:37:21.\n",
            "  Batch 5,280  of  5,945.    Elapsed: 0:37:38.\n",
            "  Batch 5,320  of  5,945.    Elapsed: 0:37:55.\n",
            "  Batch 5,360  of  5,945.    Elapsed: 0:38:12.\n",
            "  Batch 5,400  of  5,945.    Elapsed: 0:38:29.\n",
            "  Batch 5,440  of  5,945.    Elapsed: 0:38:47.\n",
            "  Batch 5,480  of  5,945.    Elapsed: 0:39:04.\n",
            "  Batch 5,520  of  5,945.    Elapsed: 0:39:21.\n",
            "  Batch 5,560  of  5,945.    Elapsed: 0:39:38.\n",
            "  Batch 5,600  of  5,945.    Elapsed: 0:39:55.\n",
            "  Batch 5,640  of  5,945.    Elapsed: 0:40:12.\n",
            "  Batch 5,680  of  5,945.    Elapsed: 0:40:29.\n",
            "  Batch 5,720  of  5,945.    Elapsed: 0:40:46.\n",
            "  Batch 5,760  of  5,945.    Elapsed: 0:41:03.\n",
            "  Batch 5,800  of  5,945.    Elapsed: 0:41:21.\n",
            "  Batch 5,840  of  5,945.    Elapsed: 0:41:38.\n",
            "  Batch 5,880  of  5,945.    Elapsed: 0:41:55.\n",
            "  Batch 5,920  of  5,945.    Elapsed: 0:42:12.\n",
            "\n",
            "  Average training loss: 0.31\n",
            "  Training epcoh took: 0:42:22\n",
            "\n",
            "Running Validation...\n",
            "  Accuracy: 0.85\n",
            "  F1: 1.00\n",
            "  Validation took: 0:01:53\n",
            "\n",
            "======== Epoch 4 / 4 ========\n",
            "Training...\n",
            "  Batch    40  of  5,945.    Elapsed: 0:00:17.\n",
            "  Batch    80  of  5,945.    Elapsed: 0:00:34.\n",
            "  Batch   120  of  5,945.    Elapsed: 0:00:51.\n",
            "  Batch   160  of  5,945.    Elapsed: 0:01:08.\n",
            "  Batch   200  of  5,945.    Elapsed: 0:01:26.\n",
            "  Batch   240  of  5,945.    Elapsed: 0:01:43.\n",
            "  Batch   280  of  5,945.    Elapsed: 0:02:00.\n",
            "  Batch   320  of  5,945.    Elapsed: 0:02:17.\n",
            "  Batch   360  of  5,945.    Elapsed: 0:02:34.\n",
            "  Batch   400  of  5,945.    Elapsed: 0:02:51.\n",
            "  Batch   440  of  5,945.    Elapsed: 0:03:08.\n",
            "  Batch   480  of  5,945.    Elapsed: 0:03:25.\n",
            "  Batch   520  of  5,945.    Elapsed: 0:03:43.\n",
            "  Batch   560  of  5,945.    Elapsed: 0:04:00.\n",
            "  Batch   600  of  5,945.    Elapsed: 0:04:17.\n",
            "  Batch   640  of  5,945.    Elapsed: 0:04:34.\n",
            "  Batch   680  of  5,945.    Elapsed: 0:04:51.\n",
            "  Batch   720  of  5,945.    Elapsed: 0:05:08.\n",
            "  Batch   760  of  5,945.    Elapsed: 0:05:25.\n",
            "  Batch   800  of  5,945.    Elapsed: 0:05:42.\n",
            "  Batch   840  of  5,945.    Elapsed: 0:05:59.\n",
            "  Batch   880  of  5,945.    Elapsed: 0:06:16.\n",
            "  Batch   920  of  5,945.    Elapsed: 0:06:33.\n",
            "  Batch   960  of  5,945.    Elapsed: 0:06:51.\n",
            "  Batch 1,000  of  5,945.    Elapsed: 0:07:08.\n",
            "  Batch 1,040  of  5,945.    Elapsed: 0:07:25.\n",
            "  Batch 1,080  of  5,945.    Elapsed: 0:07:42.\n",
            "  Batch 1,120  of  5,945.    Elapsed: 0:07:59.\n",
            "  Batch 1,160  of  5,945.    Elapsed: 0:08:16.\n",
            "  Batch 1,200  of  5,945.    Elapsed: 0:08:33.\n",
            "  Batch 1,240  of  5,945.    Elapsed: 0:08:51.\n",
            "  Batch 1,280  of  5,945.    Elapsed: 0:09:08.\n",
            "  Batch 1,320  of  5,945.    Elapsed: 0:09:25.\n",
            "  Batch 1,360  of  5,945.    Elapsed: 0:09:42.\n",
            "  Batch 1,400  of  5,945.    Elapsed: 0:09:59.\n",
            "  Batch 1,440  of  5,945.    Elapsed: 0:10:16.\n",
            "  Batch 1,480  of  5,945.    Elapsed: 0:10:33.\n",
            "  Batch 1,520  of  5,945.    Elapsed: 0:10:50.\n",
            "  Batch 1,560  of  5,945.    Elapsed: 0:11:08.\n",
            "  Batch 1,600  of  5,945.    Elapsed: 0:11:25.\n",
            "  Batch 1,640  of  5,945.    Elapsed: 0:11:42.\n",
            "  Batch 1,680  of  5,945.    Elapsed: 0:11:59.\n",
            "  Batch 1,720  of  5,945.    Elapsed: 0:12:16.\n",
            "  Batch 1,760  of  5,945.    Elapsed: 0:12:33.\n",
            "  Batch 1,800  of  5,945.    Elapsed: 0:12:50.\n",
            "  Batch 1,840  of  5,945.    Elapsed: 0:13:07.\n",
            "  Batch 1,880  of  5,945.    Elapsed: 0:13:25.\n",
            "  Batch 1,920  of  5,945.    Elapsed: 0:13:42.\n",
            "  Batch 1,960  of  5,945.    Elapsed: 0:13:59.\n",
            "  Batch 2,000  of  5,945.    Elapsed: 0:14:16.\n",
            "  Batch 2,040  of  5,945.    Elapsed: 0:14:33.\n",
            "  Batch 2,080  of  5,945.    Elapsed: 0:14:50.\n",
            "  Batch 2,120  of  5,945.    Elapsed: 0:15:07.\n",
            "  Batch 2,160  of  5,945.    Elapsed: 0:15:25.\n",
            "  Batch 2,200  of  5,945.    Elapsed: 0:15:42.\n",
            "  Batch 2,240  of  5,945.    Elapsed: 0:15:59.\n",
            "  Batch 2,280  of  5,945.    Elapsed: 0:16:16.\n",
            "  Batch 2,320  of  5,945.    Elapsed: 0:16:33.\n",
            "  Batch 2,360  of  5,945.    Elapsed: 0:16:50.\n",
            "  Batch 2,400  of  5,945.    Elapsed: 0:17:07.\n",
            "  Batch 2,440  of  5,945.    Elapsed: 0:17:24.\n",
            "  Batch 2,480  of  5,945.    Elapsed: 0:17:41.\n",
            "  Batch 2,520  of  5,945.    Elapsed: 0:17:59.\n",
            "  Batch 2,560  of  5,945.    Elapsed: 0:18:16.\n",
            "  Batch 2,600  of  5,945.    Elapsed: 0:18:33.\n",
            "  Batch 2,640  of  5,945.    Elapsed: 0:18:50.\n",
            "  Batch 2,680  of  5,945.    Elapsed: 0:19:07.\n",
            "  Batch 2,720  of  5,945.    Elapsed: 0:19:24.\n",
            "  Batch 2,760  of  5,945.    Elapsed: 0:19:41.\n",
            "  Batch 2,800  of  5,945.    Elapsed: 0:19:58.\n",
            "  Batch 2,840  of  5,945.    Elapsed: 0:20:16.\n",
            "  Batch 2,880  of  5,945.    Elapsed: 0:20:33.\n",
            "  Batch 2,920  of  5,945.    Elapsed: 0:20:50.\n",
            "  Batch 2,960  of  5,945.    Elapsed: 0:21:07.\n",
            "  Batch 3,000  of  5,945.    Elapsed: 0:21:24.\n",
            "  Batch 3,040  of  5,945.    Elapsed: 0:21:41.\n",
            "  Batch 3,080  of  5,945.    Elapsed: 0:21:58.\n",
            "  Batch 3,120  of  5,945.    Elapsed: 0:22:15.\n",
            "  Batch 3,160  of  5,945.    Elapsed: 0:22:32.\n",
            "  Batch 3,200  of  5,945.    Elapsed: 0:22:49.\n",
            "  Batch 3,240  of  5,945.    Elapsed: 0:23:07.\n",
            "  Batch 3,280  of  5,945.    Elapsed: 0:23:24.\n",
            "  Batch 3,320  of  5,945.    Elapsed: 0:23:41.\n",
            "  Batch 3,360  of  5,945.    Elapsed: 0:23:58.\n",
            "  Batch 3,400  of  5,945.    Elapsed: 0:24:15.\n",
            "  Batch 3,440  of  5,945.    Elapsed: 0:24:32.\n",
            "  Batch 3,480  of  5,945.    Elapsed: 0:24:49.\n",
            "  Batch 3,520  of  5,945.    Elapsed: 0:25:06.\n",
            "  Batch 3,560  of  5,945.    Elapsed: 0:25:23.\n",
            "  Batch 3,600  of  5,945.    Elapsed: 0:25:40.\n",
            "  Batch 3,640  of  5,945.    Elapsed: 0:25:58.\n",
            "  Batch 3,680  of  5,945.    Elapsed: 0:26:15.\n",
            "  Batch 3,720  of  5,945.    Elapsed: 0:26:32.\n",
            "  Batch 3,760  of  5,945.    Elapsed: 0:26:49.\n",
            "  Batch 3,800  of  5,945.    Elapsed: 0:27:06.\n",
            "  Batch 3,840  of  5,945.    Elapsed: 0:27:23.\n",
            "  Batch 3,880  of  5,945.    Elapsed: 0:27:40.\n",
            "  Batch 3,920  of  5,945.    Elapsed: 0:27:57.\n",
            "  Batch 3,960  of  5,945.    Elapsed: 0:28:14.\n",
            "  Batch 4,000  of  5,945.    Elapsed: 0:28:32.\n",
            "  Batch 4,040  of  5,945.    Elapsed: 0:28:49.\n",
            "  Batch 4,080  of  5,945.    Elapsed: 0:29:06.\n",
            "  Batch 4,120  of  5,945.    Elapsed: 0:29:23.\n",
            "  Batch 4,160  of  5,945.    Elapsed: 0:29:40.\n",
            "  Batch 4,200  of  5,945.    Elapsed: 0:29:57.\n",
            "  Batch 4,240  of  5,945.    Elapsed: 0:30:14.\n",
            "  Batch 4,280  of  5,945.    Elapsed: 0:30:31.\n",
            "  Batch 4,320  of  5,945.    Elapsed: 0:30:49.\n",
            "  Batch 4,360  of  5,945.    Elapsed: 0:31:06.\n",
            "  Batch 4,400  of  5,945.    Elapsed: 0:31:23.\n",
            "  Batch 4,440  of  5,945.    Elapsed: 0:31:40.\n",
            "  Batch 4,480  of  5,945.    Elapsed: 0:31:57.\n",
            "  Batch 4,520  of  5,945.    Elapsed: 0:32:14.\n",
            "  Batch 4,560  of  5,945.    Elapsed: 0:32:31.\n",
            "  Batch 4,600  of  5,945.    Elapsed: 0:32:48.\n",
            "  Batch 4,640  of  5,945.    Elapsed: 0:33:05.\n",
            "  Batch 4,680  of  5,945.    Elapsed: 0:33:22.\n",
            "  Batch 4,720  of  5,945.    Elapsed: 0:33:40.\n",
            "  Batch 4,760  of  5,945.    Elapsed: 0:33:57.\n",
            "  Batch 4,800  of  5,945.    Elapsed: 0:34:14.\n",
            "  Batch 4,840  of  5,945.    Elapsed: 0:34:31.\n",
            "  Batch 4,880  of  5,945.    Elapsed: 0:34:48.\n",
            "  Batch 4,920  of  5,945.    Elapsed: 0:35:05.\n",
            "  Batch 4,960  of  5,945.    Elapsed: 0:35:22.\n",
            "  Batch 5,000  of  5,945.    Elapsed: 0:35:39.\n",
            "  Batch 5,040  of  5,945.    Elapsed: 0:35:56.\n",
            "  Batch 5,080  of  5,945.    Elapsed: 0:36:13.\n",
            "  Batch 5,120  of  5,945.    Elapsed: 0:36:31.\n",
            "  Batch 5,160  of  5,945.    Elapsed: 0:36:48.\n",
            "  Batch 5,200  of  5,945.    Elapsed: 0:37:05.\n",
            "  Batch 5,240  of  5,945.    Elapsed: 0:37:22.\n",
            "  Batch 5,280  of  5,945.    Elapsed: 0:37:39.\n",
            "  Batch 5,320  of  5,945.    Elapsed: 0:37:56.\n",
            "  Batch 5,360  of  5,945.    Elapsed: 0:38:13.\n",
            "  Batch 5,400  of  5,945.    Elapsed: 0:38:30.\n",
            "  Batch 5,440  of  5,945.    Elapsed: 0:38:47.\n",
            "  Batch 5,480  of  5,945.    Elapsed: 0:39:05.\n",
            "  Batch 5,520  of  5,945.    Elapsed: 0:39:22.\n",
            "  Batch 5,560  of  5,945.    Elapsed: 0:39:39.\n",
            "  Batch 5,600  of  5,945.    Elapsed: 0:39:56.\n",
            "  Batch 5,640  of  5,945.    Elapsed: 0:40:13.\n",
            "  Batch 5,680  of  5,945.    Elapsed: 0:40:30.\n",
            "  Batch 5,720  of  5,945.    Elapsed: 0:40:47.\n",
            "  Batch 5,760  of  5,945.    Elapsed: 0:41:04.\n",
            "  Batch 5,800  of  5,945.    Elapsed: 0:41:21.\n",
            "  Batch 5,840  of  5,945.    Elapsed: 0:41:39.\n",
            "  Batch 5,880  of  5,945.    Elapsed: 0:41:56.\n",
            "  Batch 5,920  of  5,945.    Elapsed: 0:42:13.\n",
            "\n",
            "  Average training loss: 0.25\n",
            "  Training epcoh took: 0:42:23\n",
            "\n",
            "Running Validation...\n",
            "  Accuracy: 0.85\n",
            "  F1: 1.00\n",
            "  Validation took: 0:01:53\n",
            "\n",
            "Training complete!\n"
          ]
        }
      ]
    },
    {
      "cell_type": "markdown",
      "metadata": {
        "id": "1-G03mmwH3aI"
      },
      "source": [
        "Let's take a look at our training loss over all batches:"
      ]
    },
    {
      "cell_type": "code",
      "metadata": {
        "id": "68xreA9JAmG5",
        "colab": {
          "base_uri": "https://localhost:8080/",
          "height": 427
        },
        "outputId": "6bcbbdf1-b781-4daf-e013-db5ba295b076"
      },
      "source": [
        "import matplotlib.pyplot as plt\n",
        "%matplotlib inline\n",
        "\n",
        "import seaborn as sns\n",
        "\n",
        "# Use plot styling from seaborn.\n",
        "sns.set(style='darkgrid')\n",
        "\n",
        "# Increase the plot size and font size.\n",
        "sns.set(font_scale=1.5)\n",
        "plt.rcParams[\"figure.figsize\"] = (12,6)\n",
        "\n",
        "# Plot the learning curve.\n",
        "plt.plot(loss_values, 'b-o')\n",
        "\n",
        "# Label the plot.\n",
        "plt.title(\"Training loss\")\n",
        "plt.xlabel(\"Epoch\")\n",
        "plt.ylabel(\"Loss\")\n",
        "\n",
        "plt.show()"
      ],
      "execution_count": 32,
      "outputs": [
        {
          "output_type": "display_data",
          "data": {
            "text/plain": [
              "<Figure size 864x432 with 1 Axes>"
            ],
            "image/png": "[encoded data removed]"
          },
          "metadata": {}
        }
      ]
    },
    {
      "cell_type": "markdown",
      "metadata": {
        "id": "mkyubuJSOzg3"
      },
      "source": [
        "# 5. Performance On Test Set"
      ]
    },
    {
      "cell_type": "markdown",
      "metadata": {
        "id": "DosV94BYIYxg"
      },
      "source": [
        "Now we'll load the holdout dataset and prepare inputs just as we did with the training set. Then we'll evaluate predictions using [Matthew's correlation coefficient](https://scikit-learn.org/stable/modules/generated/sklearn.metrics.matthews_corrcoef.html) because this is the metric used by the wider NLP community to evaluate performance on CoLA. With this metric, +1 is the best score, and -1 is the worst score. This way, we can see how well we perform against the state of the art models for this specific task."
      ]
    },
    {
      "cell_type": "markdown",
      "metadata": {
        "id": "Tg42jJqqM68F"
      },
      "source": [
        "### 5.1. Data Preparation\n"
      ]
    },
    {
      "cell_type": "markdown",
      "metadata": {
        "id": "xWe0_JW21MyV"
      },
      "source": [
        "\n",
        "We'll need to apply all of the same steps that we did for the training data to prepare our test data set."
      ]
    },
    {
      "cell_type": "code",
      "metadata": {
        "id": "mAN0LZBOOPVh"
      },
      "source": [
        "# import pandas as pd\n",
        "\n",
        "# # Load the dataset into a pandas dataframe.\n",
        "# df = pd.read_csv(\"test.csv\", delimiter='\\t', header=None, names=['sentence_source', 'label', 'label_notes', 'sentence'])\n",
        "\n",
        "# # Report the number of sentences.\n",
        "# print('Number of test sentences: {:,}\\n'.format(df.shape[0]))\n",
        "\n",
        "# # Create sentence and label lists\n",
        "# sentences = df.sentence.values\n",
        "# labels = df.label.values\n",
        "\n",
        "# # Tokenize all of the sentences and map the tokens to thier word IDs.\n",
        "# input_ids = []\n",
        "\n",
        "# # For every sentence...\n",
        "# for sent in sentences:\n",
        "#     # `encode` will:\n",
        "#     #   (1) Tokenize the sentence.\n",
        "#     #   (2) Prepend the `[CLS]` token to the start.\n",
        "#     #   (3) Append the `[SEP]` token to the end.\n",
        "#     #   (4) Map tokens to their IDs.\n",
        "#     encoded_sent = tokenizer.encode(\n",
        "#                         sent,                      # Sentence to encode.\n",
        "#                         add_special_tokens = True, # Add '[CLS]' and '[SEP]'\n",
        "#                    )\n",
        "    \n",
        "#     input_ids.append(encoded_sent)\n",
        "\n",
        "# # Pad our input tokens\n",
        "# input_ids = pad_sequences(input_ids, maxlen=MAX_LEN, \n",
        "#                           dtype=\"long\", truncating=\"post\", padding=\"post\")\n",
        "\n",
        "# # Create attention masks\n",
        "# attention_masks = []\n",
        "\n",
        "# # Create a mask of 1s for each token followed by 0s for padding\n",
        "# for seq in input_ids:\n",
        "#   seq_mask = [float(i>0) for i in seq]\n",
        "#   attention_masks.append(seq_mask) \n",
        "\n",
        "# # Convert to tensors.\n",
        "# prediction_inputs = torch.tensor(input_ids)\n",
        "# prediction_masks = torch.tensor(attention_masks)\n",
        "# prediction_labels = torch.tensor(labels)\n",
        "\n",
        "# # Set the batch size.  \n",
        "# batch_size = 32  \n",
        "\n",
        "# # Create the DataLoader.\n",
        "# prediction_data = TensorDataset(prediction_inputs, prediction_masks, prediction_labels)\n",
        "# prediction_sampler = SequentialSampler(prediction_data)\n",
        "# prediction_dataloader = DataLoader(prediction_data, sampler=prediction_sampler, batch_size=batch_size)"
      ],
      "execution_count": null,
      "outputs": []
    },
    {
      "cell_type": "code",
      "source": [
        "# Convert to tensors.\n",
        "prediction_inputs = torch.tensor(test_inputs)\n",
        "prediction_masks = torch.tensor(test_masks)\n",
        "prediction_labels = torch.tensor(test_labels)\n",
        "\n",
        "# Set the batch size.  \n",
        "batch_size = 32  \n",
        "\n",
        "# Create the DataLoader.\n",
        "prediction_data = TensorDataset(prediction_inputs, prediction_masks, prediction_labels)\n",
        "prediction_sampler = SequentialSampler(prediction_data)\n",
        "prediction_dataloader = DataLoader(prediction_data, sampler=prediction_sampler, batch_size=batch_size)"
      ],
      "metadata": {
        "id": "_cAuiSfO9uXi"
      },
      "execution_count": 41,
      "outputs": []
    },
    {
      "cell_type": "markdown",
      "metadata": {
        "id": "16lctEOyNFik"
      },
      "source": [
        "## 5.2. Evaluate on Test Set\n"
      ]
    },
    {
      "cell_type": "markdown",
      "metadata": {
        "id": "rhR99IISNMg9"
      },
      "source": [
        "\n",
        "With the test set prepared, we can apply our fine-tuned model to generate predictions on the test set."
      ]
    },
    {
      "cell_type": "code",
      "metadata": {
        "id": "Hba10sXR7Xi6",
        "colab": {
          "base_uri": "https://localhost:8080/"
        },
        "outputId": "47d69525-0e56-4caf-8cf8-09fd21b96989"
      },
      "source": [
        "# Prediction on test set\n",
        "\n",
        "print('Predicting labels for {:,} test sentences...'.format(len(prediction_inputs)))\n",
        "\n",
        "# Put model in evaluation mode\n",
        "model.eval()\n",
        "\n",
        "# Tracking variables \n",
        "predictions, true_labels = [], []\n",
        "\n",
        "# Predict \n",
        "for batch in prediction_dataloader:\n",
        "  # Add batch to GPU\n",
        "  batch = tuple(t.to(device) for t in batch)\n",
        "  \n",
        "  # Unpack the inputs from our dataloader\n",
        "  b_input_ids, b_input_mask, b_labels = batch\n",
        "  \n",
        "  # Telling the model not to compute or store gradients, saving memory and \n",
        "  # speeding up prediction\n",
        "  with torch.no_grad():\n",
        "      # Forward pass, calculate logit predictions\n",
        "      outputs = model(b_input_ids, token_type_ids=None, \n",
        "                      attention_mask=b_input_mask)\n",
        "\n",
        "  logits = outputs[0]\n",
        "\n",
        "  # Move logits and labels to CPU\n",
        "  logits = logits.detach().cpu().numpy()\n",
        "  label_ids = b_labels.to('cpu').numpy()\n",
        "  \n",
        "  # Store predictions and true labels\n",
        "  predictions.append(logits)\n",
        "  true_labels.append(label_ids)\n",
        "\n",
        "print('    DONE.')"
      ],
      "execution_count": 42,
      "outputs": [
        {
          "output_type": "stream",
          "name": "stdout",
          "text": [
            "Predicting labels for 23,778 test sentences...\n",
            "    DONE.\n"
          ]
        }
      ]
    },
    {
      "cell_type": "code",
      "source": [
        "len(train_labels)"
      ],
      "metadata": {
        "colab": {
          "base_uri": "https://localhost:8080/"
        },
        "id": "tEWzfEyvim6l",
        "outputId": "d161a512-d05d-4b3c-d235-b36c4134f35e"
      },
      "execution_count": 43,
      "outputs": [
        {
          "output_type": "execute_result",
          "data": {
            "text/plain": [
              "190223"
            ]
          },
          "metadata": {},
          "execution_count": 43
        }
      ]
    },
    {
      "cell_type": "code",
      "source": [
        "len(test_labels)"
      ],
      "metadata": {
        "colab": {
          "base_uri": "https://localhost:8080/"
        },
        "id": "4vgBYL02io3s",
        "outputId": "6c6b30ce-d36c-47ac-de81-7e5bbcf958fd"
      },
      "execution_count": 44,
      "outputs": [
        {
          "output_type": "execute_result",
          "data": {
            "text/plain": [
              "23778"
            ]
          },
          "metadata": {},
          "execution_count": 44
        }
      ]
    },
    {
      "cell_type": "markdown",
      "metadata": {
        "id": "-5jscIM8R4Gv"
      },
      "source": [
        "Accuracy on the CoLA benchmark is measured using the \"[Matthews correlation coefficient](https://scikit-learn.org/stable/modules/generated/sklearn.metrics.matthews_corrcoef.html)\" (MCC).\n",
        "\n",
        "We use MCC here because the classes are imbalanced:\n"
      ]
    },
    {
      "cell_type": "code",
      "metadata": {
        "id": "hWcy0X1hirdx"
      },
      "source": [
        "# print('Positive samples: %d of %d (%.2f%%)' % (df.label.sum(), len(df.label), (df.label.sum() / len(df.label) * 100.0)))"
      ],
      "execution_count": null,
      "outputs": []
    },
    {
      "cell_type": "code",
      "metadata": {
        "id": "cRaZQ4XC7kLs",
        "colab": {
          "base_uri": "https://localhost:8080/"
        },
        "outputId": "8b30b9e3-5734-4ae9-cbee-95ad3a8f8f32"
      },
      "source": [
        "from sklearn.metrics import matthews_corrcoef\n",
        "\n",
        "matthews_set = []\n",
        "\n",
        "# Evaluate each test batch using Matthew's correlation coefficient\n",
        "print('Calculating Matthews Corr. Coef. for each batch...')\n",
        "\n",
        "# For each input batch...\n",
        "for i in range(len(true_labels)):\n",
        "  \n",
        "  # The predictions for this batch are a 2-column ndarray (one column for \"0\" \n",
        "  # and one column for \"1\"). Pick the label with the highest value and turn this\n",
        "  # in to a list of 0s and 1s.\n",
        "  pred_labels_i = np.argmax(predictions[i], axis=1).flatten()\n",
        "  \n",
        "  # Calculate and store the coef for this batch.  \n",
        "  matthews = matthews_corrcoef(true_labels[i], pred_labels_i)                \n",
        "  matthews_set.append(matthews)"
      ],
      "execution_count": 45,
      "outputs": [
        {
          "output_type": "stream",
          "name": "stdout",
          "text": [
            "Calculating Matthews Corr. Coef. for each batch...\n"
          ]
        }
      ]
    },
    {
      "cell_type": "markdown",
      "metadata": {
        "id": "IUM0UA1qJaVB"
      },
      "source": [
        "The final score will be based on the entire test set, but let's take a look at the scores on the individual batches to get a sense of the variability in the metric between batches. \n",
        "\n",
        "Each batch has 32 sentences in it, except the last batch which has only (516 % 32) = 4 test sentences in it.\n"
      ]
    },
    {
      "cell_type": "code",
      "metadata": {
        "id": "xytAr_C48wnu",
        "colab": {
          "base_uri": "https://localhost:8080/"
        },
        "outputId": "1e19c08a-9d8d-46c4-bdfc-5a737be6f2eb"
      },
      "source": [
        "matthews_set"
      ],
      "execution_count": 46,
      "outputs": [
        {
          "output_type": "execute_result",
          "data": {
            "text/plain": [
              "[0.9206665948319749,\n",
              " 0.8018322409309872,\n",
              " 0.7098530480469759,\n",
              " 0.7137502607275209,\n",
              " 0.7692075195271726,\n",
              " 0.7940441154307759,\n",
              " 0.801006897770749,\n",
              " 0.8394035905205549,\n",
              " 0.8060384434247645,\n",
              " 0.9203251304329118,\n",
              " 0.736335008424429,\n",
              " 0.8368700265251989,\n",
              " 0.7393954549341306,\n",
              " 0.6662823173465788,\n",
              " 0.9117133984308888,\n",
              " 0.5856614466391257,\n",
              " 0.8828873464602387,\n",
              " 0.7165569199221387,\n",
              " 0.843403847075103,\n",
              " 0.8436097731994026,\n",
              " 0.7982005141388174,\n",
              " 0.8365570719989496,\n",
              " 0.9184623304769486,\n",
              " 0.8388856547398564,\n",
              " 0.7931768900512242,\n",
              " 0.727044600328221,\n",
              " 0.8820264685954514,\n",
              " 0.650375939849624,\n",
              " 0.8020150880977621,\n",
              " 0.8423769240254196,\n",
              " 0.8402221545276107,\n",
              " 0.7984951211111356,\n",
              " 0.8796783396303416,\n",
              " 0.7347498350454089,\n",
              " 0.8787689345962114,\n",
              " 0.9174761316281093,\n",
              " 0.8002959069535965,\n",
              " 0.9197994987468672,\n",
              " 0.7553859406244646,\n",
              " 0.8307607069865108,\n",
              " 0.7718067392023238,\n",
              " 0.8807096356967692,\n",
              " 0.6168151186628433,\n",
              " 0.8781697964585402,\n",
              " 0.735672155623974,\n",
              " 1.0,\n",
              " 0.9177377892030848,\n",
              " 0.8461955293793573,\n",
              " 0.7273892306708754,\n",
              " 0.8357243087365767,\n",
              " 0.707738104972579,\n",
              " 0.7210477764156173,\n",
              " 0.5863300515915655,\n",
              " 0.8062167786553,\n",
              " 0.883638417791745,\n",
              " 0.6313198046958448,\n",
              " 0.9605103334907892,\n",
              " 0.8439278755153043,\n",
              " 0.9201995012468828,\n",
              " 0.8483482145290513,\n",
              " 0.758851827391911,\n",
              " 0.7614237722725351,\n",
              " 0.8010804227793241,\n",
              " 0.9225090882494401,\n",
              " 0.8811020668062957,\n",
              " 0.7961564633720315,\n",
              " 0.9186169183616371,\n",
              " 0.7935753932437073,\n",
              " 0.8434585477114906,\n",
              " 0.8041541226479197,\n",
              " 0.8414540914940759,\n",
              " 0.8826473794832953,\n",
              " 0.8439509879080049,\n",
              " 0.8450660233622135,\n",
              " 0.7988081578249636,\n",
              " 0.8766263337082552,\n",
              " 0.5638048635745857,\n",
              " 0.9600007991685318,\n",
              " 0.8350649350649351,\n",
              " 0.8418489635435532,\n",
              " 0.7940086811970496,\n",
              " 0.7992653603313975,\n",
              " 0.7979943316529867,\n",
              " 0.8368421052631579,\n",
              " 0.8851959786785607,\n",
              " 0.9223076488435726,\n",
              " 0.8717018400628376,\n",
              " 0.7915677497825913,\n",
              " 0.826758661732308,\n",
              " 0.6836756939712824,\n",
              " 0.9141569297915448,\n",
              " 0.8843393027991279,\n",
              " 0.817674516166756,\n",
              " 0.9206757294401151,\n",
              " 0.8041896314847823,\n",
              " 0.8436805171450759,\n",
              " 0.9195409798099091,\n",
              " 0.7534074600472017,\n",
              " 0.8426640215095705,\n",
              " 0.6167479777229785,\n",
              " 0.7960967378831937,\n",
              " 0.8455827076712414,\n",
              " 0.8235303485127669,\n",
              " 0.7220876535055063,\n",
              " 0.9199601816812957,\n",
              " 0.8793781715750943,\n",
              " 0.8327463260199774,\n",
              " 0.8449235563147218,\n",
              " 0.7987098705284432,\n",
              " 0.7314378842730022,\n",
              " 0.7600576344368928,\n",
              " 0.9204574802920228,\n",
              " 0.8454940704717131,\n",
              " 0.7131878184748575,\n",
              " 0.8825771437380163,\n",
              " 0.6382419363678874,\n",
              " 0.7353330891223545,\n",
              " 0.7079175783657472,\n",
              " 0.9198164695537571,\n",
              " 0.8423800732510712,\n",
              " 0.8409117721186381,\n",
              " 0.6389955277596964,\n",
              " 0.79230680539616,\n",
              " 0.7885666186906305,\n",
              " 0.7990235764178992,\n",
              " 0.7963880814402712,\n",
              " 0.8438668188873556,\n",
              " 0.7707638427746917,\n",
              " 0.7951057335631242,\n",
              " 0.8466439468562021,\n",
              " 0.9250722740947307,\n",
              " 0.8350686090563401,\n",
              " 0.8426640215095705,\n",
              " 0.7649277398112768,\n",
              " 0.7670122520556398,\n",
              " 0.8069744738168874,\n",
              " 0.8457737610921434,\n",
              " 0.7638793772189527,\n",
              " 0.960102568183641,\n",
              " 0.8840646410566623,\n",
              " 0.8426120403492849,\n",
              " 0.8408195940000247,\n",
              " 0.9188418990484196,\n",
              " 0.7186609894448998,\n",
              " 0.7105287760734287,\n",
              " 0.8442791372789399,\n",
              " 0.745475375354141,\n",
              " 0.8432940187029658,\n",
              " 0.845794696474885,\n",
              " 0.6739919687984366,\n",
              " 0.877892030848329,\n",
              " 0.839914953490935,\n",
              " 0.8679074049617762,\n",
              " 0.8788688983631292,\n",
              " 0.9604094678014606,\n",
              " 0.8783675557430415,\n",
              " 0.9214936846615503,\n",
              " 0.7719177197324302,\n",
              " 0.8374213351173768,\n",
              " 0.7503416540716751,\n",
              " 0.8764696084595445,\n",
              " 0.7976587443619041,\n",
              " 0.9164746406516117,\n",
              " 0.8876040787717605,\n",
              " 0.7677066883958091,\n",
              " 0.8051175601825399,\n",
              " 0.7975344321720198,\n",
              " 0.8802351963896115,\n",
              " 0.8769459480369254,\n",
              " 0.7982530715859716,\n",
              " 0.7607985037274415,\n",
              " 0.7526341850259282,\n",
              " 0.8391255340772776,\n",
              " 0.8822165969075383,\n",
              " 0.8535371204919852,\n",
              " 0.7912262025647978,\n",
              " 0.777918027693124,\n",
              " 0.8385304540527009,\n",
              " 0.7319293030995444,\n",
              " 0.8408860222706328,\n",
              " 0.9188418990484196,\n",
              " 0.7526315789473684,\n",
              " 0.7429403496844896,\n",
              " 0.8433127861683056,\n",
              " 0.8326752945121049,\n",
              " 0.9614973600604039,\n",
              " 0.8053412701479472,\n",
              " 0.7627335077611219,\n",
              " 0.7594675282037666,\n",
              " 0.8198992443324937,\n",
              " 0.7984927716972569,\n",
              " 0.7127937336814621,\n",
              " 0.8422107994701692,\n",
              " 0.7559051829293961,\n",
              " 0.7951453484151766,\n",
              " 0.8799594818416473,\n",
              " 0.8431678302238726,\n",
              " 0.766190489747837,\n",
              " 0.7640741211023604,\n",
              " 0.7112031102710948,\n",
              " 0.7618477554522046,\n",
              " 0.8833298044127191,\n",
              " 0.9611528822055138,\n",
              " 0.9229279717881662,\n",
              " 0.8399549804190017,\n",
              " 0.765418941569526,\n",
              " 0.8243000739513883,\n",
              " 0.5998133996445275,\n",
              " 0.7168577279454607,\n",
              " 0.8000334934954838,\n",
              " 0.7966856141812966,\n",
              " 0.8826010851052873,\n",
              " 0.7748372821967202,\n",
              " 0.8759663970936078,\n",
              " 0.7633792124244706,\n",
              " 0.8033098419827465,\n",
              " 0.8007619395226093,\n",
              " 0.9192579666143642,\n",
              " 0.6847279720835624,\n",
              " 0.8820507232728414,\n",
              " 0.7913413084184846,\n",
              " 0.76452243421826,\n",
              " 0.8771381645503662,\n",
              " 1.0,\n",
              " 0.9199089252791639,\n",
              " 0.8847590435911481,\n",
              " 0.7898964106277141,\n",
              " 0.7977116102460693,\n",
              " 0.8449587985884163,\n",
              " 0.6461039167562286,\n",
              " 0.7989920462175718,\n",
              " 0.8458885720088007,\n",
              " 0.766190489747837,\n",
              " 0.7617389964885596,\n",
              " 0.9559697668021034,\n",
              " 0.7667093107483797,\n",
              " 0.8840695376317528,\n",
              " 0.7815963561082253,\n",
              " 0.9611800514529633,\n",
              " 0.7926196675221594,\n",
              " 0.7924074776361855,\n",
              " 0.921449249229426,\n",
              " 0.8047884473276395,\n",
              " 0.8827348905846679,\n",
              " 0.8407086364369162,\n",
              " 0.7263700502280677,\n",
              " 0.797951561359046,\n",
              " 0.9161102744180957,\n",
              " 0.8821273125748098,\n",
              " 0.8814166142860619,\n",
              " 0.8022771831846347,\n",
              " 0.8079610032674738,\n",
              " 0.9193409694220172,\n",
              " 0.632740364870974,\n",
              " 0.7896383590575259,\n",
              " 0.7878433795750867,\n",
              " 0.8481507335833754,\n",
              " 0.7614605622501989,\n",
              " 0.9217455312206972,\n",
              " 0.8075529195855784,\n",
              " 0.7829758188375054,\n",
              " 0.7090909090909091,\n",
              " 0.9191460192102608,\n",
              " 0.7670886075949367,\n",
              " 0.7150523097445406,\n",
              " 0.8367609254498715,\n",
              " 0.7247682730335264,\n",
              " 0.8427025397010405,\n",
              " 0.8417324553032306,\n",
              " 0.9118961387856328,\n",
              " 0.6121965324781466,\n",
              " 0.9203206471901346,\n",
              " 0.8777075610763319,\n",
              " 0.8803812896546831,\n",
              " 0.8310941383426066,\n",
              " 0.7548294124240689,\n",
              " 0.921275911249386,\n",
              " 0.6649151601439485,\n",
              " 0.7694453084643017,\n",
              " 0.6510542203648777,\n",
              " 0.7558139534883721,\n",
              " 0.8702705543039574,\n",
              " 0.9188418990484196,\n",
              " 0.8819345952758519,\n",
              " 0.9607718093634642,\n",
              " 0.8413813984748197,\n",
              " 0.8859062133542966,\n",
              " 0.6766804443396358,\n",
              " 0.6555567561126067,\n",
              " 0.8061355761495574,\n",
              " 0.8836346035022288,\n",
              " 0.9214629332616062,\n",
              " 0.8095525400010621,\n",
              " 0.5984600591992485,\n",
              " 0.9217171717171717,\n",
              " 0.6855083439361442,\n",
              " 0.6698394296456545,\n",
              " 0.9162303664921466,\n",
              " 0.7590836495614548,\n",
              " 0.8064557584848618,\n",
              " 0.7987415804752426,\n",
              " 0.9177994702640464,\n",
              " 0.838271439307682,\n",
              " 0.9225259464071192,\n",
              " 0.8769430051813472,\n",
              " 0.5895153673415238,\n",
              " 0.9576538477396869,\n",
              " 0.8058049044994312,\n",
              " 0.9174148849477838,\n",
              " 0.7904662840163305,\n",
              " 0.8211055683221422,\n",
              " 0.9175424109261769,\n",
              " 0.7513952617804316,\n",
              " 0.9222264293229383,\n",
              " 0.7581498787513408,\n",
              " 0.8758976813529002,\n",
              " 0.7120676472796146,\n",
              " 0.9172237814408444,\n",
              " 0.750477597934639,\n",
              " 0.7637485460603511,\n",
              " 0.8488286657517982,\n",
              " 0.9214578449583702,\n",
              " 0.7573738168998065,\n",
              " 0.7969759116024403,\n",
              " 0.9199475065616798,\n",
              " 0.8345256637555787,\n",
              " 0.6272483203490894,\n",
              " 0.9597997431455643,\n",
              " 0.8815867828276092,\n",
              " 0.879725592764379,\n",
              " 0.8823536322421001,\n",
              " 0.668428213613149,\n",
              " 0.7698922854634789,\n",
              " 0.8908047485960303,\n",
              " 0.8738449166022567,\n",
              " 0.7497025038179318,\n",
              " 0.8540306136911927,\n",
              " 0.6491309619291262,\n",
              " 0.8381229612458658,\n",
              " 0.7894217719053505,\n",
              " 0.862449277555283,\n",
              " 0.719851518435944,\n",
              " 0.8093487057252396,\n",
              " 0.9209543008322169,\n",
              " 0.9213759213759214,\n",
              " 0.8328981723237598,\n",
              " 0.8433689910778029,\n",
              " 0.8405494284110169,\n",
              " 0.8471204550278745,\n",
              " 0.8388746803069054,\n",
              " 0.8043612637656621,\n",
              " 0.7996782365092788,\n",
              " 0.8791348600508906,\n",
              " 0.7981397544319335,\n",
              " 0.7849764776602794,\n",
              " 0.9192739504513517,\n",
              " 0.65625242295913,\n",
              " 0.8357113390566597,\n",
              " 0.9614014790763655,\n",
              " 0.7148678703351484,\n",
              " 0.9189979973993337,\n",
              " 0.8466264041753342,\n",
              " 0.9601574142353029,\n",
              " 0.7222590693548306,\n",
              " 0.8829630877351704,\n",
              " 0.863576950915696,\n",
              " 0.8825717496551365,\n",
              " 0.7985707688318965,\n",
              " 0.8394444129234773,\n",
              " 0.8711138703109386,\n",
              " 0.7157837808585572,\n",
              " 0.7414326655359479,\n",
              " 0.8440258249485058,\n",
              " 0.7548144858495033,\n",
              " 0.8398044963924951,\n",
              " 0.7695311757077109,\n",
              " 0.7390807190014832,\n",
              " 0.6751918158567775,\n",
              " 0.7234295410814767,\n",
              " 0.8774453350697599,\n",
              " 0.7673983908344791,\n",
              " 0.8010855761728107,\n",
              " 0.7737596720563514,\n",
              " 0.5708545211863963,\n",
              " 0.916943935657531,\n",
              " 0.7655860349127181,\n",
              " 0.8504726161054643,\n",
              " 0.7654430455327492,\n",
              " 0.7728567084253438,\n",
              " 0.8346715445620434,\n",
              " 0.9190725832045857,\n",
              " 0.9233628809417185,\n",
              " 0.7622968063295104,\n",
              " 0.9616818224533561,\n",
              " 0.8390987122998108,\n",
              " 0.8523991687957311,\n",
              " 0.7328317130805774,\n",
              " 0.763130236713497,\n",
              " 0.9602848214702354,\n",
              " 0.921449249229426,\n",
              " 0.8769459480369254,\n",
              " 0.8741913556629288,\n",
              " 0.683206106870229,\n",
              " 0.8062510069022623,\n",
              " 0.8794301267344454,\n",
              " 0.805002515636792,\n",
              " 0.7152200069031891,\n",
              " 0.700282878157496,\n",
              " 0.8483411926157539,\n",
              " 1.0,\n",
              " 0.8065300363483828,\n",
              " 0.7517621156008928,\n",
              " 0.7633878895829506,\n",
              " 0.718518494105147,\n",
              " 0.8781697964585402,\n",
              " 0.8041296108622448,\n",
              " 0.7226038432422851,\n",
              " 0.8023684415264662,\n",
              " 0.9190352831577462,\n",
              " 0.8487526523561829,\n",
              " 0.7580081530610504,\n",
              " 0.8677685950413223,\n",
              " 0.7559691197461165,\n",
              " 0.6735773899249649,\n",
              " 0.7927318415516177,\n",
              " 0.7616382168966445,\n",
              " 0.7192331335776324,\n",
              " 0.8070347128487604,\n",
              " 0.8827930174563591,\n",
              " 0.4890641343993859,\n",
              " 0.7134473504823939,\n",
              " 0.810564554814252,\n",
              " 0.7579220282707995,\n",
              " 0.8442095654270234,\n",
              " 0.8431149882742865,\n",
              " 0.8774519217598192,\n",
              " 0.8036605002084733,\n",
              " 0.8384223918575063,\n",
              " 0.7937580320673944,\n",
              " 0.637562438895095,\n",
              " 0.8793275686112186,\n",
              " 0.75,\n",
              " 0.8801575624369754,\n",
              " 0.7654423492702652,\n",
              " 0.6219190645661969,\n",
              " 0.8745236998327826,\n",
              " 0.8327005507283579,\n",
              " 0.7285562605232486,\n",
              " 0.7635869798852102,\n",
              " 0.7289626291654793,\n",
              " 0.8422603998491439,\n",
              " 0.6899176417206043,\n",
              " 0.8818300804321778,\n",
              " 0.9218706367949417,\n",
              " 0.7852343668917695,\n",
              " 0.9201061487262086,\n",
              " 0.881988258160255,\n",
              " 0.9614914250930103,\n",
              " 0.7247687069336355,\n",
              " 0.9214261790892075,\n",
              " 0.9606598984771574,\n",
              " 0.8001125731845757,\n",
              " 0.7305156702579749,\n",
              " 0.7838588357251636,\n",
              " 0.8043852653163427,\n",
              " 0.6412415592113601,\n",
              " 0.8455797341383743,\n",
              " 0.8006949924654062,\n",
              " 0.731668235428976,\n",
              " 0.8815488757851206,\n",
              " 0.854689897936124,\n",
              " 0.7682923179093424,\n",
              " 0.8406689899950593,\n",
              " 0.8853115587450356,\n",
              " 0.8026300676406586,\n",
              " 0.8761594252300692,\n",
              " 0.7221393691255349,\n",
              " 0.7604186463325083,\n",
              " 0.9615868597013039,\n",
              " 0.7637523867299377,\n",
              " 0.6838715370420992,\n",
              " 0.7627235203888085,\n",
              " 0.833772490385128,\n",
              " 0.8771205483274237,\n",
              " 0.7943868140577122,\n",
              " 0.6805036830061724,\n",
              " 0.8729304163202752,\n",
              " 0.8493536826796734,\n",
              " 0.8036267972236505,\n",
              " 0.8270729167479185,\n",
              " 0.7199865257482388,\n",
              " 0.6456441100107463,\n",
              " 0.8044987838759591,\n",
              " 0.6833369118075628,\n",
              " 0.8025419329860821,\n",
              " 0.8056955374986876,\n",
              " 0.7894102054470356,\n",
              " 0.8458885720088007,\n",
              " 0.7974722828317087,\n",
              " 0.8035672372837724,\n",
              " 0.803016981165593,\n",
              " 0.7838936708240888,\n",
              " 0.7231544904383067,\n",
              " 0.6926938010744171,\n",
              " 0.7139980254404844,\n",
              " 0.8491509457822102,\n",
              " 0.8444124838076423,\n",
              " 0.7992431923969668,\n",
              " 0.9080758381476375,\n",
              " 0.8778002552081415,\n",
              " 0.8830076045552664,\n",
              " 0.91730586368975,\n",
              " 0.7926509186351706,\n",
              " 0.9614973600604039,\n",
              " 0.8270263832750702,\n",
              " 0.8309445616097769,\n",
              " 0.868092966019881,\n",
              " 0.8393810551372639,\n",
              " 0.802531595655471,\n",
              " 0.959056408388782,\n",
              " 0.6055765828853031,\n",
              " 0.7620350846334722,\n",
              " 0.8812325218049932,\n",
              " 0.7179389916520477,\n",
              " 0.6688850655230333,\n",
              " 0.8327099866659629,\n",
              " 0.7659798998294677,\n",
              " 0.6522855972292643,\n",
              " 0.608340851916675,\n",
              " 0.8436079630300024,\n",
              " 0.7197364341619403,\n",
              " 0.8060998365502894,\n",
              " 0.7601599453628549,\n",
              " 0.8408758989894893,\n",
              " 0.9161776424631295,\n",
              " 0.8735399444211982,\n",
              " 0.7915069457369984,\n",
              " 0.8453114701289651,\n",
              " 0.8517162937509757,\n",
              " 0.7636162006707992,\n",
              " 0.9157894736842105,\n",
              " 0.794239428913672,\n",
              " 0.71594776604037,\n",
              " 0.8760059860480619,\n",
              " 0.9228912866624196,\n",
              " 0.8799668558689415,\n",
              " 0.8433292088474665,\n",
              " 0.7574788026062453,\n",
              " 0.8419012305321794,\n",
              " 0.916033577632771,\n",
              " 0.8036267972236505,\n",
              " 0.8341216603846905,\n",
              " 0.7247600317984773,\n",
              " 0.9162916156426676,\n",
              " 0.7599993754573074,\n",
              " 0.8792948256065276,\n",
              " 0.7705831504523313,\n",
              " 0.7552173491392403,\n",
              " 0.8766499914646375,\n",
              " 0.8384332490165379,\n",
              " 0.8282727178537235,\n",
              " 0.8798414382145441,\n",
              " 0.7923955530041411,\n",
              " 0.8007518796992481,\n",
              " 0.7623696724913677,\n",
              " 0.7968858085288199,\n",
              " 0.8803638163988378,\n",
              " 0.8509878029953822,\n",
              " 0.7874584890917911,\n",
              " 0.7118702379933395,\n",
              " 0.6807491529797892,\n",
              " 0.7579885010272912,\n",
              " 0.7246286252324616,\n",
              " 0.789083748442037,\n",
              " 0.7143005037835396,\n",
              " 0.8436720386504983,\n",
              " 0.7277250016117178,\n",
              " 0.8282000613629528,\n",
              " 0.805174596055957,\n",
              " 0.9595332967534446,\n",
              " 0.8365681575843257,\n",
              " 0.81740503947754,\n",
              " 0.8136888664713265,\n",
              " 0.9177282359205178,\n",
              " 0.8067656946573456,\n",
              " 0.863768115942029,\n",
              " 0.8048946285542368,\n",
              " 0.908434070933571,\n",
              " 0.8064014884648159,\n",
              " 0.7455844419343102,\n",
              " 0.673096837479137,\n",
              " 0.7586510071475296,\n",
              " 0.875183148094126,\n",
              " 0.8852895357955243,\n",
              " 0.8374859330094707,\n",
              " 0.6677032167560402,\n",
              " 0.7294184260140933,\n",
              " 0.7312488389949996,\n",
              " 0.6837328425087227,\n",
              " 0.8371501272264631,\n",
              " 0.7231820845165683,\n",
              " 0.8428213051011971,\n",
              " 0.9237528867322815,\n",
              " 0.7997820675963953,\n",
              " 0.8799840806812255,\n",
              " 0.8477227585433051,\n",
              " 0.8751163245867307,\n",
              " 0.7617511158062152,\n",
              " 0.9591775980288478,\n",
              " 0.7808958130848006,\n",
              " 0.6572361409743254,\n",
              " 0.8832515758361407,\n",
              " 0.8457837868863046,\n",
              " 0.7284332318490364,\n",
              " 0.8058319988955411,\n",
              " 0.7620314694933434,\n",
              " 0.8020050125313283,\n",
              " 0.8646723646723646,\n",
              " 0.8789807652812112,\n",
              " 0.7679995320981098,\n",
              " 0.7121147440688979,\n",
              " 0.7433762918125657,\n",
              " 0.7847612766056752,\n",
              " 0.8388822350338092,\n",
              " 0.9172149837558815,\n",
              " 0.8279278388559729,\n",
              " 0.8256130790190735,\n",
              " 0.6666666666666666,\n",
              " 0.632051282051282,\n",
              " 0.7589285714285714,\n",
              " 0.8773616777096624,\n",
              " 0.7202739386602556,\n",
              " 0.7559081155042241,\n",
              " 0.8520920955378521,\n",
              " 0.8050402530190016,\n",
              " 0.7642264635185617,\n",
              " 0.7549675496407007,\n",
              " 0.8194994061404335,\n",
              " 0.8124708873747144,\n",
              " 0.7576239741922585,\n",
              " 0.8344262002727615,\n",
              " 0.7770205251010048,\n",
              " 0.9146144331576366,\n",
              " 0.7052843975545711,\n",
              " 0.727601938789459,\n",
              " 0.747500040499759,\n",
              " 0.8014717481193313,\n",
              " 0.7604264928583213,\n",
              " 0.8111210013832836,\n",
              " 0.837281877193533,\n",
              " 0.920091146569887,\n",
              " 0.7949763268725603,\n",
              " 0.8491694300684501,\n",
              " 0.8042946923566698,\n",
              " 0.8439457263517788,\n",
              " 0.7994885565588478,\n",
              " 0.7263075616569953,\n",
              " 0.7589285714285714,\n",
              " 0.7504409168037032,\n",
              " 0.8462542239605355,\n",
              " 0.9590421913635538,\n",
              " 0.720607402660214,\n",
              " 0.8427373170609038,\n",
              " 0.9595836056632143,\n",
              " 0.8019981250326158,\n",
              " 0.7868553454258073,\n",
              " 0.7984719858694453,\n",
              " 0.8074839454197807,\n",
              " 0.797468405949417,\n",
              " 0.92048096000251,\n",
              " 0.833717190663305,\n",
              " 0.7092863845461843,\n",
              " 0.7740121103999158,\n",
              " 0.7934320420711471,\n",
              " 0.7435086947509766,\n",
              " 0.7650023906362061,\n",
              " 0.8380347460145332,\n",
              " 0.8084230985704465,\n",
              " 0.5928690719482242,\n",
              " 0.8102119245967985,\n",
              " 0.8423088159370533,\n",
              " 0.8311199606773086,\n",
              " 0.9609148207791778,\n",
              " 0.871448700424539,\n",
              " 0.8846685701713293,\n",
              " 0.845886238210928,\n",
              " 0.8047858942065491,\n",
              " 0.7611904878053544,\n",
              " 0.8365454925661836,\n",
              " 0.8344205266636646,\n",
              " 0.87782344974931,\n",
              " 0.7689786245403704,\n",
              " 0.7676267087242103,\n",
              " 0.8425458044164024,\n",
              " 0.7932039103532869,\n",
              " 0.7577948827540499,\n",
              " 0.8446996629840374,\n",
              " 0.8821384291559083,\n",
              " 0.8402313017946277,\n",
              " 0.7253211293907966,\n",
              " 0.7616004676431223,\n",
              " 0.6897768786730897,\n",
              " 0.8704029243657737,\n",
              " 0.8376316480000499,\n",
              " 0.803505009786423,\n",
              " 0.8859760426329966,\n",
              " 0.8755158880199939,\n",
              " 0.8019581592704448,\n",
              " 0.7476941145289954,\n",
              " 0.7287852295855604,\n",
              " 0.8836577241009873,\n",
              " 0.8718020166881593,\n",
              " 1.0,\n",
              " 0.7974359509729266,\n",
              " 0.8259241617315021,\n",
              " 0.8825785716380301,\n",
              " 0.7622764466535767,\n",
              " 0.7883476939055211,\n",
              " 0.6411548334131646,\n",
              " 0.5442017393057724,\n",
              " 0.7670122520556398,\n",
              " 0.8010197320280319,\n",
              " 0.8024900447015774,\n",
              " 0.7613971266149793,\n",
              " 0.7582278481012659,\n",
              " 0.5941690518091389,\n",
              " 0.8012745354982843,\n",
              " 0.8395385607917945,\n",
              " 0.7974528763464642,\n",
              " 0.8807952901869849,\n",
              " 0.7990549317433248,\n",
              " 0.693301271729272,\n",
              " 0.632015781743172,\n",
              " 0.7538461538461538,\n",
              " 0.7177575032672554,\n",
              " 0.7127732527173942,\n",
              " 0.96125,\n",
              " 0.8340039629577769,\n",
              " 0.7237946350346932,\n",
              " 0.7224340403250095,\n",
              " 0.7486586189876412,\n",
              " 0.8764636799383545,\n",
              " 0.7576012391574272,\n",
              " 1.0]"
            ]
          },
          "metadata": {},
          "execution_count": 46
        }
      ]
    },
    {
      "cell_type": "code",
      "metadata": {
        "id": "oCYZa1lQ8Jn8",
        "colab": {
          "base_uri": "https://localhost:8080/"
        },
        "outputId": "933f43a9-0b76-48eb-fc66-e2e8c45f28ef"
      },
      "source": [
        "# Combine the predictions for each batch into a single list of 0s and 1s.\n",
        "flat_predictions = [item for sublist in predictions for item in sublist]\n",
        "flat_predictions = np.argmax(flat_predictions, axis=1).flatten()\n",
        "\n",
        "# Combine the correct labels for each batch into a single list.\n",
        "flat_true_labels = [item for sublist in true_labels for item in sublist]\n",
        "\n",
        "# Calculate the MCC\n",
        "mcc = matthews_corrcoef(flat_true_labels, flat_predictions)\n",
        "\n",
        "print('MCC: %.3f' % mcc)"
      ],
      "execution_count": 47,
      "outputs": [
        {
          "output_type": "stream",
          "name": "stdout",
          "text": [
            "MCC: 0.811\n"
          ]
        }
      ]
    },
    {
      "cell_type": "markdown",
      "metadata": {
        "id": "jXx0jPc4HUfZ"
      },
      "source": [
        "Cool! In about half an hour and without doing any hyperparameter tuning (adjusting the learning rate, epochs, batch size, ADAM properties, etc.) we are able to get a good score. I should also mention we didn't train on the entire training dataset, but set aside a portion of it as our validation set for legibililty of code.\n",
        "\n",
        "The library documents the expected accuracy for this benchmark [here](https://huggingface.co/transformers/examples.html#glue).\n",
        "\n",
        "You can also look at the official leaderboard [here](https://gluebenchmark.com/leaderboard/submission/zlssuBTm5XRs0aSKbFYGVIVdvbj1/-LhijX9VVmvJcvzKymxy). \n",
        "\n",
        "Note that (due to the small dataset size?) the accuracy can vary significantly with different random seeds.\n"
      ]
    },
    {
      "cell_type": "markdown",
      "metadata": {
        "id": "GfjYoa6WmkN6"
      },
      "source": [
        "# Conclusion"
      ]
    },
    {
      "cell_type": "markdown",
      "metadata": {
        "id": "xlQG7qgkmf4n"
      },
      "source": [
        "This post demonstrates that with a pre-trained BERT model you can quickly and effectively create a high quality model with minimal effort and training time using the pytorch interface, regardless of the specific NLP task you are interested in."
      ]
    },
    {
      "cell_type": "markdown",
      "metadata": {
        "id": "YUmsUOIv8EUO"
      },
      "source": [
        "# Appendix\n"
      ]
    },
    {
      "cell_type": "markdown",
      "metadata": {
        "id": "q2079Qyn8Mt8"
      },
      "source": [
        "## A1. Saving & Loading Fine-Tuned Model\n",
        "\n",
        "This first cell (taken from `run_glue.py` [here](https://github.com/huggingface/transformers/blob/35ff345fc9df9e777b27903f11fa213e4052595b/examples/run_glue.py#L495)) writes the model and tokenizer out to disk."
      ]
    },
    {
      "cell_type": "code",
      "metadata": {
        "id": "6ulTWaOr8QNY",
        "colab": {
          "base_uri": "https://localhost:8080/"
        },
        "outputId": "edcd32be-d9a3-45b9-dac6-30e4fdf321b6"
      },
      "source": [
        "import os\n",
        "\n",
        "# Saving best-practices: if you use defaults names for the model, you can reload it using from_pretrained()\n",
        "\n",
        "output_dir = 'drive/MyDrive/models'\n",
        "\n",
        "# Create output directory if needed\n",
        "if not os.path.exists(output_dir):\n",
        "    os.makedirs(output_dir)\n",
        "\n",
        "print(\"Saving model to %s\" % output_dir)\n",
        "\n",
        "# Save a trained model, configuration and tokenizer using `save_pretrained()`.\n",
        "# They can then be reloaded using `from_pretrained()`\n",
        "model_to_save = model.module if hasattr(model, 'module') else model  # Take care of distributed/parallel training\n",
        "model_to_save.save_pretrained(output_dir)\n",
        "tokenizer.save_pretrained(output_dir)\n",
        "\n",
        "# Good practice: save your training arguments together with the trained model\n",
        "# torch.save(args, os.path.join(output_dir, 'training_args.bin'))\n"
      ],
      "execution_count": 40,
      "outputs": [
        {
          "output_type": "stream",
          "name": "stdout",
          "text": [
            "Saving model to drive/MyDrive/models\n"
          ]
        },
        {
          "output_type": "execute_result",
          "data": {
            "text/plain": [
              "('drive/MyDrive/models/tokenizer_config.json',\n",
              " 'drive/MyDrive/models/special_tokens_map.json',\n",
              " 'drive/MyDrive/models/vocab.txt',\n",
              " 'drive/MyDrive/models/added_tokens.json')"
            ]
          },
          "metadata": {},
          "execution_count": 40
        }
      ]
    },
    {
      "cell_type": "markdown",
      "metadata": {
        "id": "Z-tjHkR7lc1I"
      },
      "source": [
        "Let's check out the file sizes, out of curiosity."
      ]
    },
    {
      "cell_type": "code",
      "metadata": {
        "id": "mqMzI3VTCZo5",
        "colab": {
          "base_uri": "https://localhost:8080/"
        },
        "outputId": "4ff3d03a-e258-47ef-f5af-5888a4cd6ff7"
      },
      "source": [
        "!ls -l --block-size=K ./model_save/"
      ],
      "execution_count": 34,
      "outputs": [
        {
          "output_type": "stream",
          "name": "stdout",
          "text": [
            "total 654692K\n",
            "-rw-r--r-- 1 root root      2K Dec  4 23:42 config.json\n",
            "-rw-r--r-- 1 root root 653821K Dec  4 23:42 pytorch_model.bin\n",
            "-rw-r--r-- 1 root root      1K Dec  4 23:42 special_tokens_map.json\n",
            "-rw-r--r-- 1 root root      1K Dec  4 23:42 tokenizer_config.json\n",
            "-rw-r--r-- 1 root root    852K Dec  4 23:42 vocab.txt\n"
          ]
        }
      ]
    },
    {
      "cell_type": "markdown",
      "metadata": {
        "id": "fr_bt2rFlgDn"
      },
      "source": [
        "The largest file is the model weights, at around 418 megabytes."
      ]
    },
    {
      "cell_type": "code",
      "metadata": {
        "id": "-WUFUIQ8Cu8D",
        "colab": {
          "base_uri": "https://localhost:8080/"
        },
        "outputId": "be49beee-f0c7-4591-9c2b-fd0517d062f6"
      },
      "source": [
        "!ls -l --block-size=M ./model_save/pytorch_model.bin"
      ],
      "execution_count": 35,
      "outputs": [
        {
          "output_type": "stream",
          "name": "stdout",
          "text": [
            "-rw-r--r-- 1 root root 639M Dec  4 23:42 ./model_save/pytorch_model.bin\n"
          ]
        }
      ]
    },
    {
      "cell_type": "markdown",
      "metadata": {
        "id": "dzGKvOFAll_e"
      },
      "source": [
        "To save your model across Colab Notebook sessions, download it to your local machine, or ideally copy it to your Google Drive."
      ]
    },
    {
      "cell_type": "code",
      "metadata": {
        "id": "Trr-A-POC18_",
        "colab": {
          "base_uri": "https://localhost:8080/"
        },
        "outputId": "aa33a8ec-5966-425b-d566-76fe78ba1c62"
      },
      "source": [
        "# Mount Google Drive to this Notebook instance.\n",
        "from google.colab import drive\n",
        "drive.mount('/content/drive')"
      ],
      "execution_count": 37,
      "outputs": [
        {
          "output_type": "stream",
          "name": "stdout",
          "text": [
            "Mounted at /content/drive\n"
          ]
        }
      ]
    },
    {
      "cell_type": "code",
      "metadata": {
        "id": "NxlZsafTC-V5"
      },
      "source": [
        "# Copy the model files to a directory in your Google Drive.\n",
        "# !cp -r ./model_save/ \"./drive/Shared drives/ChrisMcCormick.AI/Blog Posts/BERT Fine-Tuning/\""
      ],
      "execution_count": null,
      "outputs": []
    },
    {
      "cell_type": "code",
      "source": [
        "!cp -r ./model_save/ \"/content/drive/models\""
      ],
      "metadata": {
        "colab": {
          "base_uri": "https://localhost:8080/"
        },
        "id": "YS60Q_CEAnZ_",
        "outputId": "3a08760e-2f88-4fd4-a9b6-a28fc3a646c7"
      },
      "execution_count": 39,
      "outputs": [
        {
          "output_type": "stream",
          "name": "stdout",
          "text": [
            "cp: cannot create directory '/content/drive/models': Operation not supported\n"
          ]
        }
      ]
    },
    {
      "cell_type": "markdown",
      "metadata": {
        "id": "W0vstijw85SZ"
      },
      "source": [
        "The following functions will load the model back from disk."
      ]
    },
    {
      "cell_type": "code",
      "source": [
        "from transformers import AutoModel, AutoTokenizer"
      ],
      "metadata": {
        "id": "QCR_lWiwA1CD"
      },
      "execution_count": 57,
      "outputs": []
    },
    {
      "cell_type": "code",
      "metadata": {
        "id": "nskPzUM084zL",
        "colab": {
          "base_uri": "https://localhost:8080/"
        },
        "outputId": "8128622b-f56c-4125-f116-3ae773f64e81"
      },
      "source": [
        "# Load a trained model and vocabulary that you have fine-tuned\n",
        "model = AutoModel.from_pretrained(output_dir)\n",
        "tokenizer = AutoTokenizer.from_pretrained(output_dir)\n",
        "\n",
        "# Copy the model to the GPU.\n",
        "model.to(device)"
      ],
      "execution_count": 58,
      "outputs": [
        {
          "output_type": "stream",
          "name": "stderr",
          "text": [
            "Some weights of the model checkpoint at drive/MyDrive/models were not used when initializing BertModel: ['classifier.weight', 'classifier.bias']\n",
            "- This IS expected if you are initializing BertModel from the checkpoint of a model trained on another task or with another architecture (e.g. initializing a BertForSequenceClassification model from a BertForPreTraining model).\n",
            "- This IS NOT expected if you are initializing BertModel from the checkpoint of a model that you expect to be exactly identical (initializing a BertForSequenceClassification model from a BertForSequenceClassification model).\n"
          ]
        },
        {
          "output_type": "execute_result",
          "data": {
            "text/plain": [
              "BertModel(\n",
              "  (embeddings): BertEmbeddings(\n",
              "    (word_embeddings): Embedding(105879, 768, padding_idx=0)\n",
              "    (position_embeddings): Embedding(512, 768)\n",
              "    (token_type_embeddings): Embedding(2, 768)\n",
              "    (LayerNorm): LayerNorm((768,), eps=1e-12, elementwise_affine=True)\n",
              "    (dropout): Dropout(p=0.1, inplace=False)\n",
              "  )\n",
              "  (encoder): BertEncoder(\n",
              "    (layer): ModuleList(\n",
              "      (0): BertLayer(\n",
              "        (attention): BertAttention(\n",
              "          (self): BertSelfAttention(\n",
              "            (query): Linear(in_features=768, out_features=768, bias=True)\n",
              "            (key): Linear(in_features=768, out_features=768, bias=True)\n",
              "            (value): Linear(in_features=768, out_features=768, bias=True)\n",
              "            (dropout): Dropout(p=0.1, inplace=False)\n",
              "          )\n",
              "          (output): BertSelfOutput(\n",
              "            (dense): Linear(in_features=768, out_features=768, bias=True)\n",
              "            (LayerNorm): LayerNorm((768,), eps=1e-12, elementwise_affine=True)\n",
              "            (dropout): Dropout(p=0.1, inplace=False)\n",
              "          )\n",
              "        )\n",
              "        (intermediate): BertIntermediate(\n",
              "          (dense): Linear(in_features=768, out_features=3072, bias=True)\n",
              "          (intermediate_act_fn): GELUActivation()\n",
              "        )\n",
              "        (output): BertOutput(\n",
              "          (dense): Linear(in_features=3072, out_features=768, bias=True)\n",
              "          (LayerNorm): LayerNorm((768,), eps=1e-12, elementwise_affine=True)\n",
              "          (dropout): Dropout(p=0.1, inplace=False)\n",
              "        )\n",
              "      )\n",
              "      (1): BertLayer(\n",
              "        (attention): BertAttention(\n",
              "          (self): BertSelfAttention(\n",
              "            (query): Linear(in_features=768, out_features=768, bias=True)\n",
              "            (key): Linear(in_features=768, out_features=768, bias=True)\n",
              "            (value): Linear(in_features=768, out_features=768, bias=True)\n",
              "            (dropout): Dropout(p=0.1, inplace=False)\n",
              "          )\n",
              "          (output): BertSelfOutput(\n",
              "            (dense): Linear(in_features=768, out_features=768, bias=True)\n",
              "            (LayerNorm): LayerNorm((768,), eps=1e-12, elementwise_affine=True)\n",
              "            (dropout): Dropout(p=0.1, inplace=False)\n",
              "          )\n",
              "        )\n",
              "        (intermediate): BertIntermediate(\n",
              "          (dense): Linear(in_features=768, out_features=3072, bias=True)\n",
              "          (intermediate_act_fn): GELUActivation()\n",
              "        )\n",
              "        (output): BertOutput(\n",
              "          (dense): Linear(in_features=3072, out_features=768, bias=True)\n",
              "          (LayerNorm): LayerNorm((768,), eps=1e-12, elementwise_affine=True)\n",
              "          (dropout): Dropout(p=0.1, inplace=False)\n",
              "        )\n",
              "      )\n",
              "      (2): BertLayer(\n",
              "        (attention): BertAttention(\n",
              "          (self): BertSelfAttention(\n",
              "            (query): Linear(in_features=768, out_features=768, bias=True)\n",
              "            (key): Linear(in_features=768, out_features=768, bias=True)\n",
              "            (value): Linear(in_features=768, out_features=768, bias=True)\n",
              "            (dropout): Dropout(p=0.1, inplace=False)\n",
              "          )\n",
              "          (output): BertSelfOutput(\n",
              "            (dense): Linear(in_features=768, out_features=768, bias=True)\n",
              "            (LayerNorm): LayerNorm((768,), eps=1e-12, elementwise_affine=True)\n",
              "            (dropout): Dropout(p=0.1, inplace=False)\n",
              "          )\n",
              "        )\n",
              "        (intermediate): BertIntermediate(\n",
              "          (dense): Linear(in_features=768, out_features=3072, bias=True)\n",
              "          (intermediate_act_fn): GELUActivation()\n",
              "        )\n",
              "        (output): BertOutput(\n",
              "          (dense): Linear(in_features=3072, out_features=768, bias=True)\n",
              "          (LayerNorm): LayerNorm((768,), eps=1e-12, elementwise_affine=True)\n",
              "          (dropout): Dropout(p=0.1, inplace=False)\n",
              "        )\n",
              "      )\n",
              "      (3): BertLayer(\n",
              "        (attention): BertAttention(\n",
              "          (self): BertSelfAttention(\n",
              "            (query): Linear(in_features=768, out_features=768, bias=True)\n",
              "            (key): Linear(in_features=768, out_features=768, bias=True)\n",
              "            (value): Linear(in_features=768, out_features=768, bias=True)\n",
              "            (dropout): Dropout(p=0.1, inplace=False)\n",
              "          )\n",
              "          (output): BertSelfOutput(\n",
              "            (dense): Linear(in_features=768, out_features=768, bias=True)\n",
              "            (LayerNorm): LayerNorm((768,), eps=1e-12, elementwise_affine=True)\n",
              "            (dropout): Dropout(p=0.1, inplace=False)\n",
              "          )\n",
              "        )\n",
              "        (intermediate): BertIntermediate(\n",
              "          (dense): Linear(in_features=768, out_features=3072, bias=True)\n",
              "          (intermediate_act_fn): GELUActivation()\n",
              "        )\n",
              "        (output): BertOutput(\n",
              "          (dense): Linear(in_features=3072, out_features=768, bias=True)\n",
              "          (LayerNorm): LayerNorm((768,), eps=1e-12, elementwise_affine=True)\n",
              "          (dropout): Dropout(p=0.1, inplace=False)\n",
              "        )\n",
              "      )\n",
              "      (4): BertLayer(\n",
              "        (attention): BertAttention(\n",
              "          (self): BertSelfAttention(\n",
              "            (query): Linear(in_features=768, out_features=768, bias=True)\n",
              "            (key): Linear(in_features=768, out_features=768, bias=True)\n",
              "            (value): Linear(in_features=768, out_features=768, bias=True)\n",
              "            (dropout): Dropout(p=0.1, inplace=False)\n",
              "          )\n",
              "          (output): BertSelfOutput(\n",
              "            (dense): Linear(in_features=768, out_features=768, bias=True)\n",
              "            (LayerNorm): LayerNorm((768,), eps=1e-12, elementwise_affine=True)\n",
              "            (dropout): Dropout(p=0.1, inplace=False)\n",
              "          )\n",
              "        )\n",
              "        (intermediate): BertIntermediate(\n",
              "          (dense): Linear(in_features=768, out_features=3072, bias=True)\n",
              "          (intermediate_act_fn): GELUActivation()\n",
              "        )\n",
              "        (output): BertOutput(\n",
              "          (dense): Linear(in_features=3072, out_features=768, bias=True)\n",
              "          (LayerNorm): LayerNorm((768,), eps=1e-12, elementwise_affine=True)\n",
              "          (dropout): Dropout(p=0.1, inplace=False)\n",
              "        )\n",
              "      )\n",
              "      (5): BertLayer(\n",
              "        (attention): BertAttention(\n",
              "          (self): BertSelfAttention(\n",
              "            (query): Linear(in_features=768, out_features=768, bias=True)\n",
              "            (key): Linear(in_features=768, out_features=768, bias=True)\n",
              "            (value): Linear(in_features=768, out_features=768, bias=True)\n",
              "            (dropout): Dropout(p=0.1, inplace=False)\n",
              "          )\n",
              "          (output): BertSelfOutput(\n",
              "            (dense): Linear(in_features=768, out_features=768, bias=True)\n",
              "            (LayerNorm): LayerNorm((768,), eps=1e-12, elementwise_affine=True)\n",
              "            (dropout): Dropout(p=0.1, inplace=False)\n",
              "          )\n",
              "        )\n",
              "        (intermediate): BertIntermediate(\n",
              "          (dense): Linear(in_features=768, out_features=3072, bias=True)\n",
              "          (intermediate_act_fn): GELUActivation()\n",
              "        )\n",
              "        (output): BertOutput(\n",
              "          (dense): Linear(in_features=3072, out_features=768, bias=True)\n",
              "          (LayerNorm): LayerNorm((768,), eps=1e-12, elementwise_affine=True)\n",
              "          (dropout): Dropout(p=0.1, inplace=False)\n",
              "        )\n",
              "      )\n",
              "      (6): BertLayer(\n",
              "        (attention): BertAttention(\n",
              "          (self): BertSelfAttention(\n",
              "            (query): Linear(in_features=768, out_features=768, bias=True)\n",
              "            (key): Linear(in_features=768, out_features=768, bias=True)\n",
              "            (value): Linear(in_features=768, out_features=768, bias=True)\n",
              "            (dropout): Dropout(p=0.1, inplace=False)\n",
              "          )\n",
              "          (output): BertSelfOutput(\n",
              "            (dense): Linear(in_features=768, out_features=768, bias=True)\n",
              "            (LayerNorm): LayerNorm((768,), eps=1e-12, elementwise_affine=True)\n",
              "            (dropout): Dropout(p=0.1, inplace=False)\n",
              "          )\n",
              "        )\n",
              "        (intermediate): BertIntermediate(\n",
              "          (dense): Linear(in_features=768, out_features=3072, bias=True)\n",
              "          (intermediate_act_fn): GELUActivation()\n",
              "        )\n",
              "        (output): BertOutput(\n",
              "          (dense): Linear(in_features=3072, out_features=768, bias=True)\n",
              "          (LayerNorm): LayerNorm((768,), eps=1e-12, elementwise_affine=True)\n",
              "          (dropout): Dropout(p=0.1, inplace=False)\n",
              "        )\n",
              "      )\n",
              "      (7): BertLayer(\n",
              "        (attention): BertAttention(\n",
              "          (self): BertSelfAttention(\n",
              "            (query): Linear(in_features=768, out_features=768, bias=True)\n",
              "            (key): Linear(in_features=768, out_features=768, bias=True)\n",
              "            (value): Linear(in_features=768, out_features=768, bias=True)\n",
              "            (dropout): Dropout(p=0.1, inplace=False)\n",
              "          )\n",
              "          (output): BertSelfOutput(\n",
              "            (dense): Linear(in_features=768, out_features=768, bias=True)\n",
              "            (LayerNorm): LayerNorm((768,), eps=1e-12, elementwise_affine=True)\n",
              "            (dropout): Dropout(p=0.1, inplace=False)\n",
              "          )\n",
              "        )\n",
              "        (intermediate): BertIntermediate(\n",
              "          (dense): Linear(in_features=768, out_features=3072, bias=True)\n",
              "          (intermediate_act_fn): GELUActivation()\n",
              "        )\n",
              "        (output): BertOutput(\n",
              "          (dense): Linear(in_features=3072, out_features=768, bias=True)\n",
              "          (LayerNorm): LayerNorm((768,), eps=1e-12, elementwise_affine=True)\n",
              "          (dropout): Dropout(p=0.1, inplace=False)\n",
              "        )\n",
              "      )\n",
              "      (8): BertLayer(\n",
              "        (attention): BertAttention(\n",
              "          (self): BertSelfAttention(\n",
              "            (query): Linear(in_features=768, out_features=768, bias=True)\n",
              "            (key): Linear(in_features=768, out_features=768, bias=True)\n",
              "            (value): Linear(in_features=768, out_features=768, bias=True)\n",
              "            (dropout): Dropout(p=0.1, inplace=False)\n",
              "          )\n",
              "          (output): BertSelfOutput(\n",
              "            (dense): Linear(in_features=768, out_features=768, bias=True)\n",
              "            (LayerNorm): LayerNorm((768,), eps=1e-12, elementwise_affine=True)\n",
              "            (dropout): Dropout(p=0.1, inplace=False)\n",
              "          )\n",
              "        )\n",
              "        (intermediate): BertIntermediate(\n",
              "          (dense): Linear(in_features=768, out_features=3072, bias=True)\n",
              "          (intermediate_act_fn): GELUActivation()\n",
              "        )\n",
              "        (output): BertOutput(\n",
              "          (dense): Linear(in_features=3072, out_features=768, bias=True)\n",
              "          (LayerNorm): LayerNorm((768,), eps=1e-12, elementwise_affine=True)\n",
              "          (dropout): Dropout(p=0.1, inplace=False)\n",
              "        )\n",
              "      )\n",
              "      (9): BertLayer(\n",
              "        (attention): BertAttention(\n",
              "          (self): BertSelfAttention(\n",
              "            (query): Linear(in_features=768, out_features=768, bias=True)\n",
              "            (key): Linear(in_features=768, out_features=768, bias=True)\n",
              "            (value): Linear(in_features=768, out_features=768, bias=True)\n",
              "            (dropout): Dropout(p=0.1, inplace=False)\n",
              "          )\n",
              "          (output): BertSelfOutput(\n",
              "            (dense): Linear(in_features=768, out_features=768, bias=True)\n",
              "            (LayerNorm): LayerNorm((768,), eps=1e-12, elementwise_affine=True)\n",
              "            (dropout): Dropout(p=0.1, inplace=False)\n",
              "          )\n",
              "        )\n",
              "        (intermediate): BertIntermediate(\n",
              "          (dense): Linear(in_features=768, out_features=3072, bias=True)\n",
              "          (intermediate_act_fn): GELUActivation()\n",
              "        )\n",
              "        (output): BertOutput(\n",
              "          (dense): Linear(in_features=3072, out_features=768, bias=True)\n",
              "          (LayerNorm): LayerNorm((768,), eps=1e-12, elementwise_affine=True)\n",
              "          (dropout): Dropout(p=0.1, inplace=False)\n",
              "        )\n",
              "      )\n",
              "      (10): BertLayer(\n",
              "        (attention): BertAttention(\n",
              "          (self): BertSelfAttention(\n",
              "            (query): Linear(in_features=768, out_features=768, bias=True)\n",
              "            (key): Linear(in_features=768, out_features=768, bias=True)\n",
              "            (value): Linear(in_features=768, out_features=768, bias=True)\n",
              "            (dropout): Dropout(p=0.1, inplace=False)\n",
              "          )\n",
              "          (output): BertSelfOutput(\n",
              "            (dense): Linear(in_features=768, out_features=768, bias=True)\n",
              "            (LayerNorm): LayerNorm((768,), eps=1e-12, elementwise_affine=True)\n",
              "            (dropout): Dropout(p=0.1, inplace=False)\n",
              "          )\n",
              "        )\n",
              "        (intermediate): BertIntermediate(\n",
              "          (dense): Linear(in_features=768, out_features=3072, bias=True)\n",
              "          (intermediate_act_fn): GELUActivation()\n",
              "        )\n",
              "        (output): BertOutput(\n",
              "          (dense): Linear(in_features=3072, out_features=768, bias=True)\n",
              "          (LayerNorm): LayerNorm((768,), eps=1e-12, elementwise_affine=True)\n",
              "          (dropout): Dropout(p=0.1, inplace=False)\n",
              "        )\n",
              "      )\n",
              "      (11): BertLayer(\n",
              "        (attention): BertAttention(\n",
              "          (self): BertSelfAttention(\n",
              "            (query): Linear(in_features=768, out_features=768, bias=True)\n",
              "            (key): Linear(in_features=768, out_features=768, bias=True)\n",
              "            (value): Linear(in_features=768, out_features=768, bias=True)\n",
              "            (dropout): Dropout(p=0.1, inplace=False)\n",
              "          )\n",
              "          (output): BertSelfOutput(\n",
              "            (dense): Linear(in_features=768, out_features=768, bias=True)\n",
              "            (LayerNorm): LayerNorm((768,), eps=1e-12, elementwise_affine=True)\n",
              "            (dropout): Dropout(p=0.1, inplace=False)\n",
              "          )\n",
              "        )\n",
              "        (intermediate): BertIntermediate(\n",
              "          (dense): Linear(in_features=768, out_features=3072, bias=True)\n",
              "          (intermediate_act_fn): GELUActivation()\n",
              "        )\n",
              "        (output): BertOutput(\n",
              "          (dense): Linear(in_features=3072, out_features=768, bias=True)\n",
              "          (LayerNorm): LayerNorm((768,), eps=1e-12, elementwise_affine=True)\n",
              "          (dropout): Dropout(p=0.1, inplace=False)\n",
              "        )\n",
              "      )\n",
              "    )\n",
              "  )\n",
              "  (pooler): BertPooler(\n",
              "    (dense): Linear(in_features=768, out_features=768, bias=True)\n",
              "    (activation): Tanh()\n",
              "  )\n",
              ")"
            ]
          },
          "metadata": {},
          "execution_count": 58
        }
      ]
    },
    {
      "cell_type": "markdown",
      "metadata": {
        "id": "NIWouvDrGVAi"
      },
      "source": [
        "## A.2. Weight Decay\n",
        "\n"
      ]
    },
    {
      "cell_type": "markdown",
      "metadata": {
        "id": "f123ZAlF1OyW"
      },
      "source": [
        "The huggingface example includes the following code block for enabling weight decay, but the default decay rate is \"0.0\", so I moved this to the appendix.\n",
        "\n",
        "This block essentially tells the optimizer to not apply weight decay to the bias terms (e.g., $ b $ in the equation $ y = Wx + b $ ). Weight decay is a form of regularization--after calculating the gradients, we multiply them by, e.g., 0.99."
      ]
    },
    {
      "cell_type": "code",
      "metadata": {
        "id": "QxSMw0FrptiL"
      },
      "source": [
        "# This code is taken from:\n",
        "# https://github.com/huggingface/transformers/blob/5bfcd0485ece086ebcbed2d008813037968a9e58/examples/run_glue.py#L102\n",
        "\n",
        "# Don't apply weight decay to any parameters whose names include these tokens.\n",
        "# (Here, the BERT doesn't have `gamma` or `beta` parameters, only `bias` terms)\n",
        "no_decay = ['bias', 'LayerNorm.weight']\n",
        "\n",
        "# Separate the `weight` parameters from the `bias` parameters. \n",
        "# - For the `weight` parameters, this specifies a 'weight_decay_rate' of 0.01. \n",
        "# - For the `bias` parameters, the 'weight_decay_rate' is 0.0. \n",
        "optimizer_grouped_parameters = [\n",
        "    # Filter for all parameters which *don't* include 'bias', 'gamma', 'beta'.\n",
        "    {'params': [p for n, p in model.named_parameters() if not any(nd in n for nd in no_decay)],\n",
        "     'weight_decay_rate': 0.1},\n",
        "    \n",
        "    # Filter for parameters which *do* include those.\n",
        "    {'params': [p for n, p in model.named_parameters() if any(nd in n for nd in no_decay)],\n",
        "     'weight_decay_rate': 0.0}\n",
        "]\n",
        "\n",
        "# Note - `optimizer_grouped_parameters` only includes the parameter values, not \n",
        "# the names."
      ],
      "execution_count": 54,
      "outputs": []
    },
    {
      "cell_type": "code",
      "source": [
        "optimizer_grouped_parameters[0]"
      ],
      "metadata": {
        "colab": {
          "base_uri": "https://localhost:8080/"
        },
        "id": "Wt2uq3AJkbMw",
        "outputId": "7d70e24c-be29-45f6-9a44-4e64173aa34f"
      },
      "execution_count": 56,
      "outputs": [
        {
          "output_type": "execute_result",
          "data": {
            "text/plain": [
              "{'params': [Parameter containing:\n",
              "  tensor([[ 0.0572,  0.0410,  0.0418,  ..., -0.0093,  0.0087, -0.0015],\n",
              "          [ 0.0530,  0.0282,  0.0274,  ..., -0.0146,  0.0084,  0.0024],\n",
              "          [ 0.0617,  0.0041,  0.0368,  ...,  0.0005, -0.0120, -0.0046],\n",
              "          ...,\n",
              "          [ 0.0324,  0.0460,  0.0023,  ..., -0.0438, -0.0149,  0.0450],\n",
              "          [ 0.0455,  0.0294,  0.0241,  ..., -0.0237, -0.0207,  0.0211],\n",
              "          [ 0.0272,  0.0486,  0.0077,  ...,  0.0108, -0.0339,  0.0175]],\n",
              "         device='cuda:0', requires_grad=True), Parameter containing:\n",
              "  tensor([[-0.0127, -0.0011, -0.0815,  ...,  0.0025, -0.0064, -0.0009],\n",
              "          [-0.0130,  0.0003, -0.0317,  ...,  0.0077, -0.0039, -0.0318],\n",
              "          [ 0.0021, -0.0045, -0.0443,  ...,  0.0027, -0.0080, -0.0208],\n",
              "          ...,\n",
              "          [-0.0314, -0.0266,  0.0172,  ...,  0.0026, -0.0178,  0.0010],\n",
              "          [ 0.0351, -0.0317, -0.0182,  ...,  0.0112, -0.0283,  0.0007],\n",
              "          [-0.0682, -0.0368,  0.0026,  ...,  0.0039, -0.0245, -0.0015]],\n",
              "         device='cuda:0', requires_grad=True), Parameter containing:\n",
              "  tensor([[ 0.0172,  0.0009, -0.0442,  ...,  0.0011,  0.0030, -0.0014],\n",
              "          [ 0.0057,  0.0022, -0.0340,  ..., -0.0006,  0.0065, -0.0015]],\n",
              "         device='cuda:0', requires_grad=True), Parameter containing:\n",
              "  tensor([[ 0.0202,  0.0426,  0.0049,  ...,  0.0037,  0.0528, -0.1035],\n",
              "          [-0.0202,  0.0643,  0.0300,  ...,  0.0326, -0.0222, -0.0015],\n",
              "          [-0.0053, -0.0825, -0.0390,  ..., -0.0428,  0.0132, -0.0124],\n",
              "          ...,\n",
              "          [ 0.0460,  0.0522,  0.0004,  ..., -0.0107,  0.0022,  0.0381],\n",
              "          [-0.0633,  0.0012,  0.0356,  ...,  0.0092, -0.0630,  0.0172],\n",
              "          [-0.0563,  0.0351,  0.0497,  ...,  0.0407,  0.0173,  0.0332]],\n",
              "         device='cuda:0', requires_grad=True), Parameter containing:\n",
              "  tensor([[-0.0212, -0.0540, -0.0690,  ...,  0.0014, -0.0260, -0.0289],\n",
              "          [ 0.0162,  0.0514,  0.0340,  ...,  0.0244, -0.0497,  0.0368],\n",
              "          [ 0.0027,  0.0215,  0.0876,  ...,  0.0194,  0.0066,  0.0100],\n",
              "          ...,\n",
              "          [-0.0484, -0.0730, -0.0188,  ..., -0.0443, -0.0248, -0.0260],\n",
              "          [-0.0229, -0.0083,  0.0235,  ...,  0.0421, -0.0407,  0.0703],\n",
              "          [ 0.0160,  0.1162, -0.0283,  ...,  0.0291, -0.0144,  0.0098]],\n",
              "         device='cuda:0', requires_grad=True), Parameter containing:\n",
              "  tensor([[-0.0184,  0.0190,  0.0368,  ...,  0.0894, -0.0476, -0.0407],\n",
              "          [-0.0330, -0.0124, -0.0113,  ...,  0.0128, -0.0085, -0.0259],\n",
              "          [-0.0075, -0.0351, -0.0468,  ..., -0.0056, -0.0456,  0.1063],\n",
              "          ...,\n",
              "          [-0.0201,  0.0192, -0.0101,  ...,  0.0120, -0.0150, -0.0124],\n",
              "          [ 0.0394,  0.0149,  0.0394,  ...,  0.0179, -0.0115,  0.0410],\n",
              "          [-0.0107,  0.0667,  0.0082,  ...,  0.0056,  0.0161,  0.0272]],\n",
              "         device='cuda:0', requires_grad=True), Parameter containing:\n",
              "  tensor([[-0.0151,  0.1036, -0.0101,  ...,  0.0424, -0.0732,  0.0178],\n",
              "          [ 0.0361,  0.0118, -0.0046,  ..., -0.0217,  0.0623,  0.0130],\n",
              "          [-0.0363, -0.0228,  0.0449,  ..., -0.0466, -0.0454,  0.0231],\n",
              "          ...,\n",
              "          [ 0.0223, -0.0066,  0.0120,  ..., -0.0089,  0.0087,  0.0288],\n",
              "          [-0.0162, -0.0188, -0.0235,  ..., -0.0226,  0.0103, -0.0266],\n",
              "          [ 0.0335, -0.0151,  0.0400,  ..., -0.0069, -0.0322, -0.0314]],\n",
              "         device='cuda:0', requires_grad=True), Parameter containing:\n",
              "  tensor([[-0.0102,  0.0096,  0.0851,  ...,  0.0140, -0.0305, -0.0129],\n",
              "          [-0.0208,  0.0270,  0.0698,  ..., -0.0149,  0.0228, -0.0282],\n",
              "          [-0.0100,  0.0221, -0.0479,  ...,  0.0356,  0.0032, -0.0287],\n",
              "          ...,\n",
              "          [-0.0526, -0.0123,  0.0217,  ..., -0.0627,  0.0525, -0.0596],\n",
              "          [-0.0028,  0.0209,  0.0336,  ..., -0.0532,  0.0129, -0.0188],\n",
              "          [ 0.0896, -0.0104,  0.0109,  ..., -0.0396,  0.0203, -0.0511]],\n",
              "         device='cuda:0', requires_grad=True), Parameter containing:\n",
              "  tensor([[-0.0508, -0.0911,  0.0317,  ...,  0.0090,  0.0215,  0.0035],\n",
              "          [ 0.0180,  0.0186,  0.0151,  ...,  0.0563,  0.0047, -0.0191],\n",
              "          [-0.0396,  0.0251,  0.0090,  ..., -0.0072,  0.0300, -0.0234],\n",
              "          ...,\n",
              "          [-0.0011,  0.0759,  0.0388,  ..., -0.0067,  0.0603,  0.0305],\n",
              "          [-0.0433, -0.0434,  0.0461,  ...,  0.0214,  0.0472,  0.0199],\n",
              "          [ 0.0081, -0.0677, -0.0287,  ...,  0.0284,  0.0299,  0.0056]],\n",
              "         device='cuda:0', requires_grad=True), Parameter containing:\n",
              "  tensor([[ 0.0203, -0.0131, -0.0648,  ...,  0.0319, -0.0003, -0.0171],\n",
              "          [ 0.0566, -0.0120, -0.0036,  ...,  0.0009, -0.0462,  0.0604],\n",
              "          [-0.0649,  0.0206, -0.0284,  ..., -0.0006, -0.0618,  0.0060],\n",
              "          ...,\n",
              "          [ 0.0675, -0.0630, -0.0687,  ..., -0.0031,  0.0225,  0.0290],\n",
              "          [ 0.0776, -0.0207, -0.0158,  ..., -0.0289, -0.0173, -0.0150],\n",
              "          [ 0.0919,  0.0035,  0.0621,  ..., -0.0231, -0.0649,  0.0412]],\n",
              "         device='cuda:0', requires_grad=True), Parameter containing:\n",
              "  tensor([[ 2.1412e-02, -5.2926e-02,  7.3792e-03,  ..., -6.8062e-02,\n",
              "           -7.0170e-03, -3.6343e-03],\n",
              "          [ 6.5877e-03,  1.2800e-02, -7.9615e-03,  ...,  6.7804e-02,\n",
              "            3.7957e-02, -3.8708e-02],\n",
              "          [ 5.1892e-02,  3.9415e-05, -1.6985e-02,  ...,  1.5995e-02,\n",
              "            4.9501e-02,  5.3515e-02],\n",
              "          ...,\n",
              "          [-2.4027e-02, -1.3057e-02, -8.1173e-02,  ...,  1.4724e-02,\n",
              "            1.0191e-02, -1.8495e-03],\n",
              "          [ 6.1591e-02, -2.4192e-02, -1.3842e-02,  ...,  4.4340e-02,\n",
              "            2.8948e-03,  1.2279e-02],\n",
              "          [ 1.5467e-01,  1.3734e-02,  1.0190e-01,  ..., -2.5070e-02,\n",
              "           -1.7676e-02,  8.1163e-03]], device='cuda:0', requires_grad=True), Parameter containing:\n",
              "  tensor([[ 0.0169, -0.0465, -0.0178,  ...,  0.0214, -0.0305,  0.0001],\n",
              "          [-0.0190,  0.0277,  0.0301,  ..., -0.0013, -0.0092, -0.0145],\n",
              "          [-0.0039,  0.0471, -0.0278,  ..., -0.0108, -0.0651, -0.0337],\n",
              "          ...,\n",
              "          [-0.0066, -0.0266, -0.0210,  ...,  0.0145, -0.0020, -0.0575],\n",
              "          [ 0.0206, -0.0070, -0.0764,  ..., -0.0022,  0.0354,  0.0154],\n",
              "          [-0.0164,  0.0121,  0.0235,  ...,  0.0417, -0.0143,  0.0032]],\n",
              "         device='cuda:0', requires_grad=True), Parameter containing:\n",
              "  tensor([[-0.0434,  0.0018,  0.0374,  ...,  0.0618,  0.0113,  0.0130],\n",
              "          [ 0.0743, -0.0255,  0.0203,  ..., -0.0003, -0.0119,  0.0131],\n",
              "          [-0.0230,  0.0351, -0.0083,  ..., -0.0060,  0.0968,  0.0720],\n",
              "          ...,\n",
              "          [-0.0248, -0.0270,  0.0025,  ..., -0.0184, -0.0173,  0.0186],\n",
              "          [-0.0340,  0.0153, -0.0538,  ..., -0.0018,  0.0294,  0.0429],\n",
              "          [-0.0319, -0.0368,  0.0394,  ..., -0.0068,  0.0083, -0.0137]],\n",
              "         device='cuda:0', requires_grad=True), Parameter containing:\n",
              "  tensor([[-0.0185, -0.0338, -0.0282,  ..., -0.0238, -0.0133,  0.0806],\n",
              "          [ 0.0065,  0.0030,  0.0517,  ..., -0.0274,  0.0231, -0.0018],\n",
              "          [ 0.0200, -0.0267, -0.0261,  ..., -0.0018, -0.0314, -0.0444],\n",
              "          ...,\n",
              "          [-0.0010, -0.0047, -0.0541,  ...,  0.0062,  0.0167, -0.0125],\n",
              "          [ 0.0250, -0.0250,  0.0234,  ...,  0.0375, -0.0699, -0.0866],\n",
              "          [-0.0216,  0.0219, -0.0268,  ..., -0.0182, -0.0239,  0.0191]],\n",
              "         device='cuda:0', requires_grad=True), Parameter containing:\n",
              "  tensor([[ 0.0298, -0.0159, -0.0078,  ..., -0.0203, -0.0027, -0.0041],\n",
              "          [ 0.0086, -0.0624,  0.0155,  ..., -0.0498,  0.0088, -0.0574],\n",
              "          [ 0.0004, -0.0563,  0.0230,  ..., -0.0341,  0.0339, -0.0093],\n",
              "          ...,\n",
              "          [-0.0300,  0.0401, -0.0206,  ...,  0.0408, -0.0113,  0.0087],\n",
              "          [ 0.0135,  0.0099, -0.0107,  ..., -0.0014,  0.0072,  0.0001],\n",
              "          [-0.0405, -0.0423, -0.0257,  ...,  0.0386,  0.0331, -0.0586]],\n",
              "         device='cuda:0', requires_grad=True), Parameter containing:\n",
              "  tensor([[ 0.1053,  0.0081, -0.0887,  ..., -0.0003, -0.0159, -0.0070],\n",
              "          [ 0.0934,  0.0113, -0.0448,  ...,  0.0297,  0.0467, -0.1109],\n",
              "          [ 0.0097,  0.0110,  0.0006,  ..., -0.0247,  0.0343, -0.0593],\n",
              "          ...,\n",
              "          [-0.0570, -0.0063, -0.0042,  ..., -0.0461, -0.0136, -0.0296],\n",
              "          [-0.0096,  0.0568,  0.0463,  ...,  0.0263, -0.0404, -0.0341],\n",
              "          [ 0.0218, -0.0082, -0.0643,  ..., -0.0050,  0.0063,  0.0084]],\n",
              "         device='cuda:0', requires_grad=True), Parameter containing:\n",
              "  tensor([[-0.0338, -0.0394,  0.0292,  ...,  0.0655,  0.0202, -0.0484],\n",
              "          [ 0.0399, -0.0200,  0.0162,  ..., -0.0277, -0.0369,  0.0518],\n",
              "          [-0.0586, -0.0283, -0.0585,  ..., -0.0262, -0.0440, -0.0113],\n",
              "          ...,\n",
              "          [-0.0401, -0.0548, -0.0179,  ..., -0.0108, -0.0580, -0.0315],\n",
              "          [ 0.0100,  0.0730,  0.0566,  ...,  0.0483, -0.0268, -0.0487],\n",
              "          [ 0.0620, -0.0066, -0.0129,  ...,  0.0007,  0.0025,  0.0047]],\n",
              "         device='cuda:0', requires_grad=True), Parameter containing:\n",
              "  tensor([[ 0.0222,  0.0153,  0.0004,  ..., -0.0107,  0.0083,  0.0407],\n",
              "          [ 0.0449,  0.0492, -0.0141,  ..., -0.0295,  0.0024,  0.0077],\n",
              "          [ 0.0367,  0.0286,  0.0060,  ..., -0.0384, -0.0435,  0.0024],\n",
              "          ...,\n",
              "          [ 0.0269, -0.0568,  0.0145,  ..., -0.0360,  0.0461, -0.0537],\n",
              "          [ 0.0136, -0.0124,  0.0287,  ..., -0.0340, -0.0224,  0.0014],\n",
              "          [ 0.0266, -0.0066,  0.0122,  ...,  0.0410, -0.0017, -0.0441]],\n",
              "         device='cuda:0', requires_grad=True), Parameter containing:\n",
              "  tensor([[ 0.0247,  0.0473, -0.0297,  ..., -0.0681, -0.1070, -0.0337],\n",
              "          [-0.0283, -0.0135,  0.0060,  ...,  0.0327, -0.0063, -0.0132],\n",
              "          [ 0.0215, -0.0172,  0.0795,  ...,  0.0408, -0.0120, -0.0160],\n",
              "          ...,\n",
              "          [-0.0072,  0.0198, -0.0461,  ...,  0.0074,  0.0268, -0.0183],\n",
              "          [-0.0475, -0.0019, -0.0509,  ..., -0.0114,  0.0383,  0.0056],\n",
              "          [ 0.0119, -0.0454, -0.0070,  ...,  0.0255,  0.0098, -0.0009]],\n",
              "         device='cuda:0', requires_grad=True), Parameter containing:\n",
              "  tensor([[-0.0411, -0.0098,  0.0689,  ..., -0.0125,  0.0058,  0.0239],\n",
              "          [-0.0256,  0.0097,  0.0258,  ..., -0.0308, -0.0460,  0.0074],\n",
              "          [ 0.0265, -0.0012,  0.0166,  ...,  0.0204, -0.0363,  0.0390],\n",
              "          ...,\n",
              "          [-0.0688, -0.0234,  0.0078,  ..., -0.0238,  0.0460,  0.0074],\n",
              "          [ 0.0162,  0.0522, -0.0461,  ..., -0.0099, -0.0304,  0.0266],\n",
              "          [-0.1085, -0.0098, -0.0753,  ..., -0.0168,  0.0204, -0.0411]],\n",
              "         device='cuda:0', requires_grad=True), Parameter containing:\n",
              "  tensor([[-0.0181, -0.0302, -0.0233,  ..., -0.0493, -0.0517,  0.1783],\n",
              "          [-0.0093,  0.0500,  0.0159,  ...,  0.0150,  0.0067,  0.0023],\n",
              "          [ 0.0108, -0.0204,  0.0306,  ...,  0.0122,  0.0533, -0.0166],\n",
              "          ...,\n",
              "          [-0.0026,  0.0009, -0.0248,  ...,  0.0307, -0.0125,  0.0309],\n",
              "          [-0.0818, -0.0015, -0.0369,  ...,  0.0171, -0.0228,  0.0040],\n",
              "          [ 0.0193, -0.0512, -0.0203,  ..., -0.0412,  0.0376,  0.0089]],\n",
              "         device='cuda:0', requires_grad=True), Parameter containing:\n",
              "  tensor([[ 0.0007, -0.0354,  0.0175,  ..., -0.0025,  0.0244,  0.0740],\n",
              "          [-0.0732, -0.0021,  0.0043,  ...,  0.0145,  0.0195, -0.0155],\n",
              "          [-0.0162,  0.0933, -0.0316,  ..., -0.0156, -0.0164,  0.0020],\n",
              "          ...,\n",
              "          [ 0.0118,  0.1005, -0.0486,  ...,  0.0037, -0.0069, -0.0530],\n",
              "          [-0.0597,  0.0229,  0.0737,  ..., -0.0056,  0.0022,  0.0418],\n",
              "          [ 0.0114,  0.0093, -0.0441,  ..., -0.0006, -0.0479,  0.0053]],\n",
              "         device='cuda:0', requires_grad=True), Parameter containing:\n",
              "  tensor([[-0.0158, -0.0255,  0.0588,  ...,  0.0305,  0.0184,  0.0138],\n",
              "          [-0.0053,  0.0194,  0.0451,  ..., -0.0440,  0.0574,  0.0444],\n",
              "          [ 0.0042,  0.0678,  0.0589,  ...,  0.0109, -0.0296,  0.0557],\n",
              "          ...,\n",
              "          [-0.0168, -0.0052,  0.0154,  ...,  0.0622,  0.0301, -0.0311],\n",
              "          [ 0.0017,  0.0232,  0.0376,  ...,  0.0249,  0.0544,  0.0053],\n",
              "          [-0.0754,  0.0252, -0.1378,  ...,  0.0137,  0.0275, -0.0428]],\n",
              "         device='cuda:0', requires_grad=True), Parameter containing:\n",
              "  tensor([[-0.0162,  0.0093,  0.0419,  ..., -0.0509,  0.0759, -0.0581],\n",
              "          [-0.0317, -0.0255,  0.0244,  ..., -0.0089, -0.0006, -0.0122],\n",
              "          [-0.0161,  0.0021,  0.0144,  ...,  0.0113, -0.0173,  0.0013],\n",
              "          ...,\n",
              "          [-0.0151,  0.0290,  0.0459,  ...,  0.0106,  0.0449,  0.0131],\n",
              "          [-0.0154,  0.0007, -0.0059,  ...,  0.0248, -0.0292, -0.0044],\n",
              "          [ 0.0081,  0.0424, -0.0184,  ...,  0.0161,  0.0132, -0.0227]],\n",
              "         device='cuda:0', requires_grad=True), Parameter containing:\n",
              "  tensor([[-0.0081,  0.0112, -0.0398,  ..., -0.0452, -0.0157, -0.0192],\n",
              "          [-0.0002,  0.0767, -0.0030,  ..., -0.0074,  0.0219, -0.0402],\n",
              "          [ 0.0396, -0.0181,  0.0906,  ...,  0.0729, -0.0385,  0.0097],\n",
              "          ...,\n",
              "          [ 0.0326,  0.0050, -0.0620,  ..., -0.0112,  0.0025, -0.0076],\n",
              "          [-0.0140, -0.0136, -0.0622,  ..., -0.0114, -0.0131,  0.0613],\n",
              "          [ 0.0250, -0.0040, -0.0154,  ..., -0.0023, -0.0053,  0.0451]],\n",
              "         device='cuda:0', requires_grad=True), Parameter containing:\n",
              "  tensor([[-0.0433, -0.0562, -0.0484,  ...,  0.0215,  0.0524,  0.0044],\n",
              "          [-0.0425, -0.0193,  0.0133,  ...,  0.0056, -0.0018, -0.0322],\n",
              "          [ 0.0304, -0.0227, -0.0583,  ..., -0.0186, -0.0206,  0.0075],\n",
              "          ...,\n",
              "          [-0.0163,  0.0127,  0.0208,  ..., -0.0092,  0.0166, -0.0311],\n",
              "          [-0.0026,  0.0069,  0.0826,  ..., -0.0071,  0.0136,  0.0270],\n",
              "          [ 0.0805, -0.0119, -0.0570,  ...,  0.0228, -0.0285, -0.0327]],\n",
              "         device='cuda:0', requires_grad=True), Parameter containing:\n",
              "  tensor([[ 0.0274, -0.0148, -0.0268,  ..., -0.0190, -0.0048, -0.0319],\n",
              "          [ 0.0207,  0.0083, -0.0563,  ..., -0.0715, -0.0007,  0.0004],\n",
              "          [ 0.0335, -0.0010, -0.0173,  ...,  0.0182,  0.0208, -0.0124],\n",
              "          ...,\n",
              "          [-0.0202, -0.0002, -0.0187,  ...,  0.0043,  0.0301,  0.0263],\n",
              "          [-0.0162,  0.0257, -0.0349,  ...,  0.0203,  0.0200,  0.0149],\n",
              "          [ 0.0017,  0.0137, -0.0093,  ..., -0.0093, -0.0387, -0.0071]],\n",
              "         device='cuda:0', requires_grad=True), Parameter containing:\n",
              "  tensor([[ 0.0713, -0.0205,  0.0467,  ..., -0.0240, -0.0302,  0.0155],\n",
              "          [-0.0596,  0.0693, -0.0279,  ..., -0.0005,  0.0067,  0.0313],\n",
              "          [-0.0419,  0.0729, -0.0095,  ...,  0.0172,  0.0248, -0.0413],\n",
              "          ...,\n",
              "          [-0.0681, -0.0387, -0.0334,  ...,  0.0055,  0.0960, -0.1191],\n",
              "          [ 0.0453, -0.0042,  0.0171,  ...,  0.0310,  0.0363,  0.0333],\n",
              "          [-0.0425, -0.0183, -0.0358,  ...,  0.0157, -0.0035,  0.0513]],\n",
              "         device='cuda:0', requires_grad=True), Parameter containing:\n",
              "  tensor([[ 0.0494, -0.0175,  0.0741,  ..., -0.0095, -0.0131,  0.0610],\n",
              "          [-0.0811,  0.0127, -0.0312,  ...,  0.0295, -0.0115, -0.0246],\n",
              "          [ 0.0353,  0.0629,  0.0474,  ...,  0.0272,  0.0096, -0.0014],\n",
              "          ...,\n",
              "          [ 0.0808, -0.0084, -0.0500,  ..., -0.0506,  0.0342, -0.0318],\n",
              "          [ 0.0111, -0.0428,  0.0068,  ...,  0.0237,  0.0226,  0.0331],\n",
              "          [ 0.0052, -0.0434, -0.0578,  ...,  0.0472,  0.0283, -0.0891]],\n",
              "         device='cuda:0', requires_grad=True), Parameter containing:\n",
              "  tensor([[ 0.0744,  0.0580,  0.0568,  ..., -0.0423,  0.0465, -0.0401],\n",
              "          [-0.0734, -0.0219,  0.0415,  ..., -0.0894, -0.0311,  0.0226],\n",
              "          [ 0.0668, -0.0066,  0.0344,  ...,  0.0547, -0.0097,  0.0172],\n",
              "          ...,\n",
              "          [-0.0301, -0.0097,  0.0692,  ..., -0.0394,  0.0417,  0.0598],\n",
              "          [ 0.0641, -0.0011,  0.0498,  ...,  0.0661,  0.0367, -0.0005],\n",
              "          [-0.0080,  0.0224,  0.0201,  ...,  0.0352, -0.0233,  0.0408]],\n",
              "         device='cuda:0', requires_grad=True), Parameter containing:\n",
              "  tensor([[-0.0411,  0.0606, -0.0372,  ..., -0.0175, -0.0201,  0.0334],\n",
              "          [-0.0167, -0.0016,  0.0274,  ...,  0.0154,  0.0061,  0.0351],\n",
              "          [-0.0551, -0.1016, -0.0978,  ...,  0.0316, -0.0267,  0.0275],\n",
              "          ...,\n",
              "          [-0.0021,  0.0560, -0.0610,  ...,  0.0031, -0.0244,  0.0244],\n",
              "          [-0.0196, -0.0331,  0.0221,  ...,  0.0045, -0.0266,  0.0662],\n",
              "          [ 0.0149, -0.0163,  0.0286,  ..., -0.0194,  0.0176, -0.0356]],\n",
              "         device='cuda:0', requires_grad=True), Parameter containing:\n",
              "  tensor([[ 0.0137, -0.0530,  0.0256,  ...,  0.0367,  0.0437,  0.0024],\n",
              "          [ 0.0151,  0.0536, -0.0290,  ...,  0.0172,  0.0095,  0.0185],\n",
              "          [ 0.0270,  0.0100, -0.0059,  ..., -0.0200, -0.0427, -0.0334],\n",
              "          ...,\n",
              "          [ 0.0056, -0.0670, -0.0188,  ..., -0.0328,  0.0424, -0.0700],\n",
              "          [-0.0475, -0.0136, -0.0025,  ..., -0.0331,  0.0050, -0.0327],\n",
              "          [-0.0328,  0.0473, -0.0344,  ..., -0.0538, -0.0058,  0.0532]],\n",
              "         device='cuda:0', requires_grad=True), Parameter containing:\n",
              "  tensor([[-0.0143,  0.0360,  0.0277,  ..., -0.0134,  0.0220,  0.0341],\n",
              "          [ 0.0148, -0.0048, -0.0689,  ..., -0.0068,  0.0375,  0.0876],\n",
              "          [ 0.0187,  0.0295, -0.0719,  ..., -0.0330,  0.0288, -0.0009],\n",
              "          ...,\n",
              "          [ 0.0174,  0.0205, -0.0025,  ...,  0.0100, -0.0233, -0.0155],\n",
              "          [ 0.0571,  0.0337,  0.0148,  ...,  0.0419,  0.0425, -0.0616],\n",
              "          [ 0.0337,  0.0163,  0.0002,  ..., -0.0313, -0.0042, -0.0435]],\n",
              "         device='cuda:0', requires_grad=True), Parameter containing:\n",
              "  tensor([[ 0.0299,  0.0129,  0.0266,  ..., -0.0141,  0.0286, -0.0173],\n",
              "          [ 0.0122,  0.0646, -0.0071,  ..., -0.0430, -0.0154,  0.0055],\n",
              "          [ 0.1110, -0.0649,  0.0679,  ..., -0.0226, -0.0631,  0.0116],\n",
              "          ...,\n",
              "          [ 0.0172,  0.0021,  0.1361,  ..., -0.0342, -0.0373, -0.0453],\n",
              "          [-0.0328,  0.0230, -0.0574,  ..., -0.0575,  0.0238, -0.0288],\n",
              "          [ 0.0461,  0.0235,  0.0056,  ..., -0.0225,  0.0231, -0.0241]],\n",
              "         device='cuda:0', requires_grad=True), Parameter containing:\n",
              "  tensor([[ 0.0109,  0.0837, -0.0276,  ..., -0.0182,  0.0306, -0.0184],\n",
              "          [ 0.0530,  0.0959,  0.0573,  ..., -0.0673,  0.0014, -0.0402],\n",
              "          [ 0.0837,  0.0062,  0.1771,  ..., -0.0657, -0.0590, -0.1288],\n",
              "          ...,\n",
              "          [ 0.0127, -0.0297, -0.0617,  ..., -0.0990, -0.1003,  0.0086],\n",
              "          [-0.0088,  0.0523, -0.0190,  ...,  0.0008,  0.0495, -0.0077],\n",
              "          [ 0.0165,  0.0311,  0.1473,  ..., -0.0320, -0.0053, -0.0464]],\n",
              "         device='cuda:0', requires_grad=True), Parameter containing:\n",
              "  tensor([[ 0.0668,  0.0494,  0.0080,  ..., -0.0333,  0.0422,  0.0369],\n",
              "          [-0.0047,  0.0015,  0.0464,  ..., -0.0147, -0.0335,  0.0041],\n",
              "          [-0.0266,  0.0173, -0.0263,  ..., -0.0207, -0.0480,  0.0188],\n",
              "          ...,\n",
              "          [ 0.0137,  0.0153, -0.1037,  ...,  0.0436, -0.0843,  0.0035],\n",
              "          [ 0.0220,  0.0128,  0.0544,  ..., -0.0082, -0.0977,  0.0431],\n",
              "          [ 0.0542, -0.0212, -0.0939,  ..., -0.0197, -0.0392,  0.0246]],\n",
              "         device='cuda:0', requires_grad=True), Parameter containing:\n",
              "  tensor([[-0.0718, -0.1268, -0.1072,  ..., -0.0527,  0.0432, -0.0417],\n",
              "          [ 0.0197,  0.0006,  0.0178,  ...,  0.0196, -0.0531, -0.0296],\n",
              "          [-0.0322,  0.0168,  0.0074,  ...,  0.0375, -0.0180,  0.0267],\n",
              "          ...,\n",
              "          [-0.0406, -0.0099, -0.0282,  ..., -0.0119,  0.0228, -0.0302],\n",
              "          [ 0.0695, -0.0105, -0.0440,  ...,  0.0275, -0.0224,  0.0585],\n",
              "          [ 0.0447,  0.0190, -0.0102,  ..., -0.0163, -0.0008,  0.0641]],\n",
              "         device='cuda:0', requires_grad=True), Parameter containing:\n",
              "  tensor([[-0.0553, -0.0365, -0.0758,  ..., -0.0116, -0.0384,  0.0054],\n",
              "          [ 0.0106,  0.0585, -0.1203,  ...,  0.0942,  0.0264,  0.0919],\n",
              "          [ 0.0017,  0.0641,  0.0412,  ...,  0.0072, -0.0533,  0.0493],\n",
              "          ...,\n",
              "          [-0.0009,  0.0140, -0.0328,  ..., -0.0208,  0.0318, -0.0279],\n",
              "          [ 0.0780, -0.0229, -0.0161,  ...,  0.0207,  0.0787,  0.0633],\n",
              "          [ 0.0397, -0.0114,  0.0286,  ...,  0.0048,  0.0517,  0.0046]],\n",
              "         device='cuda:0', requires_grad=True), Parameter containing:\n",
              "  tensor([[-0.0327,  0.1149, -0.0017,  ..., -0.0270, -0.0146, -0.0633],\n",
              "          [ 0.0674,  0.0594,  0.0628,  ..., -0.0329, -0.0095, -0.0102],\n",
              "          [ 0.1193, -0.0362,  0.0079,  ..., -0.0199, -0.0130, -0.0907],\n",
              "          ...,\n",
              "          [-0.0243,  0.0514,  0.0040,  ..., -0.0472, -0.0068, -0.0386],\n",
              "          [-0.0037, -0.0629,  0.0271,  ..., -0.0250, -0.0442,  0.0107],\n",
              "          [ 0.0146,  0.0201,  0.0040,  ...,  0.0549, -0.0258, -0.0062]],\n",
              "         device='cuda:0', requires_grad=True), Parameter containing:\n",
              "  tensor([[-0.0425,  0.0890, -0.0569,  ...,  0.1091,  0.1871,  0.0369],\n",
              "          [ 0.2059,  0.0818, -0.0338,  ...,  0.0763,  0.0097,  0.0273],\n",
              "          [ 0.0138,  0.1471, -0.0876,  ..., -0.0575, -0.0719, -0.0406],\n",
              "          ...,\n",
              "          [ 0.0014, -0.0043, -0.0347,  ...,  0.0096, -0.0345, -0.0194],\n",
              "          [-0.0802, -0.0250, -0.0195,  ...,  0.0080,  0.0257,  0.0283],\n",
              "          [ 0.0383,  0.0481,  0.0025,  ..., -0.0590, -0.0876, -0.0691]],\n",
              "         device='cuda:0', requires_grad=True), Parameter containing:\n",
              "  tensor([[-0.0431, -0.0101, -0.0363,  ...,  0.0479, -0.0574, -0.0485],\n",
              "          [-0.0379,  0.1199, -0.0078,  ...,  0.0711, -0.0097,  0.0112],\n",
              "          [ 0.0246,  0.0002, -0.0857,  ..., -0.0157,  0.0109,  0.0113],\n",
              "          ...,\n",
              "          [-0.0134,  0.0472,  0.0066,  ...,  0.0438,  0.0045, -0.0799],\n",
              "          [ 0.0675, -0.0392, -0.0734,  ...,  0.0392, -0.0121, -0.0073],\n",
              "          [ 0.0992, -0.0005, -0.0585,  ...,  0.0418, -0.0615, -0.0062]],\n",
              "         device='cuda:0', requires_grad=True), Parameter containing:\n",
              "  tensor([[-0.0859, -0.0305,  0.0652,  ..., -0.0211,  0.0148,  0.0014],\n",
              "          [-0.0882,  0.0222,  0.0535,  ...,  0.0428,  0.0104, -0.0073],\n",
              "          [ 0.0601, -0.0105,  0.0354,  ...,  0.0154, -0.0197,  0.0324],\n",
              "          ...,\n",
              "          [ 0.0709, -0.0233, -0.0717,  ...,  0.0205, -0.0399,  0.0329],\n",
              "          [ 0.0133, -0.0031, -0.0111,  ...,  0.0326, -0.0298,  0.0134],\n",
              "          [-0.0562,  0.0068, -0.0617,  ...,  0.0050, -0.0059,  0.0013]],\n",
              "         device='cuda:0', requires_grad=True), Parameter containing:\n",
              "  tensor([[-7.6219e-02, -1.4077e-01,  5.1708e-02,  ...,  3.0568e-02,\n",
              "           -2.1226e-02,  1.5548e-04],\n",
              "          [-1.8412e-02,  1.2292e-02, -5.8459e-02,  ..., -2.5343e-02,\n",
              "            2.9240e-02, -2.0918e-02],\n",
              "          [-2.7558e-02,  2.8386e-02,  1.0949e-01,  ..., -8.0446e-02,\n",
              "           -4.1203e-03,  8.7042e-03],\n",
              "          ...,\n",
              "          [-4.8087e-02, -2.8390e-02,  3.5496e-02,  ..., -4.6541e-02,\n",
              "            3.0678e-02, -1.2742e-02],\n",
              "          [ 2.1392e-02, -5.5390e-02,  2.1319e-02,  ..., -6.8770e-02,\n",
              "            4.6276e-02, -3.5097e-03],\n",
              "          [-1.0926e-02,  5.1351e-02, -1.6895e-03,  ..., -2.1241e-02,\n",
              "            8.8406e-05, -2.3564e-02]], device='cuda:0', requires_grad=True), Parameter containing:\n",
              "  tensor([[ 0.0121,  0.0293, -0.0728,  ..., -0.0421,  0.0803, -0.0362],\n",
              "          [ 0.0041,  0.0382, -0.0612,  ...,  0.0215,  0.0291, -0.0242],\n",
              "          [-0.0063,  0.0263, -0.0600,  ..., -0.0529,  0.0218,  0.0188],\n",
              "          ...,\n",
              "          [ 0.0175,  0.0565,  0.0198,  ...,  0.0160, -0.0676, -0.0422],\n",
              "          [ 0.0018,  0.0339,  0.0513,  ..., -0.0228,  0.0153,  0.0113],\n",
              "          [-0.0095, -0.0224, -0.0101,  ...,  0.0179, -0.0118,  0.0049]],\n",
              "         device='cuda:0', requires_grad=True), Parameter containing:\n",
              "  tensor([[ 0.0088,  0.0444,  0.0230,  ..., -0.0486, -0.0368, -0.0170],\n",
              "          [ 0.0033,  0.0195, -0.0534,  ..., -0.0275, -0.0342,  0.0294],\n",
              "          [ 0.0224,  0.0068, -0.0345,  ...,  0.0007, -0.0666, -0.0248],\n",
              "          ...,\n",
              "          [-0.0012,  0.0133, -0.0257,  ..., -0.0169,  0.0231,  0.0147],\n",
              "          [ 0.0281,  0.0017,  0.0065,  ...,  0.0028, -0.0028, -0.0154],\n",
              "          [-0.0299,  0.0172,  0.0027,  ...,  0.0167,  0.0105, -0.0225]],\n",
              "         device='cuda:0', requires_grad=True), Parameter containing:\n",
              "  tensor([[ 0.0166, -0.0927, -0.0096,  ...,  0.0037,  0.0145, -0.0026],\n",
              "          [-0.0942,  0.0122, -0.0078,  ..., -0.0820,  0.0226,  0.0125],\n",
              "          [-0.0122,  0.0278,  0.0368,  ...,  0.0110, -0.0207, -0.0227],\n",
              "          ...,\n",
              "          [ 0.0348, -0.0262, -0.0690,  ..., -0.0552, -0.0827, -0.0546],\n",
              "          [-0.0808, -0.0172,  0.0274,  ...,  0.0454, -0.0398, -0.0328],\n",
              "          [ 0.0778,  0.1427,  0.0355,  ..., -0.0190, -0.0114,  0.0664]],\n",
              "         device='cuda:0', requires_grad=True), Parameter containing:\n",
              "  tensor([[ 0.0578,  0.0651,  0.0493,  ..., -0.0353, -0.0095, -0.0156],\n",
              "          [-0.0223,  0.0065, -0.0792,  ..., -0.0301, -0.0163, -0.0136],\n",
              "          [ 0.0659, -0.0799, -0.0811,  ...,  0.0462, -0.0422, -0.0469],\n",
              "          ...,\n",
              "          [ 0.0340,  0.0105,  0.0699,  ...,  0.0544,  0.0017,  0.0639],\n",
              "          [-0.0181, -0.0508, -0.0436,  ..., -0.0423, -0.0936, -0.0955],\n",
              "          [ 0.0797, -0.0471, -0.0256,  ...,  0.0559,  0.0250, -0.0953]],\n",
              "         device='cuda:0', requires_grad=True), Parameter containing:\n",
              "  tensor([[-0.1183, -0.0278, -0.0161,  ..., -0.0564, -0.0120,  0.0294],\n",
              "          [ 0.1126, -0.0010, -0.0654,  ..., -0.0057, -0.0387,  0.0115],\n",
              "          [ 0.0354, -0.0601,  0.0522,  ..., -0.0104, -0.0302,  0.0144],\n",
              "          ...,\n",
              "          [ 0.0230,  0.0342, -0.0500,  ..., -0.0017, -0.0049, -0.0326],\n",
              "          [-0.0774, -0.0115,  0.0187,  ...,  0.0007,  0.0209, -0.0093],\n",
              "          [-0.0155,  0.0125, -0.0189,  ...,  0.0276, -0.0246,  0.0604]],\n",
              "         device='cuda:0', requires_grad=True), Parameter containing:\n",
              "  tensor([[ 0.0615, -0.0986, -0.0574,  ...,  0.0591, -0.0274, -0.0218],\n",
              "          [ 0.0497,  0.0063,  0.0145,  ...,  0.0287,  0.0239,  0.0160],\n",
              "          [-0.0688, -0.0217, -0.0698,  ...,  0.0364,  0.0132, -0.0928],\n",
              "          ...,\n",
              "          [ 0.0439, -0.0309,  0.0532,  ..., -0.0058,  0.0153,  0.0005],\n",
              "          [-0.0174, -0.0055,  0.0228,  ...,  0.0034,  0.0342,  0.0279],\n",
              "          [-0.0065,  0.0311, -0.0323,  ...,  0.0346, -0.0317, -0.0096]],\n",
              "         device='cuda:0', requires_grad=True), Parameter containing:\n",
              "  tensor([[ 0.0023, -0.0071, -0.0332,  ...,  0.0056, -0.0233, -0.0013],\n",
              "          [ 0.0179,  0.0335, -0.0225,  ...,  0.0030,  0.0306, -0.0030],\n",
              "          [ 0.0090, -0.0137,  0.0639,  ..., -0.0480,  0.1034, -0.0806],\n",
              "          ...,\n",
              "          [-0.0006,  0.0587, -0.0243,  ...,  0.0244,  0.0598, -0.1044],\n",
              "          [-0.0400,  0.0235,  0.0260,  ...,  0.0288, -0.0678, -0.0374],\n",
              "          [-0.1274,  0.0687, -0.0809,  ...,  0.0362,  0.0083,  0.0018]],\n",
              "         device='cuda:0', requires_grad=True), Parameter containing:\n",
              "  tensor([[-0.0450,  0.0776,  0.0491,  ..., -0.0127, -0.0590,  0.1016],\n",
              "          [-0.0005,  0.0021,  0.0324,  ..., -0.0030,  0.0387, -0.0622],\n",
              "          [ 0.0194, -0.0205,  0.0336,  ..., -0.0891,  0.0049,  0.0364],\n",
              "          ...,\n",
              "          [-0.0160, -0.0158,  0.0139,  ..., -0.0020, -0.0168, -0.0361],\n",
              "          [ 0.0116, -0.0239,  0.0591,  ...,  0.0308, -0.0294, -0.0322],\n",
              "          [-0.0112,  0.0112, -0.0842,  ..., -0.0934, -0.0456,  0.0262]],\n",
              "         device='cuda:0', requires_grad=True), Parameter containing:\n",
              "  tensor([[-0.1003,  0.0766, -0.0040,  ...,  0.0991, -0.0111,  0.0289],\n",
              "          [ 0.0671, -0.0338, -0.0088,  ...,  0.0244, -0.0380, -0.0214],\n",
              "          [ 0.0043, -0.0688, -0.0604,  ...,  0.0869, -0.0200, -0.0940],\n",
              "          ...,\n",
              "          [-0.0989,  0.0286, -0.0315,  ...,  0.0155, -0.0232,  0.0656],\n",
              "          [-0.0217, -0.0361, -0.0283,  ...,  0.0076, -0.0568,  0.0035],\n",
              "          [-0.0191,  0.1016, -0.0083,  ..., -0.0401, -0.0176, -0.0011]],\n",
              "         device='cuda:0', requires_grad=True), Parameter containing:\n",
              "  tensor([[ 0.0106,  0.0274,  0.0222,  ...,  0.0621, -0.0516,  0.0177],\n",
              "          [ 0.0464,  0.0678,  0.0506,  ...,  0.0151,  0.0390,  0.0581],\n",
              "          [ 0.0268, -0.0822, -0.0628,  ...,  0.0241,  0.0576, -0.0907],\n",
              "          ...,\n",
              "          [ 0.0800, -0.0240, -0.0102,  ...,  0.0211,  0.0195,  0.0563],\n",
              "          [ 0.0771, -0.0504, -0.0559,  ...,  0.0080, -0.0653, -0.0278],\n",
              "          [ 0.1027, -0.0415,  0.0138,  ...,  0.0461, -0.0885, -0.0042]],\n",
              "         device='cuda:0', requires_grad=True), Parameter containing:\n",
              "  tensor([[-0.0137,  0.0045, -0.0384,  ...,  0.0210,  0.0176,  0.0461],\n",
              "          [ 0.0523,  0.0015, -0.0376,  ..., -0.0280, -0.0023,  0.0341],\n",
              "          [-0.0863, -0.0002, -0.0023,  ...,  0.0103,  0.0251,  0.0113],\n",
              "          ...,\n",
              "          [-0.0834, -0.0069, -0.0040,  ..., -0.0048,  0.0104,  0.0308],\n",
              "          [-0.0117,  0.0205, -0.0277,  ...,  0.0607,  0.0388, -0.0157],\n",
              "          [-0.0925, -0.0991, -0.0122,  ..., -0.0118,  0.0070, -0.0196]],\n",
              "         device='cuda:0', requires_grad=True), Parameter containing:\n",
              "  tensor([[-0.0319,  0.0584, -0.0838,  ...,  0.0594,  0.0449,  0.0461],\n",
              "          [ 0.0425, -0.0049, -0.0379,  ..., -0.0335, -0.0034,  0.0288],\n",
              "          [ 0.0233, -0.0128, -0.0124,  ..., -0.0220,  0.0514, -0.0800],\n",
              "          ...,\n",
              "          [ 0.0037, -0.0847, -0.0125,  ..., -0.0427,  0.0158,  0.0358],\n",
              "          [ 0.0526, -0.0659,  0.0408,  ..., -0.0168,  0.0356, -0.0003],\n",
              "          [ 0.0003,  0.0599, -0.0494,  ..., -0.0223, -0.0256,  0.0019]],\n",
              "         device='cuda:0', requires_grad=True), Parameter containing:\n",
              "  tensor([[ 0.0405, -0.0458,  0.0241,  ...,  0.0223,  0.0082,  0.0417],\n",
              "          [ 0.0306, -0.0450, -0.0367,  ...,  0.0494,  0.0299, -0.0131],\n",
              "          [-0.0238,  0.0303, -0.0367,  ...,  0.0058, -0.0884,  0.0154],\n",
              "          ...,\n",
              "          [ 0.0676, -0.0651,  0.0016,  ...,  0.0385,  0.0095,  0.0587],\n",
              "          [-0.0441,  0.0159,  0.0280,  ...,  0.0122,  0.0232,  0.0284],\n",
              "          [-0.0521, -0.0659, -0.0580,  ...,  0.1099,  0.0027,  0.0133]],\n",
              "         device='cuda:0', requires_grad=True), Parameter containing:\n",
              "  tensor([[-0.0171,  0.0240,  0.0159,  ...,  0.0639,  0.0416, -0.0077],\n",
              "          [-0.0093,  0.0264, -0.0445,  ..., -0.0315, -0.0146, -0.0191],\n",
              "          [-0.0227,  0.0249, -0.0712,  ..., -0.0428, -0.0343, -0.0288],\n",
              "          ...,\n",
              "          [ 0.0178, -0.0094,  0.0206,  ...,  0.0426, -0.0397,  0.0761],\n",
              "          [-0.0224, -0.0356, -0.0066,  ...,  0.0487,  0.0229,  0.1011],\n",
              "          [-0.0374, -0.0127, -0.0090,  ...,  0.0098,  0.0386,  0.0444]],\n",
              "         device='cuda:0', requires_grad=True), Parameter containing:\n",
              "  tensor([[ 0.0312, -0.0936,  0.0437,  ...,  0.0235,  0.0151, -0.0174],\n",
              "          [ 0.0055, -0.1080, -0.0139,  ...,  0.0262,  0.0162, -0.0496],\n",
              "          [-0.0253,  0.0094,  0.0205,  ..., -0.0443,  0.0391, -0.0505],\n",
              "          ...,\n",
              "          [ 0.0699,  0.0681,  0.0319,  ...,  0.0370,  0.0246, -0.1345],\n",
              "          [ 0.0436,  0.0717,  0.0356,  ...,  0.0359, -0.0879,  0.0303],\n",
              "          [-0.0310,  0.0578, -0.0081,  ...,  0.0185, -0.0336,  0.0565]],\n",
              "         device='cuda:0', requires_grad=True), Parameter containing:\n",
              "  tensor([[ 0.0708,  0.0548, -0.0775,  ..., -0.0363, -0.0644, -0.0236],\n",
              "          [-0.0933,  0.0332, -0.0768,  ...,  0.0689,  0.0263, -0.0524],\n",
              "          [-0.0473,  0.0305, -0.0017,  ..., -0.0598, -0.0771,  0.0405],\n",
              "          ...,\n",
              "          [-0.0332,  0.0820, -0.0475,  ..., -0.0488,  0.0392, -0.0387],\n",
              "          [ 0.0107, -0.0352,  0.0164,  ...,  0.0418,  0.0489, -0.0073],\n",
              "          [-0.0158, -0.0185, -0.0760,  ...,  0.0242, -0.0558, -0.0182]],\n",
              "         device='cuda:0', requires_grad=True), Parameter containing:\n",
              "  tensor([[-0.0023, -0.0213, -0.0301,  ...,  0.0423,  0.0233,  0.0086],\n",
              "          [ 0.0281, -0.0233, -0.0065,  ..., -0.0423,  0.0165, -0.0266],\n",
              "          [ 0.0021, -0.0389, -0.0022,  ...,  0.0472, -0.1039, -0.0555],\n",
              "          ...,\n",
              "          [-0.0033,  0.0020,  0.0726,  ...,  0.0365,  0.0110, -0.0327],\n",
              "          [-0.0648, -0.0082,  0.0207,  ..., -0.0652, -0.0663,  0.0153],\n",
              "          [ 0.0080, -0.0148, -0.0667,  ..., -0.0572, -0.0386, -0.0799]],\n",
              "         device='cuda:0', requires_grad=True), Parameter containing:\n",
              "  tensor([[ 0.0605,  0.0803,  0.0650,  ...,  0.0409,  0.0253,  0.0157],\n",
              "          [ 0.0149, -0.0404, -0.0412,  ..., -0.0218,  0.0113, -0.0425],\n",
              "          [-0.0493,  0.0501, -0.0070,  ..., -0.0369, -0.0197, -0.0176],\n",
              "          ...,\n",
              "          [ 0.0148, -0.0234,  0.0203,  ..., -0.0074,  0.0149,  0.0487],\n",
              "          [-0.0193,  0.0365, -0.0179,  ...,  0.0309,  0.0589,  0.0715],\n",
              "          [ 0.0102, -0.0227,  0.0578,  ...,  0.0411, -0.0360,  0.0486]],\n",
              "         device='cuda:0', requires_grad=True), Parameter containing:\n",
              "  tensor([[-4.3169e-02,  7.0868e-02, -2.0988e-02,  ..., -2.6673e-02,\n",
              "            3.6702e-03,  7.1637e-02],\n",
              "          [-8.2207e-03,  2.1979e-02, -6.6150e-02,  ...,  3.6422e-02,\n",
              "            9.8188e-02, -1.7778e-02],\n",
              "          [ 2.0612e-03,  1.6152e-02,  3.0681e-02,  ..., -1.1069e-02,\n",
              "            2.4652e-05,  5.7165e-02],\n",
              "          ...,\n",
              "          [-2.1077e-02, -3.1151e-02, -4.5751e-03,  ...,  7.7778e-02,\n",
              "           -8.2802e-03, -3.8017e-02],\n",
              "          [-4.0408e-02, -3.2673e-02,  1.4580e-02,  ..., -9.7254e-03,\n",
              "           -6.7046e-03,  7.5666e-02],\n",
              "          [-6.1509e-02,  5.3841e-02, -7.0484e-02,  ...,  7.4254e-02,\n",
              "           -1.0625e-01,  6.9650e-02]], device='cuda:0', requires_grad=True), Parameter containing:\n",
              "  tensor([[-0.0177,  0.0488, -0.0044,  ..., -0.0512, -0.0201,  0.0214],\n",
              "          [-0.0145,  0.0154,  0.0264,  ..., -0.0468,  0.0323,  0.0538],\n",
              "          [-0.0016, -0.0793, -0.0144,  ...,  0.0269,  0.0077, -0.0551],\n",
              "          ...,\n",
              "          [-0.0112, -0.0201, -0.0063,  ..., -0.0410,  0.0564,  0.0616],\n",
              "          [-0.0092,  0.0289,  0.0123,  ...,  0.0662,  0.0578, -0.0556],\n",
              "          [ 0.0495, -0.0088, -0.0358,  ...,  0.0126,  0.0330,  0.0379]],\n",
              "         device='cuda:0', requires_grad=True), Parameter containing:\n",
              "  tensor([[-0.0251, -0.0613, -0.0158,  ...,  0.0163, -0.0270,  0.0283],\n",
              "          [-0.0681,  0.0116, -0.0242,  ..., -0.0328,  0.0051,  0.0964],\n",
              "          [ 0.0456,  0.0140,  0.0341,  ..., -0.0984,  0.0646,  0.0761],\n",
              "          ...,\n",
              "          [ 0.1501,  0.0438,  0.0572,  ..., -0.0175,  0.0547, -0.0623],\n",
              "          [-0.0442,  0.0193,  0.0205,  ...,  0.0611,  0.0224, -0.0386],\n",
              "          [ 0.0185,  0.0026, -0.0442,  ..., -0.0529,  0.0269, -0.0117]],\n",
              "         device='cuda:0', requires_grad=True), Parameter containing:\n",
              "  tensor([[-0.0152,  0.0474,  0.0112,  ...,  0.0324, -0.0073,  0.0687],\n",
              "          [ 0.0025, -0.0473, -0.0284,  ...,  0.0017, -0.0356, -0.0530],\n",
              "          [ 0.0132,  0.0164, -0.0095,  ..., -0.0436,  0.0403, -0.0389],\n",
              "          ...,\n",
              "          [ 0.0400,  0.0449,  0.0208,  ..., -0.0309, -0.0149, -0.0378],\n",
              "          [-0.0120, -0.0917,  0.0700,  ...,  0.0549, -0.0272, -0.0191],\n",
              "          [-0.0448,  0.0544,  0.0637,  ..., -0.0627, -0.0005, -0.1332]],\n",
              "         device='cuda:0', requires_grad=True), Parameter containing:\n",
              "  tensor([[ 0.0118,  0.0196, -0.0433,  ..., -0.0104, -0.0182, -0.0219],\n",
              "          [-0.0198, -0.0064, -0.0145,  ..., -0.0589,  0.0112, -0.0530],\n",
              "          [ 0.0330,  0.0262,  0.0160,  ...,  0.0198, -0.0148,  0.0255],\n",
              "          ...,\n",
              "          [ 0.0088, -0.0329,  0.0080,  ..., -0.0119, -0.0222,  0.0582],\n",
              "          [-0.0090,  0.0007, -0.0105,  ..., -0.0266, -0.0131, -0.0273],\n",
              "          [ 0.0257, -0.0319, -0.0079,  ..., -0.0325,  0.0102,  0.0195]],\n",
              "         device='cuda:0', requires_grad=True), Parameter containing:\n",
              "  tensor([[ 0.0108,  0.0126, -0.0104,  ...,  0.0103, -0.0253,  0.0302],\n",
              "          [-0.0258,  0.0271,  0.0099,  ...,  0.0097,  0.0048, -0.0239],\n",
              "          [-0.0023, -0.0241,  0.0253,  ...,  0.0032,  0.0385, -0.0043],\n",
              "          ...,\n",
              "          [-0.0455, -0.0456,  0.0031,  ..., -0.0466, -0.0616,  0.0252],\n",
              "          [-0.0125, -0.0186, -0.0427,  ...,  0.0355, -0.0255, -0.0202],\n",
              "          [ 0.0160,  0.0180,  0.0207,  ...,  0.0104, -0.0402,  0.0192]],\n",
              "         device='cuda:0', requires_grad=True), Parameter containing:\n",
              "  tensor([[ 1.4963e-03, -3.8024e-02,  3.9413e-02,  ..., -4.0782e-02,\n",
              "            4.4918e-02,  1.0442e-02],\n",
              "          [ 1.1050e-02, -2.3272e-02, -1.1569e-02,  ...,  8.2633e-02,\n",
              "            1.4442e-02,  1.9819e-02],\n",
              "          [-1.3956e-03, -3.7898e-02, -4.7531e-02,  ...,  4.0071e-02,\n",
              "           -4.0900e-02, -9.2630e-03],\n",
              "          ...,\n",
              "          [-7.2817e-03,  8.6863e-04, -4.3651e-02,  ...,  1.9914e-02,\n",
              "            1.5625e-02,  7.8974e-02],\n",
              "          [-2.3128e-02,  1.6801e-02, -9.4270e-02,  ...,  7.2098e-03,\n",
              "            1.7358e-03, -9.8366e-05],\n",
              "          [-4.9649e-02, -4.8519e-03,  1.2063e-02,  ..., -4.5173e-03,\n",
              "            1.2637e-02, -1.0410e-02]], device='cuda:0', requires_grad=True), Parameter containing:\n",
              "  tensor([[-0.0051, -0.0401,  0.0728,  ..., -0.0185,  0.0521,  0.0079],\n",
              "          [ 0.0157,  0.0068,  0.0215,  ...,  0.0164,  0.0202,  0.0011],\n",
              "          [ 0.0077,  0.0403,  0.0533,  ..., -0.0139,  0.0477, -0.0314],\n",
              "          ...,\n",
              "          [-0.0110, -0.0063, -0.0209,  ...,  0.0454,  0.0255,  0.0127],\n",
              "          [ 0.0057,  0.0602, -0.0168,  ..., -0.0054, -0.0593, -0.0268],\n",
              "          [ 0.0030, -0.0037, -0.0455,  ..., -0.0095,  0.0726, -0.0167]],\n",
              "         device='cuda:0', requires_grad=True), Parameter containing:\n",
              "  tensor([[ 0.1057, -0.0241, -0.1004,  ..., -0.0254,  0.0198,  0.0104],\n",
              "          [-0.0392,  0.0511, -0.0295,  ...,  0.0642, -0.0270, -0.0181],\n",
              "          [ 0.0195, -0.0135,  0.0406,  ..., -0.0788,  0.0692,  0.0216],\n",
              "          ...,\n",
              "          [ 0.0494, -0.0659, -0.1112,  ..., -0.0779, -0.0231,  0.0059],\n",
              "          [ 0.0415, -0.0292, -0.0177,  ...,  0.0199,  0.0958, -0.0202],\n",
              "          [-0.0999,  0.0156, -0.0450,  ...,  0.0158,  0.0252, -0.0577]],\n",
              "         device='cuda:0', requires_grad=True), Parameter containing:\n",
              "  tensor([[-0.0100,  0.0362,  0.0174,  ..., -0.0143,  0.0314,  0.0144],\n",
              "          [ 0.0090, -0.0103, -0.0293,  ...,  0.0209, -0.0334,  0.0370],\n",
              "          [-0.0224,  0.0025,  0.0427,  ...,  0.0046,  0.0691, -0.0465],\n",
              "          ...,\n",
              "          [ 0.0748, -0.0579, -0.0619,  ..., -0.0682,  0.0097, -0.0379],\n",
              "          [-0.0135,  0.0411,  0.0878,  ..., -0.0272,  0.0503, -0.0694],\n",
              "          [-0.0198, -0.0226,  0.0062,  ...,  0.0425, -0.0451, -0.0770]],\n",
              "         device='cuda:0', requires_grad=True), Parameter containing:\n",
              "  tensor([[ 0.0179,  0.0360, -0.0131,  ..., -0.0231, -0.0600,  0.0636],\n",
              "          [-0.0296, -0.0002,  0.0533,  ..., -0.0032,  0.0362,  0.0294],\n",
              "          [-0.0208, -0.0038, -0.0205,  ..., -0.0586, -0.0306,  0.0129],\n",
              "          ...,\n",
              "          [-0.0048,  0.0117, -0.0315,  ...,  0.0182, -0.0156,  0.0406],\n",
              "          [ 0.0064,  0.0080, -0.0482,  ..., -0.0104, -0.0002, -0.0472],\n",
              "          [ 0.0429,  0.0775,  0.0166,  ..., -0.0616, -0.0335, -0.0611]],\n",
              "         device='cuda:0', requires_grad=True), Parameter containing:\n",
              "  tensor([[ 0.0126, -0.0073,  0.0012,  ..., -0.0445, -0.0449,  0.0221],\n",
              "          [-0.0276, -0.0427, -0.0291,  ..., -0.0214,  0.0011,  0.0497],\n",
              "          [-0.0357, -0.0021,  0.0191,  ..., -0.0169, -0.0193,  0.0518],\n",
              "          ...,\n",
              "          [ 0.0554, -0.0238,  0.0498,  ...,  0.0652, -0.0147, -0.0608],\n",
              "          [ 0.0104,  0.0269, -0.0162,  ...,  0.0016, -0.0252, -0.0373],\n",
              "          [-0.0338, -0.0302, -0.0468,  ..., -0.0090, -0.0171,  0.0049]],\n",
              "         device='cuda:0', requires_grad=True), Parameter containing:\n",
              "  tensor([[-0.0388, -0.0777,  0.0518,  ..., -0.0055, -0.0192,  0.1245],\n",
              "          [ 0.0019, -0.0301,  0.0489,  ...,  0.0860, -0.0294,  0.0097],\n",
              "          [ 0.0209,  0.0230, -0.0731,  ...,  0.0207, -0.0341, -0.0264],\n",
              "          ...,\n",
              "          [-0.0404,  0.0436,  0.0062,  ...,  0.0184,  0.0248,  0.0157],\n",
              "          [-0.0708,  0.0114, -0.0175,  ...,  0.0433,  0.0195, -0.0046],\n",
              "          [ 0.0075, -0.0044, -0.0327,  ..., -0.0090, -0.0150, -0.0156]],\n",
              "         device='cuda:0', requires_grad=True), Parameter containing:\n",
              "  tensor([[ 0.0059,  0.0129, -0.0626,  ...,  0.0177,  0.0013,  0.0129],\n",
              "          [ 0.0210,  0.0526,  0.0208,  ...,  0.0111, -0.0352,  0.0194],\n",
              "          [-0.0633, -0.0087,  0.0092,  ..., -0.0244, -0.0093,  0.0075],\n",
              "          ...,\n",
              "          [-0.0040, -0.0369, -0.0255,  ...,  0.0080,  0.0020,  0.0054],\n",
              "          [ 0.0255, -0.0494,  0.0135,  ..., -0.0027,  0.0260,  0.0138],\n",
              "          [ 0.0094,  0.0220,  0.0046,  ..., -0.0337,  0.0288,  0.0417]],\n",
              "         device='cuda:0', requires_grad=True), Parameter containing:\n",
              "  tensor([[ 0.0286,  0.0127, -0.0091,  ...,  0.0337, -0.0267,  0.0153],\n",
              "          [ 0.0127, -0.0041, -0.0119,  ...,  0.0208, -0.0224, -0.0229],\n",
              "          [ 0.0256, -0.0339,  0.0147,  ...,  0.0021,  0.0455,  0.0180],\n",
              "          ...,\n",
              "          [ 0.0098, -0.0294, -0.0103,  ..., -0.0092,  0.0261, -0.0062],\n",
              "          [ 0.0113, -0.0164, -0.0046,  ..., -0.0110,  0.0106, -0.0128],\n",
              "          [-0.0259,  0.0122,  0.0023,  ..., -0.0084,  0.0051, -0.0149]],\n",
              "         device='cuda:0', requires_grad=True), Parameter containing:\n",
              "  tensor([[ 0.0240, -0.0492, -0.0053,  ...,  0.0142, -0.0110, -0.0323],\n",
              "          [ 0.0041,  0.0013, -0.0012,  ...,  0.0037, -0.0037, -0.0090],\n",
              "          [ 0.0053,  0.0118, -0.0152,  ..., -0.0151, -0.0439,  0.0255],\n",
              "          [ 0.0047,  0.0109,  0.0345,  ...,  0.0249,  0.0199,  0.0133],\n",
              "          [-0.0029,  0.0063, -0.0068,  ..., -0.0060, -0.0097, -0.0039]],\n",
              "         device='cuda:0', requires_grad=True)],\n",
              " 'weight_decay_rate': 0.1}"
            ]
          },
          "metadata": {},
          "execution_count": 56
        }
      ]
    },
    {
      "cell_type": "markdown",
      "source": [],
      "metadata": {
        "id": "qg6Ef0FskHq4"
      }
    }
  ]
}